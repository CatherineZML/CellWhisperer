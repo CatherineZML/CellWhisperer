{
 "cells": [
  {
   "cell_type": "code",
   "execution_count": null,
   "id": "c6a8e84e-431f-48ba-864f-21eab364de79",
   "metadata": {},
   "outputs": [],
   "source": [
    "import anndata\n",
    "import pandas as pd\n",
    "from pathlib import Path\n",
    "import json\n",
    "import shortuuid\n"
   ]
  },
  {
   "cell_type": "code",
   "execution_count": null,
   "id": "88b649d5-6c0f-4999-a3d3-0db9a1542a56",
   "metadata": {},
   "outputs": [],
   "source": [
    "# Top genes\n",
    "top_genes = pd.concat([pd.read_parquet(fn) for fn in snakemake.input.top_genes])"
   ]
  },
  {
   "cell_type": "code",
   "execution_count": null,
   "id": "d163e895-6e8b-4339-b396-f8ed836cc57c",
   "metadata": {},
   "outputs": [],
   "source": [
    "# Annotations\n",
    "annots_combined = []\n",
    "for fn in snakemake.input.full_data:  # [\"archs4_geo\", \"cellxgene_census\"]\n",
    "    adata = anndata.read_h5ad(fn, backed=\"r\")\n",
    "    try:\n",
    "        annots = adata.obsm[\"natural_language_annotation_replicates\"][\"1\"]\n",
    "    except KeyError:\n",
    "        annots = adata.obs[\"natural_language_annotation\"]\n",
    "    annots_combined.append(annots)\n",
    "annots_combined = pd.concat(annots_combined)"
   ]
  },
  {
   "cell_type": "code",
   "execution_count": null,
   "id": "187c34c8-e06e-45b2-b970-257ba0d1310b",
   "metadata": {},
   "outputs": [],
   "source": [
    "gene_sets = pd.concat([pd.read_parquet(fn).set_index(\"Unnamed: 0\") for fn in snakemake.input.gsva], axis=1)\n",
    "gene_sets = gene_sets.loc[:, gene_sets.columns != \"library\"].T"
   ]
  },
  {
   "cell_type": "code",
   "execution_count": null,
   "id": "f6e6e30d-67ca-4ff9-be58-fc1b4f144c28",
   "metadata": {},
   "outputs": [],
   "source": [
    "request_template = Path(snakemake.input.request_template).read_text()"
   ]
  },
  {
   "cell_type": "code",
   "execution_count": null,
   "id": "89cce8e3-4532-460f-af20-5650eab94c10",
   "metadata": {},
   "outputs": [],
   "source": [
    "request_template"
   ]
  },
  {
   "cell_type": "code",
   "execution_count": null,
   "id": "43752a69-dab6-4ac3-b8f4-e33fbd085d1c",
   "metadata": {},
   "outputs": [],
   "source": [
    "reference_information = {\n",
    "    sample_id: request_template.format(\n",
    "        annotation=annots_combined.loc[sample_id],\n",
    "        top_gene_sets=\", \".join(gene_sets.loc[sample_id].sort_values(ascending=False).iloc[:snakemake.params.top_n_gene_sets].index\n",
    "),\n",
    "        top_genes=\", \".join(top_genes.loc[sample_id].iloc[:snakemake.params.top_n_genes].values)\n",
    "    )\n",
    "    for sample_id in gene_sets.index\n",
    "}"
   ]
  },
  {
   "cell_type": "code",
   "execution_count": null,
   "id": "eb6b4216",
   "metadata": {},
   "outputs": [],
   "source": [
    "\n",
    "with open(snakemake.input.evaluation_dataset) as f:\n",
    "    data = json.load(f)"
   ]
  },
  {
   "cell_type": "code",
   "execution_count": null,
   "id": "3d1e5bf0-1524-4b3e-8520-3acea2d3b7f4",
   "metadata": {},
   "outputs": [],
   "source": [
    "structured_questions = []\n",
    "with open(snakemake.output.formatted_questions, 'w') as qf, open(snakemake.output.formatted_questions_with_top_genes, 'w') as qf_topgenes, open(snakemake.output.formatted_questions_with_top_genes_gene_sets, 'w') as qf_topgenes_genesets,  open(snakemake.output.formatted_questions_text_only, 'w') as qf_textonly, open(snakemake.output.reference_responses, \"w\") as rf:\n",
    "    for i, d in enumerate(data):   \n",
    "        question_id = f\"{i+1}_{d['id']}\"\n",
    "        question = d[\"conversations\"][0][\"value\"].replace(\"<image>\", \"\").strip(\"\\n\")  # stripping to adhere to llava's codebase\n",
    "        reference_info_i = reference_information[d[\"image\"]]\n",
    "        sample_annot = annots_combined.loc[d[\"image\"]]\n",
    "        top_gene_sets = \", \".join(gene_sets.loc[d[\"image\"]].sort_values(ascending=False).iloc[:snakemake.params.top_n_gene_sets].index\n",
    ")\n",
    "        top_genes_i=\", \".join(top_genes.loc[d[\"image\"]].iloc[:snakemake.params.top_n_genes].values)\n",
    "        \n",
    "        json.dump({\n",
    "            \"question_id\": question_id,\n",
    "            \"reference\": reference_info_i,\n",
    "            \"text\": question,\n",
    "            \"image\": d[\"image\"],\n",
    "        }, qf)\n",
    "        qf.write(\"\\n\")\n",
    "\n",
    "        json.dump({\n",
    "            \"question_id\": question_id,\n",
    "            \"reference\": reference_info_i,\n",
    "            \"text\": [snakemake.params.instruction_prompt, snakemake.params.instruction_response.format(top_genes=top_genes_i), question],\n",
    "            \"image\": d[\"image\"],\n",
    "        }, qf_topgenes)\n",
    "        qf_topgenes.write(\"\\n\")\n",
    "        \n",
    "        json.dump({\n",
    "            \"question_id\": question_id,\n",
    "            \"reference\": reference_info_i,\n",
    "            \"text\": [snakemake.params.instruction_prompt, snakemake.params.instruction_response.format(top_genes=top_genes_i) + snakemake.params.instruction_response_gene_sets_extension.format(top_gene_sets=top_gene_sets), question],\n",
    "            \"image\": d[\"image\"],\n",
    "        }, qf_topgenes_genesets)\n",
    "        qf_topgenes_genesets.write(\"\\n\")\n",
    "                \n",
    "        json.dump({\n",
    "            \"question_id\": question_id,\n",
    "            \"reference\": reference_info_i,\n",
    "            \"text\": snakemake.params.instruction_prompt_text_only.format(top_genes=top_genes_i, question=question),\n",
    "            \"image\": d[\"image\"],\n",
    "        }, qf_textonly)\n",
    "        qf_textonly.write(\"\\n\")\n",
    "\n",
    "        json.dump({\"question_id\": question_id,\n",
    "                               \"text\": d[\"conversations\"][1][\"value\"],\n",
    "                               \"answer_id\": shortuuid.uuid(),\n",
    "                               \"model_id\": \"gpt-4_with_input_text_and_curation\",\n",
    "                               \"metadata\": {}}, rf)\n",
    "        rf.write(\"\\n\")"
   ]
  }
 ],
 "metadata": {
  "kernelspec": {
   "display_name": "Python 3 (ipykernel)",
   "language": "python",
   "name": "python3"
  },
  "language_info": {
   "codemirror_mode": {
    "name": "ipython",
    "version": 3
   },
   "file_extension": ".py",
   "mimetype": "text/x-python",
   "name": "python",
   "nbconvert_exporter": "python",
   "pygments_lexer": "ipython3",
   "version": "3.10.14"
  }
 },
 "nbformat": 4,
 "nbformat_minor": 5
}
