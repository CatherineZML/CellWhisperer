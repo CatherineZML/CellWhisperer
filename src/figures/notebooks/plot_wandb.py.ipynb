{
 "cells": [
  {
   "cell_type": "code",
   "execution_count": null,
   "id": "6460de95",
   "metadata": {},
   "outputs": [],
   "source": [
    "# start coding here\n",
    "from cellwhisperer.config import get_path"
   ]
  },
  {
   "cell_type": "code",
   "execution_count": null,
   "id": "bc71c9f0-6dfa-4345-af33-65a75f9a7e74",
   "metadata": {},
   "outputs": [],
   "source": [
    "# start coding here\n",
    "\n",
    "import matplotlib.pyplot as plt\n",
    "import seaborn\n",
    "import matplotlib\n",
    "import pandas as pd\n",
    "\n",
    "df = pd.read_csv(snakemake.input.csv, index_col=0)\n",
    "df[\"valfn_human_disease_dedup/recall_at_5_macroAvg\"] = df[\"valfn_human_disease_strictly_deduplicated_dmis-lab_biobert-v1.1_CLS_pooling/transcriptomes_as_classes_recall_at_5_macroAvg\"] + df[\"valfn_human_disease_strictly_deduplicated_dmis-lab_biobert-v1.1_CLS_pooling/text_as_classes_recall_at_5_macroAvg\"]\n",
    "df = df.loc[:, snakemake.params.metrics]\n",
    "\n",
    "df[\"run_config\"] = df.index.map(lambda x: x.rsplit(\"_\", 1)[0])\n",
    "# df[\"seed\"] = df.index.map(lambda x: x.rsplit(\"_\", 1)[1]).astype(int)\n",
    "df = df.melt(var_name=\"metric\", value_name=\"value\", id_vars=[\"run_config\"])\n",
    "\n",
    "# 0-1 normalize each metric across all configs and seeds\n",
    "df[\"normalized_value\"] = df.groupby(\"metric\")[\"value\"].transform(lambda x: (x - x.min()) / (x.max() - x.min()))\n"
   ]
  },
  {
   "cell_type": "code",
   "execution_count": null,
   "id": "56b95012-f16b-4a97-808b-4363d2d5cf8f",
   "metadata": {},
   "outputs": [],
   "source": [
    "import pandas as pd\n",
    "import seaborn as sns\n",
    "import matplotlib.pyplot as plt\n",
    "\n",
    "# Calculate means\n",
    "means = df.groupby('run_config')['normalized_value'].mean().reset_index()\n",
    "\n",
    "# Sort the means\n",
    "sorted_means = means.sort_values('normalized_value')\n",
    "\n",
    "# Order the DataFrame based on the sorted means\n",
    "df['run_config'] = pd.Categorical(df['run_config'], categories=sorted_means['run_config'], ordered=True)\n",
    "df = df.sort_values('run_config')\n",
    "\n",
    "# Now plot with seaborn\n",
    "fig, ax = plt.subplots(figsize=(6, 3))\n",
    "sns.barplot(data=df, y=\"run_config\", x=\"normalized_value\", ax=ax, color='gray')\n",
    "sns.stripplot(data=df, y=\"run_config\", x=\"normalized_value\", ax=ax, hue=\"metric\")\n",
    "\n",
    "ax.set(xlim=[0,1], xlabel=\"0-1-normalized scores\")\n",
    "# Set the x-tick labels with rotation\n",
    "# ax.set_xticklabels(ax.get_xticklabels(), rotation=30, ha=\"right\")\n",
    "\n",
    "# Use tight_layout to adjust the plot\n",
    "plt.tight_layout()\n",
    "\n",
    "fig.savefig(snakemake.output.all_models_comparison)"
   ]
  },
  {
   "cell_type": "code",
   "execution_count": null,
   "id": "556b98ae-9534-460f-998a-132dd5e7f77d",
   "metadata": {},
   "outputs": [],
   "source": [
    "import matplotlib.pyplot as plt\n",
    "import seaborn\n",
    "\n",
    "# Assuming df and get_path are defined elsewhere in your code\n",
    "# matplotlib.style.use(get_path([\"plot_style\"]))\n",
    "fig, ax = plt.subplots(figsize=(4, 4))\n",
    "\n",
    "df[\"run_config\"] = df[\"run_config\"].astype(str)\n",
    "\n",
    "seaborn.lineplot(\n",
    "    data=df[df.run_config.isin(snakemake.params.top_models\n",
    "                              )],\n",
    "    x=\"metric\",\n",
    "    y=\"normalized_value\",\n",
    "    hue=\"run_config\",\n",
    "    ax=ax\n",
    ")\n",
    "\n",
    "ax.set(xlabel=\"\", ylabel=\"Normalized value\", ylim=(0, 1))\n",
    "ax.set_xticklabels(ax.get_xticklabels(), rotation=45, ha=\"right\")\n",
    "\n",
    "# Set the legend to display in multiple columns, for example, 2 columns\n",
    "legend = ax.legend(ncol=2, loc='lower center', fancybox=True)\n",
    "\n",
    "\n",
    "plt.tight_layout()\n",
    "# fig.savefig(snakemake.output.top_models_metrics_details)\n"
   ]
  },
  {
   "cell_type": "code",
   "execution_count": null,
   "id": "93dfefb0-9169-4fcd-bc5c-055f4e979e2c",
   "metadata": {},
   "outputs": [],
   "source": [
    "from IPython.core.display import HTML, Image"
   ]
  },
  {
   "cell_type": "code",
   "execution_count": null,
   "id": "e87c722f-4596-4c8a-a428-efe4a49c8727",
   "metadata": {},
   "outputs": [],
   "source": [
    "import plotly.express as px\n",
    "import pandas as pd\n",
    "\n",
    "plot_df = df[df.run_config.isin(snakemake.params.top_models) & (~df.isna().any(axis=1))].groupby([\"run_config\", \"metric\"])[\"normalized_value\"].mean().dropna().to_frame().reset_index()\n",
    "\n",
    "\n",
    "fig = px.line_polar(plot_df, r='normalized_value', theta='metric', color=\"run_config\", line_close=True, \n",
    "                   color_discrete_map={\n",
    "                       \"no_census_data\": \"#123456\",\n",
    "                       \"no_archs4_data\": \"#654321\",\n",
    "                       \"scgpt\": \"#216543\",\n",
    "                       # \"full_model\":  \n",
    "                   })\n",
    "fig.update_layout(polar = dict(radialaxis = dict(showticklabels = False)))\n",
    "fig.update_layout(polar = dict(radialaxis = dict(visible = False)))\n",
    "fig.update_traces(fill='toself')\n",
    "\n",
    "fig.write_image(snakemake.output.top_models_metrics_details + \".png\", width=600, height=300, scale=1)\n",
    "fig.write_image(snakemake.output.top_models_metrics_details, width=600, height=300, scale=1)\n",
    "# HTML(fig.to_html())\n",
    "Image(snakemake.output.top_models_metrics_details + \".png\")"
   ]
  }
 ],
 "metadata": {
  "kernelspec": {
   "display_name": "Python 3 (ipykernel)",
   "language": "python",
   "name": "python3"
  },
  "language_info": {
   "codemirror_mode": {
    "name": "ipython",
    "version": 3
   },
   "file_extension": ".py",
   "mimetype": "text/x-python",
   "name": "python",
   "nbconvert_exporter": "python",
   "pygments_lexer": "ipython3",
   "version": "3.10.13"
  }
 },
 "nbformat": 4,
 "nbformat_minor": 5
}
