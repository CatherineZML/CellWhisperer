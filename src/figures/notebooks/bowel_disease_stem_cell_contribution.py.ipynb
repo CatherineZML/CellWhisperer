{
 "cells": [
  {
   "cell_type": "code",
   "execution_count": null,
   "id": "8fad4168",
   "metadata": {},
   "outputs": [],
   "source": [
    "# start coding here\n",
    "import numpy as np\n",
    "from cellwhisperer.jointemb.cellwhisperer_lightning import TranscriptomeTextDualEncoderLightning\n",
    "from cellwhisperer.utils.model_io import load_cellwhisperer_model\n",
    "from cellwhisperer.utils.inference import score_transcriptomes_vs_texts\n",
    "import pandas as pd\n",
    "from scipy.stats import pearsonr\n",
    "from tqdm.auto import tqdm\n",
    "import torch\n",
    "import anndata\n",
    "import matplotlib\n",
    "import matplotlib.pyplot as plt\n",
    "\n",
    "matplotlib.style.use(snakemake.input.mpl_style)\n"
   ]
  },
  {
   "cell_type": "code",
   "execution_count": null,
   "id": "d033ce95-cd07-4ad3-94a9-836b44bbb58e",
   "metadata": {},
   "outputs": [],
   "source": [
    "data = anndata.read_h5ad(snakemake.input.dataset)\n",
    "pl_model, tokenizer, transcriptome_processor = load_cellwhisperer_model(snakemake.input.model)"
   ]
  },
  {
   "cell_type": "code",
   "execution_count": null,
   "id": "e50b8691-6aa5-4fd2-b4ff-2748fd612cf0",
   "metadata": {},
   "outputs": [],
   "source": [
    "if snakemake.wildcards.target_cluster != \"\":\n",
    "    data = data[data.obs.cluster_label == snakemake.wildcards.target_cluster]"
   ]
  },
  {
   "cell_type": "code",
   "execution_count": null,
   "id": "660bf451-dfd2-41e0-96ca-a96d920e313d",
   "metadata": {},
   "outputs": [],
   "source": [
    "transcriptome_embeds = torch.from_numpy(data.obsm[\"transcriptome_embeds\"])\n",
    "\n",
    "text_embeds = pl_model.model.embed_texts([snakemake.params.search_term])\n",
    "\n",
    "scores, _ = score_transcriptomes_vs_texts(\n",
    "    transcriptome_input=transcriptome_embeds,\n",
    "    text_list_or_text_embeds=text_embeds,\n",
    "    logit_scale=pl_model.model.discriminator.temperature.exp().item(),\n",
    "    average_mode=None,\n",
    "    batch_size=64,\n",
    "    score_norm_method=None,\n",
    "    grouping_keys=None, # data.obs[obs_index_col_name].astype(str).values,\n",
    ")\n",
    "series = pd.Series(scores[0].cpu().detach())\n"
   ]
  },
  {
   "cell_type": "code",
   "execution_count": null,
   "id": "c7d567a4-bcf4-4c72-a9b6-6548228aac9d",
   "metadata": {},
   "outputs": [],
   "source": [
    "obs = data.obs.copy()"
   ]
  },
  {
   "cell_type": "code",
   "execution_count": null,
   "id": "02932568-144a-40d1-b9bb-8d5251cb8292",
   "metadata": {},
   "outputs": [],
   "source": [
    "obs[\"stem_cell_response\"] = series.values"
   ]
  },
  {
   "cell_type": "code",
   "execution_count": null,
   "id": "022dca1e-1fc1-4979-83c7-00cb2e3da8db",
   "metadata": {},
   "outputs": [],
   "source": [
    "obs.condition.value_counts()"
   ]
  },
  {
   "cell_type": "code",
   "execution_count": null,
   "id": "d9038cc3-cf43-4599-9be7-818392650437",
   "metadata": {},
   "outputs": [],
   "source": [
    "import seaborn as sns\n",
    "\n",
    "fig, ax = plt.subplots(figsize=(1.4, 1.3))\n",
    "\n",
    "palette = dict(zip([\"inflamed\", \"healthy\", \"non-inflamed\"], [\"orange\", \"SkyBlue\", \"LightGreen\"]))\n",
    "\n",
    "\n",
    "sns.ecdfplot(data=obs, x=\"stem_cell_response\", hue=\"condition\", ax=ax, palette=palette)"
   ]
  },
  {
   "cell_type": "code",
   "execution_count": null,
   "id": "4af9e3e7-ab2a-40aa-99e0-03a660b86706",
   "metadata": {},
   "outputs": [],
   "source": [
    "fig, ax = plt.subplots(figsize=(3, 1))\n",
    "sns.violinplot(data=obs.query(\"condition.isin(['inflamed', 'non-inflamed'])\"), x=\"stem_cell_response\", y=\"condition\", legend=False, order=[\"inflamed\", \"non-inflamed\"], color=\"gray\")\n",
    "\n",
    "fig.savefig(snakemake.output.plot)"
   ]
  },
  {
   "cell_type": "code",
   "execution_count": null,
   "id": "7064081c-11fd-46ca-bcb2-bd20ea1daf79",
   "metadata": {},
   "outputs": [],
   "source": [
    "obs[obs.condition.isin(['inflamed', 'non-inflamed'])]"
   ]
  },
  {
   "cell_type": "code",
   "execution_count": null,
   "id": "92eb52a8-1778-43b3-883c-d25c2888fe1c",
   "metadata": {},
   "outputs": [],
   "source": [
    "from scipy.stats import ks_2samp\n",
    "\n",
    "stat, pval = ks_2samp(obs.loc[obs.condition == \"inflamed\", \"stem_cell_response\"], obs.loc[obs.condition == \"non-inflamed\", \"stem_cell_response\"])\n",
    "\n",
    "print(stat, pval)"
   ]
  },
  {
   "cell_type": "code",
   "execution_count": null,
   "id": "1eb3dc73-880b-42a8-87d5-189b366c14df",
   "metadata": {},
   "outputs": [],
   "source": []
  }
 ],
 "metadata": {
  "kernelspec": {
   "display_name": "Python 3 (ipykernel)",
   "language": "python",
   "name": "python3"
  },
  "language_info": {
   "codemirror_mode": {
    "name": "ipython",
    "version": 3
   },
   "file_extension": ".py",
   "mimetype": "text/x-python",
   "name": "python",
   "nbconvert_exporter": "python",
   "pygments_lexer": "ipython3",
   "version": "3.10.13"
  }
 },
 "nbformat": 4,
 "nbformat_minor": 5
}
