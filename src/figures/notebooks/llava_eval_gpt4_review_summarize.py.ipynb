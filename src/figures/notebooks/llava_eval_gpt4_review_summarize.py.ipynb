{
 "cells": [
  {
   "cell_type": "code",
   "execution_count": null,
   "id": "437f79f3",
   "metadata": {},
   "outputs": [],
   "source": [
    "# start coding here\n",
    "import logging\n",
    "import json\n",
    "import os\n",
    "from collections import defaultdict\n",
    "\n",
    "import seaborn as sns\n",
    "import pandas as pd\n",
    "import anndata\n",
    "import matplotlib\n",
    "\n",
    "import numpy as np\n",
    "\n",
    "\n",
    "# setup snakemake logging\n",
    "logging.basicConfig(\n",
    "    level=logging.INFO,\n",
    "    format=\"%(asctime)s - %(name)s - %(levelname)s - %(message)s\",\n",
    "    handlers=[logging.FileHandler(snakemake.log[0]), logging.StreamHandler()],  # type: ignore [reportUndefinedVariable]\n",
    ")\n",
    "\n",
    "matplotlib.style.use(snakemake.input.mpl_style)"
   ]
  },
  {
   "cell_type": "code",
   "execution_count": null,
   "id": "8f711e8f-8bd9-4db3-8aed-8bfadebebdf1",
   "metadata": {},
   "outputs": [],
   "source": [
    "reviews = []\n",
    "with open(snakemake.input.evaluation) as f:\n",
    "    for review_str in f:\n",
    "        review = json.loads(review_str)\n",
    "        review[\"gpt4_all_info\"] = review[\"scores\"].pop(\"generation_reference_responses\")\n",
    "        review[\"CellWhisperer\"] = review[\"scores\"].pop(\"generation_llava_responses\")\n",
    "        # review[\"llava_with_top_genes\"] = review[\"scores\"].pop(\"generation_llava_responses_with_top_genes\")\n",
    "        # review[\"llava_with_top_genes_genesets\"] = review[\"scores\"].pop(\"generation_llava_responses_with_top_genes_gene_sets\")\n",
    "        review[\"llava_text_only\"] = review[\"scores\"].pop(\"generation_llava_responses_text_only\")\n",
    "        review[\"gpt4_top_genes\"] = review[\"scores\"].pop(\"generation_gpt4transcriptome_responses\")\n",
    "        review[\"dataset\"] = \"archs4_geo\" if \"SRX\" in review[\"question_id\"] else \"cellxgene_census\"\n",
    "        del review[\"scores\"]\n",
    "        review[\"answer_ids\"] = tuple(review[\"answer_ids\"])\n",
    "        reviews.append(review)\n",
    "df = pd.DataFrame(reviews).set_index(\"id\")\n",
    "df_metadata = df[[\"question_id\", \"answer_ids\", \"content\", \"category\", \"dataset\"]].copy()\n",
    "df = df.drop(columns=[\"question_id\", \"answer_ids\", \"content\", \"category\", \"dataset\"])\n"
   ]
  },
  {
   "cell_type": "code",
   "execution_count": null,
   "id": "ae5faf34-d857-4756-8517-6b01e568b6d8",
   "metadata": {},
   "outputs": [],
   "source": [
    "normed_df = df.divide(df[\"gpt4_all_info\"], axis=0)\n",
    "normed_df"
   ]
  },
  {
   "cell_type": "code",
   "execution_count": null,
   "id": "fc6d87b8-0b54-4a74-bb01-ef1450fb0de2",
   "metadata": {},
   "outputs": [],
   "source": [
    "# plot it\n",
    "ax = sns.violinplot(data=df.melt(var_name=\"llm_type\", value_name=\"scores\"), x=\"llm_type\", y=\"scores\")\n",
    "# ax.set(ylim=[0, 1])\n",
    "ax.set_xticklabels(ax.get_xticklabels(), ha=\"right\", rotation=15)"
   ]
  },
  {
   "cell_type": "code",
   "execution_count": null,
   "id": "5ca14b05-90d9-4389-af91-fd1b4a1920c9",
   "metadata": {},
   "outputs": [],
   "source": [
    "plot_df = normed_df.drop(columns=[\"gpt4_all_info\"]).melt(var_name=\"llm_type\", value_name=\"normalized_score\")\n",
    "plot_df.head()"
   ]
  },
  {
   "cell_type": "code",
   "execution_count": null,
   "id": "6f4779c0-39e5-4a60-aa8c-461bcb37127c",
   "metadata": {},
   "outputs": [],
   "source": [
    "\n",
    "ax = sns.barplot(data=plot_df, x=\"llm_type\", y=\"normalized_score\")\n",
    "# ax.set(ylim=[0, 1])"
   ]
  },
  {
   "cell_type": "code",
   "execution_count": null,
   "id": "1bd69ba1-04d0-4267-8b31-cdc7166e4dba",
   "metadata": {},
   "outputs": [],
   "source": [
    "# TODO test the failed ones\n",
    "# df[df.normed < 0.5].iloc[5][\"content\"]\n"
   ]
  },
  {
   "cell_type": "code",
   "execution_count": null,
   "id": "f065d191-39af-40bf-8ccc-bcb44a274df2",
   "metadata": {},
   "outputs": [],
   "source": [
    "df_metadata.join(df).loc[df.CellWhisperer < 4].iloc[0]"
   ]
  },
  {
   "cell_type": "code",
   "execution_count": null,
   "id": "c2e03e24-1b5c-40c9-b75c-1654d12c5b23",
   "metadata": {},
   "outputs": [],
   "source": [
    "df_metadata.loc[df.CellWhisperer < 4][\"content\"].iloc[0]"
   ]
  },
  {
   "cell_type": "code",
   "execution_count": null,
   "id": "372dea94-dd0e-4067-8a09-001fe6e243a2",
   "metadata": {},
   "outputs": [],
   "source": [
    "import anndata\n",
    "adata = anndata.read_h5ad(snakemake.input.archs4_data, backed=\"r\")\n"
   ]
  },
  {
   "cell_type": "code",
   "execution_count": null,
   "id": "57cf6c88-3e3b-40e3-825a-3a2b704c1b5e",
   "metadata": {},
   "outputs": [],
   "source": [
    "single_cells = adata.obs.query(\"singlecellprobability > 0.1\").index  # TODO can also use 0.5 (not much difference)"
   ]
  },
  {
   "cell_type": "code",
   "execution_count": null,
   "id": "eb4cfd3a-58de-4723-ab46-33d39e9ddc7b",
   "metadata": {},
   "outputs": [],
   "source": [
    "single_cells"
   ]
  },
  {
   "cell_type": "code",
   "execution_count": null,
   "id": "13197545-09a8-4a6a-979f-5513a21164b9",
   "metadata": {},
   "outputs": [],
   "source": [
    "df[\"sample_id\"] = df.join(df_metadata).question_id.apply(lambda v: v.split(\"_\", maxsplit=1)[1])"
   ]
  },
  {
   "cell_type": "code",
   "execution_count": null,
   "id": "10c4df5c-9180-473c-b57d-6f046d0cfb74",
   "metadata": {},
   "outputs": [],
   "source": [
    "df[\"singlecell\"] = df[\"sample_id\"].isin(single_cells)"
   ]
  },
  {
   "cell_type": "code",
   "execution_count": null,
   "id": "35bfbcfe-224a-4637-821b-187653b0c899",
   "metadata": {},
   "outputs": [],
   "source": [
    "df[\"is_complex\"] = df[\"sample_id\"].isin(snakemake.params.complex_samples)\n",
    "df[\"is_detailed\"] = df[\"sample_id\"].isin(snakemake.params.detailed_samples)\n",
    "df[\"group\"] = df.apply(lambda row: \"detailed question\" if row.is_detailed else (\"complex question\" if row.is_complex else \"normal question\"), axis=1)"
   ]
  },
  {
   "cell_type": "code",
   "execution_count": null,
   "id": "d2abf830-865f-46c8-8789-17756df3a270",
   "metadata": {},
   "outputs": [],
   "source": [
    "df[\"is_detailed\"].value_counts()"
   ]
  },
  {
   "cell_type": "code",
   "execution_count": null,
   "id": "8a660dc3-7bef-4ab5-8936-35f22c93e5be",
   "metadata": {},
   "outputs": [],
   "source": [
    "df.head()"
   ]
  },
  {
   "cell_type": "raw",
   "id": "7c734f12-4c58-4f9d-b883-7a3fb19e6515",
   "metadata": {},
   "source": [
    "df.set_index([\"sample_id\", \"singlecell\", \"is_complex\", \"is_detailed\", \"group\"], append=True).divide(df[\"gpt4_all_info\"].values, axis=0)"
   ]
  },
  {
   "cell_type": "code",
   "execution_count": null,
   "id": "96b94b7e-6c1b-40af-9da2-b6a93d217cf8",
   "metadata": {},
   "outputs": [],
   "source": [
    "colors = {\n",
    "    \"gpt4_all_info\": \"#7c7c7c\",\n",
    "    \"CellWhisperer\": \"#b1c25a\",\n",
    "    # \"llava_with_top_genes_genesets\": \"#bdcf9f\",\n",
    "    \"llava_text_only\": \"#8c9464\",\n",
    "    \"gpt4_top_genes\": \"#648e94\",  # from their logo\n",
    "}"
   ]
  },
  {
   "cell_type": "code",
   "execution_count": null,
   "id": "cac32a10-9644-485c-a6d4-04107099fff6",
   "metadata": {},
   "outputs": [],
   "source": [
    "import matplotlib.pyplot as plt\n",
    "\n",
    "# plot_df = df.drop(df.index[df.singlecell])  # leads to similar results\n",
    "plot_df = df.copy()\n",
    "plot_df = plot_df.join(df_metadata[[\"dataset\"]]).melt(\n",
    "    var_name=\"llm_type\", value_name=\"score\", id_vars=[\"group\", \"dataset\"], \n",
    "    value_vars=[\"gpt4_all_info\", \"CellWhisperer\", # \"llava_with_top_genes_genesets\", # \"llava_with_top_genes\", \n",
    "                \"llava_text_only\", \"gpt4_top_genes\"])\n",
    "plot_df.rename(columns={\"group\": \"question type\"}, inplace=True)\n",
    "plot_df[\"question type\"] = plot_df[\"question type\"].apply(lambda v: v.split(\" \")[0])\n",
    "\n",
    "plot_df.drop(plot_df.index[(plot_df.llm_type == \"gpt4_all_info\") | (plot_df[\"question type\"] == \"detailed\")], inplace=True)  #  'detailed' has an unfair advantage. gpt4_all_info is not informative. see Methods section for details"
   ]
  },
  {
   "cell_type": "code",
   "execution_count": null,
   "id": "32cc77c1-0cc0-4381-989e-ffc0fcca7842",
   "metadata": {},
   "outputs": [],
   "source": [
    "plot_df"
   ]
  },
  {
   "cell_type": "code",
   "execution_count": null,
   "id": "81107d40-df34-44d2-b37f-85b3c35b4123",
   "metadata": {},
   "outputs": [],
   "source": [
    "matplotlib.style.use(snakemake.input.mpl_style)\n",
    "\n",
    "fig, axes = plt.subplots(1, 2, figsize=(3, 2), sharey=True) # , gridspec_kw={'width_ratios': [3, 2]})\n",
    "# Create the boxplots without legends\n",
    "for ax, x_var in zip(axes, [\"question type\", \"dataset\"]):\n",
    "    sns.boxplot(data=plot_df, x=x_var, hue=\"llm_type\", y=\"score\", ax=ax, palette=colors, flierprops={\"marker\": \"x\"}, fliersize=1, linewidth=1)\n",
    "    ax.set_xticklabels(ax.get_xticklabels(), ha=\"right\", rotation=30)\n",
    "    sns.despine()\n",
    "\n",
    "\n",
    "# Remove the individual legends created by Seaborn\n",
    "for ax in axes:\n",
    "    ax.get_legend().remove()\n",
    "\n",
    "handles, labels = axes[-1].get_legend_handles_labels()\n",
    "fig.legend(handles, labels, loc='lower center', bbox_to_anchor=(0.5, 1.0), ncol=2)\n",
    "\n",
    "# Adjust the subplots to make room for the legend\n",
    "plt.subplots_adjust(top=0.85)\n",
    "\n",
    "plt.tight_layout()\n",
    "fig.savefig(snakemake.output.overview_plot)\n",
    "fig.savefig(snakemake.output.overview_plot + \".png\")\n",
    "\n",
    "# logging.info(f\"Overall score: {df.normed.mean()}. without single cells: {df[~df.singlecell].normed.mean()}\")\n",
    "\n",
    "# the presence of single cells in the training dataset overall impacted these scores only minorly (exclusion of 'cells with single cell probability > 0.1' in test set: 0.65 -> 0.63)"
   ]
  },
  {
   "cell_type": "code",
   "execution_count": null,
   "id": "7856dd00-5577-4013-a1d5-cc1d3f7a8f72",
   "metadata": {},
   "outputs": [],
   "source": [
    "# sns.barplot(data=df[~df.singlecell], y=\"normed\", x=\"dataset\", hue=\"group\")"
   ]
  },
  {
   "cell_type": "code",
   "execution_count": null,
   "id": "54edbed3-8690-4a9a-b95d-ecf33845f259",
   "metadata": {},
   "outputs": [],
   "source": []
  }
 ],
 "metadata": {
  "kernelspec": {
   "display_name": "Python 3 (ipykernel)",
   "language": "python",
   "name": "python3"
  },
  "language_info": {
   "codemirror_mode": {
    "name": "ipython",
    "version": 3
   },
   "file_extension": ".py",
   "mimetype": "text/x-python",
   "name": "python",
   "nbconvert_exporter": "python",
   "pygments_lexer": "ipython3",
   "version": "3.10.14"
  }
 },
 "nbformat": 4,
 "nbformat_minor": 5
}
