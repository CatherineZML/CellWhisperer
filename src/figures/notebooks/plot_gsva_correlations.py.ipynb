{
 "cells": [
  {
   "cell_type": "code",
   "execution_count": null,
   "id": "41142c69",
   "metadata": {},
   "outputs": [],
   "source": [
    "# start coding here\n",
    "# start coding here\n",
    "import numpy as np\n",
    "import pandas as pd\n",
    "from scipy.stats import pearsonr, spearmanr\n",
    "from tqdm.auto import tqdm\n",
    "import torch\n",
    "from scipy.stats import ks_2samp\n",
    "import seaborn as sns\n",
    "import matplotlib.pyplot as plt\n",
    "import matplotlib\n",
    "\n",
    "matplotlib.style.use(snakemake.input.mpl_style)"
   ]
  },
  {
   "cell_type": "code",
   "execution_count": null,
   "id": "0b3462d2-f8e5-4bcd-b700-e14f244658f7",
   "metadata": {},
   "outputs": [],
   "source": [
    "# load\n",
    "\n",
    "scores_df = pd.read_parquet(snakemake.input.cw_transcriptome_term_scores)\n",
    "scores_df.head()"
   ]
  },
  {
   "cell_type": "code",
   "execution_count": null,
   "id": "c31a8b6f-24e1-4039-bbc8-a94574235e1e",
   "metadata": {},
   "outputs": [],
   "source": [
    "gsva_results = pd.read_parquet(snakemake.input.gsva_results).set_index(\"Unnamed: 0\")\n",
    "gsva_library = gsva_results.pop(\"library\")\n",
    "gsva_results.head()"
   ]
  },
  {
   "cell_type": "code",
   "execution_count": null,
   "id": "1368a3c0-cccb-4fd3-a3fd-061ba028f65c",
   "metadata": {},
   "outputs": [],
   "source": [
    "assert (gsva_results.columns == scores_df.columns).all()\n",
    "\n",
    "# index does not match everywhere because we eliminated the GO terms (GO:123456) in the previous step\n",
    "assert (gsva_results.index[0] == scores_df.index[0])"
   ]
  },
  {
   "cell_type": "code",
   "execution_count": null,
   "id": "1a5a6aaf-4845-487a-ba7c-3ebb01735396",
   "metadata": {},
   "outputs": [],
   "source": [
    "# Correlate on a per-row basis\n",
    "row_correlations = np.array([pearsonr(scores_df.iloc[i, :], gsva_results.iloc[i, :]) for i in tqdm(range(scores_df.shape[0]), total=scores_df.shape[0])])\n",
    "\n",
    "# Correlate on a per-column basis\n",
    "column_correlations = np.array([pearsonr(scores_df.iloc[:, i], gsva_results.iloc[:, i]) for i in tqdm(range(scores_df.shape[1]), total=scores_df.shape[1])])"
   ]
  },
  {
   "cell_type": "code",
   "execution_count": null,
   "id": "97fcc581-16bb-4f70-8776-33b4ec6a1374",
   "metadata": {},
   "outputs": [],
   "source": [
    "# Correlate on a per-row basis\n",
    "row_correlations_spearman = np.array([spearmanr(scores_df.iloc[i, :], gsva_results.iloc[i, :]) for i in tqdm(range(scores_df.shape[0]), total=scores_df.shape[0])])\n",
    "\n",
    "# Correlate on a per-column basis\n",
    "column_correlations_spearman = np.array([spearmanr(scores_df.iloc[:, i], gsva_results.iloc[:, i]) for i in tqdm(range(scores_df.shape[1]), total=scores_df.shape[1])])"
   ]
  },
  {
   "cell_type": "code",
   "execution_count": null,
   "id": "c12a827e-d911-485f-a440-dab0da98667f",
   "metadata": {},
   "outputs": [],
   "source": [
    "gene_corr_df = pd.DataFrame(np.concatenate([column_correlations, column_correlations_spearman], axis=1), index=gsva_results.columns, columns=[\"pearson_rho\", \"pearson_p\",  \"spearman_rho\", \"spearman_p\"])\n",
    "gene_corr_df[\"type\"] = \"gene\"\n",
    "term_corr_df = pd.DataFrame(np.concatenate([row_correlations, row_correlations_spearman], axis=1), index=gsva_results.index, columns=[\"pearson_rho\", \"pearson_p\", \"spearman_rho\", \"spearman_p\"])\n",
    "term_corr_df[\"type\"] = \"term\"\n",
    "\n",
    "gene_corrs = gene_corr_df[\"pearson_rho\"]\n",
    "term_corrs = term_corr_df[\"pearson_rho\"]"
   ]
  },
  {
   "cell_type": "code",
   "execution_count": null,
   "id": "5e4061e8-25c3-4c6b-9005-b8733871c2ee",
   "metadata": {},
   "outputs": [],
   "source": [
    "fig, ax = plt.subplots(figsize=(3, 3))\n",
    "\n",
    "sns.ecdfplot(term_corrs, ax=ax)\n",
    "ax.axhline(0.5)\n",
    "ax.axvline(0.0)\n",
    "ax.set_title(\"Distribution of term-level correlations\")\n",
    "plt.tight_layout()\n",
    "fig.savefig(snakemake.output.term_level_correlations)"
   ]
  },
  {
   "cell_type": "code",
   "execution_count": null,
   "id": "7618e553-e482-458a-af12-d0fdb140153c",
   "metadata": {},
   "outputs": [],
   "source": [
    "# get the top hit\n",
    "term_corrs.sort_values(ascending=False).iloc[:50]"
   ]
  },
  {
   "cell_type": "code",
   "execution_count": null,
   "id": "cd92f5be-16cb-4ed6-abc1-94ae99bea387",
   "metadata": {},
   "outputs": [],
   "source": [
    "term_corrs.head()"
   ]
  },
  {
   "cell_type": "code",
   "execution_count": null,
   "id": "5fe10f77-b398-4946-b2f1-5194d53542d4",
   "metadata": {},
   "outputs": [],
   "source": [
    "term_corr_df.head()\n"
   ]
  },
  {
   "cell_type": "code",
   "execution_count": null,
   "id": "a6d82eb8-c5ba-4553-b9e1-134a57c2410e",
   "metadata": {},
   "outputs": [],
   "source": [
    "fig, ax = plt.subplots(figsize=(5, 3))\n",
    "ax.axvline(0.0)\n",
    "term_corr_df[\"library\"] = gsva_library\n",
    "order = term_corr_df.groupby(\"library\")[\"pearson_rho\"].mean().sort_values(ascending=False).index\n",
    "sns.violinplot(data=term_corr_df, x=\"pearson_rho\", y=\"library\", ax=ax, order=order)\n",
    "ax.set_xlabel('correlation for 14k samples', ha=\"right\")\n",
    "\n",
    "# Calculate the number of significant terms for each library\n",
    "significance_level = 0.05\n",
    "term_corr_df[\"significant\"] = (term_corr_df[\"pearson_p\"] < significance_level) & (term_corr_df[\"pearson_rho\"] > 0)\n",
    "significance_counts = term_corr_df.groupby('library')['significant'].sum()\n",
    "total_counts = term_corr_df.groupby('library')['significant'].count()\n",
    "for i, library in enumerate(order):\n",
    "    n_sign = significance_counts[library]\n",
    "    n_total = total_counts[library]\n",
    "    text_label = f\"* {n_sign} of {n_total}\"\n",
    "    # You may need to adjust the x and y coordinates to place the text appropriately\n",
    "    \n",
    "    ax.text(0.9, i, text_label, color='black', ha=\"left\", va=\"center\")\n",
    "\n",
    "ax.axvline(0.0, color='black')\n",
    "sns.despine()\n",
    "plt.tight_layout()\n",
    "fig.savefig(snakemake.output.library_correlations)"
   ]
  },
  {
   "cell_type": "code",
   "execution_count": null,
   "id": "75643f0d-5b8e-44b6-b5ec-3a8e3b931a83",
   "metadata": {},
   "outputs": [],
   "source": [
    "import seaborn as sns\n",
    "import matplotlib.pyplot as plt\n",
    "\n",
    "fig, ax = plt.subplots(figsize=(3, 3))\n",
    "\n",
    "selected_diseases = [\"ovarian cancer\", \"asthma\", \"thyroid carcinoma\", \"aids\", \"dyslexia\", \"brachydactyly\", \"nephropathy\", \"infections\", \"colorectal cancer\"]\n",
    "omim_df = term_corrs[gsva_library == \"OMIM_Expanded\"].sort_values()\n",
    "sns.ecdfplot(omim_df, ax=ax)\n",
    "ax.axhline(0.5)\n",
    "ax.axvline(0.0)\n",
    "ax.set_title(\"Correlation coefficients for 'OMIM_Expanded'\")\n",
    "for disease in selected_diseases:\n",
    "    x = omim_df.loc[disease]\n",
    "    y = omim_df.index.get_loc(disease)/len(omim_df)\n",
    "    plt.text(x, y, disease)\n",
    "    plt.scatter([x], [y], marker=\"x\", color=\"black\")\n",
    "    \n",
    "\n",
    "plt.tight_layout()\n",
    "fig.savefig(snakemake.output.omim_correlations)"
   ]
  },
  {
   "cell_type": "code",
   "execution_count": null,
   "id": "736f8cf3-3f2b-4ded-80f1-fbf4173340f7",
   "metadata": {},
   "outputs": [],
   "source": [
    "stats_results = {}\n",
    "plot_df = []\n",
    "\n",
    "# TODO also try threshold=1 later\n",
    "\n",
    "for i, term in enumerate(tqdm(gsva_results.index)):\n",
    "    pos = gsva_results.iloc[i][scores_df.iloc[i] > 0]\n",
    "    neg = gsva_results.iloc[i][scores_df.iloc[i] <= 0]\n",
    "    library = gsva_library.get(term)\n",
    "    plot_df.append(\n",
    "        pd.DataFrame({\n",
    "            \"term\": term,\n",
    "            \"type\": \"positive CW score\",\n",
    "            \"ids\": pos.index,\n",
    "            \"gsva_score\": pos.values,\n",
    "            \"library\": library,\n",
    "            \n",
    "        })\n",
    "    )\n",
    "    plot_df.append(\n",
    "        pd.DataFrame({\n",
    "            \"term\": term,\n",
    "            \"type\": \"negative CW score\",\n",
    "            \"ids\": neg.index,\n",
    "            \"gsva_score\": neg.values,\n",
    "            \"library\": library,\n",
    "        })\n",
    "    )\n",
    "    stats_results[term] = ks_2samp(pos.values, neg.values)\n",
    "plot_df = pd.concat(plot_df)\n",
    "plot_df[\"term\"] = pd.Categorical(plot_df.term)"
   ]
  },
  {
   "cell_type": "code",
   "execution_count": null,
   "id": "2a4a4bde-1d83-4b64-89bc-e806d1bcea4e",
   "metadata": {},
   "outputs": [],
   "source": [
    "# TODO select some interesting terms\n",
    "\n",
    "subdf = plot_df[plot_df.term.isin([\"Pluripotent Stem Cells\", \"Lung V2 (HLCA)-ann Level 2-Smooth Muscle\", \"Response To Endoplasmic Reticulum Stress (GO:0034976)\"])].copy()\n",
    "subdf[\"term\"] = subdf[\"term\"].astype(str)  # plotting this is ass slow"
   ]
  },
  {
   "cell_type": "code",
   "execution_count": null,
   "id": "8c313168-9ff2-43e3-8a55-16c846ca26ba",
   "metadata": {},
   "outputs": [],
   "source": [
    "fig, ax = plt.subplots(figsize=(5, 5))\n",
    "\n",
    "sns.violinplot(data=subdf.iloc[::-1], x=\"term\", y=\"gsva_score\", hue=\"type\", ax=ax)\n",
    "ax.set_xticklabels(ax.get_xticklabels(), ha=\"right\", rotation=10)\n",
    "plt.tight_layout()\n",
    "\n",
    "fig.savefig(snakemake.output.cw_binarized_gsva_scores)"
   ]
  },
  {
   "cell_type": "code",
   "execution_count": null,
   "id": "5be79a96-c898-4e77-959f-b72c2df1bf52",
   "metadata": {
    "scrolled": true
   },
   "outputs": [],
   "source": [
    "stats_results = pd.DataFrame([{\n",
    "    \"term\": term, \"statistic\": ksres.statistic, \"pvalue\": ksres.pvalue, \"sign\": ksres.statistic_sign, \"statistic_location\": ksres.statistic_location\n",
    "} for term, ksres in stats_results.items()])\n",
    "stats_results[\"inv_signed_stat\"] = (stats_results[\"sign\"] * stats_results[\"statistic\"] * -1)\n",
    "stats_results[\"library\"] = stats_results[\"term\"].apply(gsva_library.get)\n",
    "stats_results.set_index(\"term\", inplace=True)\n"
   ]
  },
  {
   "cell_type": "code",
   "execution_count": null,
   "id": "b1ed49e2-7aa8-4192-896e-5b9716005c4d",
   "metadata": {},
   "outputs": [],
   "source": [
    "#  scatterplot of one term (cherry picked)\n",
    "fig, ax = plt.subplots(figsize=(3, 3))\n",
    "\n",
    "term = snakemake.params.selected_top_term\n",
    "sns.scatterplot(x=gsva_results.loc[term], y=scores_df.loc[term], s=1, rasterized=True)\n",
    "ax.set_xlabel(\"GSVA\")\n",
    "ax.set_ylabel(\"CellWhisperer score\")\n",
    "ax.set_title(f\"\\\"{term}\\\"\")\n",
    "# ax.text(0, 8, f\"ρ={term_corrs.loc[term]:.2f}\")\n",
    "ax.text(0, 10, f\"KS stat={stats_results.loc[term, 'inv_signed_stat']:.2f}\")\n",
    "\n",
    "plt.tight_layout()\n",
    "fig.savefig(snakemake.output.top_term_correlation)"
   ]
  },
  {
   "cell_type": "code",
   "execution_count": null,
   "id": "c8a64af6-df41-49df-ab3e-2ca78857da42",
   "metadata": {},
   "outputs": [],
   "source": [
    "fig, ax = plt.subplots(figsize=(5, 3))\n",
    "ax.axvline(0.0)\n",
    "order = stats_results.groupby(\"library\")[\"inv_signed_stat\"].mean().sort_values(ascending=False).index\n",
    "sns.violinplot(data=stats_results, y=\"library\", x=\"inv_signed_stat\", order=order)\n",
    "\n",
    "# Add text annotations\n",
    "# Calculate the number of significant terms for each library\n",
    "significance_level = 0.05\n",
    "stats_results['significant'] = (stats_results['pvalue'] < significance_level) & (stats_results['sign'] < 0)\n",
    "significance_counts = stats_results.groupby('library')['significant'].sum()\n",
    "total_counts = stats_results.groupby('library')['significant'].count()\n",
    "for i, library in enumerate(order):\n",
    "    n_sign = significance_counts[library]\n",
    "    n_total = total_counts[library]\n",
    "    text_label = f\"* {n_sign} of {n_total}\"\n",
    "    # You may need to adjust the x and y coordinates to place the text appropriately\n",
    "    \n",
    "    ax.text(0.6, i, text_label, color='black', ha=\"left\", va=\"center\")\n",
    "plt.tight_layout()\n",
    "sns.despine()\n",
    "\n",
    "fig.savefig(snakemake.output.library_ks_statistics)"
   ]
  },
  {
   "cell_type": "code",
   "execution_count": null,
   "id": "28dd5db4-97c9-4430-bdd2-6d8ec8c02c89",
   "metadata": {},
   "outputs": [],
   "source": [
    "fig, ax = plt.subplots(figsize=(3.5, 2.5))\n",
    "term_corrs.groupby(gsva_library).mean().sort_values(ascending=True).plot.barh(ax=ax)\n",
    "ax.set_xlabel('correlation for 14k samples', ha=\"right\")\n",
    "plt.tight_layout()\n",
    "fig.savefig(snakemake.output.library_correlations)"
   ]
  },
  {
   "cell_type": "code",
   "execution_count": null,
   "id": "f2bc8241-291b-4d36-b748-f853c6078b3c",
   "metadata": {},
   "outputs": [],
   "source": [
    "plot_df.head()"
   ]
  },
  {
   "cell_type": "raw",
   "id": "bb558ff9-5b5e-490a-8aea-c4e6ca39874d",
   "metadata": {
    "scrolled": true
   },
   "source": [
    "fig, ax = plt.subplots(figsize=(5, 5))\n",
    "\n",
    "sns.violinplot(data=plot_df.query(\"library == 'OMIM_Expanded'\"), y=\"gsva_score\", hue=\"type\", ax=ax)\n",
    "ax.set_xticklabels(ax.get_xticklabels(), ha=\"right\", rotation=10)\n",
    "plt.tight_layout()\n"
   ]
  },
  {
   "cell_type": "code",
   "execution_count": null,
   "id": "22b18ac2-7d0e-4791-99cf-b987f435f088",
   "metadata": {},
   "outputs": [],
   "source": [
    "top_diseases = stats_results.sort_values(\"inv_signed_stat\", ascending=False).query(\"library == 'OMIM_Expanded'\").iloc[:10].index"
   ]
  },
  {
   "cell_type": "code",
   "execution_count": null,
   "id": "1b91e8d0-98ed-428c-a242-6345edd80243",
   "metadata": {},
   "outputs": [],
   "source": [
    "topn = 10\n",
    "terms = stats_results.sort_values(\"inv_signed_stat\", ascending=False).iloc[:topn].index  # TODO also take some of the top correlation\n",
    "terms = terms.union(selected_diseases).union(top_diseases).unique()\n",
    "fig, axes = plt.subplots(len(terms), 2, figsize=(5, 2 * len(terms)))\n",
    "for i, term in enumerate(tqdm(terms)):\n",
    "\n",
    "    sns.scatterplot(x=gsva_results.loc[term], y=scores_df.loc[term.split(' (GO:')[0]], s=1, ax=axes[i, 0], rasterized=True)  # TODO probably ned to get rid of the GO\n",
    "    axes[i, 0].set_xlabel(\"GSVA\")\n",
    "    axes[i, 0].set_ylabel(\"CellWhisperer score\")\n",
    "    axes[i, 0].set_title(f\"\\\"{term}\\\"\")\n",
    "    \n",
    "    \n",
    "    axes[i, 0].text(0, 7, f\"ρ={term_corrs.loc[term]:.2f}\")\n",
    "\n",
    "    statistic_loc = stats_results.loc[term, \"statistic_location\"]\n",
    "    pos_df = plot_df.loc[(plot_df.term == term) & (plot_df[\"type\"] == \"positive CW score\"), \"gsva_score\"].sort_values()\n",
    "    neg_df = plot_df.loc[(plot_df.term == term) & (plot_df[\"type\"] == \"negative CW score\"), \"gsva_score\"].sort_values()\n",
    "    y1 = (pos_df < statistic_loc).sum()/len(pos_df)\n",
    "    y2 = (neg_df < statistic_loc).sum()/len(neg_df)\n",
    "\n",
    "    axes[i, 1].plot([statistic_loc, statistic_loc],\n",
    "                    [y1, y2], color=\"black\")\n",
    "    sns.ecdfplot(data=plot_df[plot_df.term == term], hue=\"type\", x=\"gsva_score\", ax=axes[i, 1])\n",
    "    axes[i, 1].text(0.1, 0.8, f\"KS stat={stats_results.loc[term, 'inv_signed_stat']:.2f}\")\n",
    "\n",
    "    axes[i, 1].get_legend().remove()\n",
    "\n",
    "plt.tight_layout()\n",
    "fig.savefig(snakemake.output.cherry_picked_examples)"
   ]
  },
  {
   "cell_type": "code",
   "execution_count": null,
   "id": "bfaaf133-990f-4393-a6ba-3404b3f49f6e",
   "metadata": {},
   "outputs": [],
   "source": [
    "single_term_df = []\n",
    "term = terms[6]\n",
    "pos = gsva_results.loc[term][scores_df.loc[term.split(' (GO:')[0]] > 2]\n",
    "neg = gsva_results.loc[term][scores_df.loc[term.split(' (GO:')[0]] <= 2]\n",
    "single_term_df.append(\n",
    "    pd.DataFrame({\n",
    "        \"term\": term,\n",
    "        \"type\": \"positive CW score\",\n",
    "        \"ids\": pos.index,\n",
    "        \"gsva_score\": pos.values\n",
    "    })\n",
    ")\n",
    "single_term_df.append(\n",
    "    pd.DataFrame({\n",
    "        \"term\": term,\n",
    "        \"type\": \"negative CW score\",\n",
    "        \"ids\": neg.index,\n",
    "        \"gsva_score\": neg.values\n",
    "    })\n",
    ")\n",
    "\n",
    "single_term_df = pd.concat(single_term_df)\n",
    "single_term_df[\"library\"] = single_term_df[\"term\"].apply(gsva_library.get)\n",
    "single_term_df[\"term\"] = pd.Categorical(single_term_df.term)\n",
    "sns.ecdfplot(data=single_term_df[single_term_df.term == term], hue=\"type\", x=\"gsva_score\")\n",
    "ks_2samp(pos.values, neg.values)"
   ]
  },
  {
   "cell_type": "code",
   "execution_count": null,
   "id": "f0d486f1-34fa-4711-8b57-235a321b87ce",
   "metadata": {},
   "outputs": [],
   "source": [
    "term_corr_df[\"ks_statistic_signed_inv\"] = stats_results[\"inv_signed_stat\"]\n",
    "term_corr_df[\"ks_statistic\"] = stats_results[\"statistic\"]\n",
    "term_corr_df[\"ks_pvalue\"] = stats_results[\"pvalue\"]\n",
    "term_corr_df[\"ks_sign\"] = stats_results[\"sign\"]\n",
    "term_corr_df[\"ks_stat_location\"] = stats_results[\"statistic_location\"]\n",
    "term_corr_df[\"ks_significant\"] = stats_results[\"significant\"]\n",
    "term_corr_df.drop(columns=[\"significant\"], inplace=True)\n"
   ]
  },
  {
   "cell_type": "code",
   "execution_count": null,
   "id": "7127c54c-6493-428c-aeaf-ece410715980",
   "metadata": {},
   "outputs": [],
   "source": [
    "results_df = pd.concat([term_corr_df, gene_corr_df])\n",
    "results_df.to_csv(snakemake.output.gsva_correlation_results)"
   ]
  },
  {
   "cell_type": "code",
   "execution_count": null,
   "id": "9cd0ff96-7125-4b94-96be-c3a5a045563d",
   "metadata": {},
   "outputs": [],
   "source": []
  }
 ],
 "metadata": {
  "kernelspec": {
   "display_name": "Python 3 (ipykernel)",
   "language": "python",
   "name": "python3"
  },
  "language_info": {
   "codemirror_mode": {
    "name": "ipython",
    "version": 3
   },
   "file_extension": ".py",
   "mimetype": "text/x-python",
   "name": "python",
   "nbconvert_exporter": "python",
   "pygments_lexer": "ipython3",
   "version": "3.10.13"
  }
 },
 "nbformat": 4,
 "nbformat_minor": 5
}
