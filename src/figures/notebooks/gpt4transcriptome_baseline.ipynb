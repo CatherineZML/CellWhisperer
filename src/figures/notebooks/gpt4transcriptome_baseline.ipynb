{
 "cells": [
  {
   "cell_type": "code",
   "execution_count": null,
   "id": "c49970b5-9194-4ed6-a477-a8d19246e878",
   "metadata": {},
   "outputs": [],
   "source": [
    "import openai\n",
    "import tqdm\n",
    "import time\n",
    "import json\n",
    "import shortuuid\n",
    "\n",
    "\n",
    "client = openai.OpenAI(api_key=snakemake.params.openai_api_key)  # Initialize the OpenAI client\n",
    "\n",
    "def gpt4_response(question, max_tokens: int = 1024, **kwargs):\n",
    "    messages = [\n",
    "        {\n",
    "        \"role\": \"user\",\n",
    "        \"content\": question\n",
    "    }]\n",
    "    #print(messages)\n",
    "    for i in range(3):\n",
    "        try:\n",
    "            response = client.chat.completions.create(\n",
    "                model=\"gpt-4-turbo-preview\",\n",
    "                messages=messages,\n",
    "                max_tokens=max_tokens,\n",
    "                temperature=0.0,\n",
    "            )\n",
    "            return response.choices[0].message.content\n",
    "        except Exception as e:\n",
    "            print(e)\n",
    "    else:\n",
    "        raise RuntimeError()"
   ]
  },
  {
   "cell_type": "code",
   "execution_count": null,
   "id": "6f661a0c-fc8f-442b-a5e8-48b8482b14df",
   "metadata": {},
   "outputs": [],
   "source": [
    "with open(snakemake.input.transcriptome_text_features) as f:\n",
    "    question_informations = [json.loads(line) for line in f.readlines()]"
   ]
  },
  {
   "cell_type": "code",
   "execution_count": null,
   "id": "e66b465a-104a-40ee-a397-6acd5c1344b9",
   "metadata": {},
   "outputs": [],
   "source": [
    "question_informations[0]"
   ]
  },
  {
   "cell_type": "code",
   "execution_count": null,
   "id": "9f80f7de-1b1a-45cf-b56c-cfb06096b0b8",
   "metadata": {},
   "outputs": [],
   "source": [
    "responses = [gpt4_response(info[\"text\"]) for info in tqdm.tqdm(question_informations)]\n"
   ]
  },
  {
   "cell_type": "code",
   "execution_count": null,
   "id": "0862b8d6-3330-4da7-a654-4ce74a0686cf",
   "metadata": {},
   "outputs": [],
   "source": [
    "responses[0]"
   ]
  },
  {
   "cell_type": "code",
   "execution_count": null,
   "id": "4bc78173-e99c-4c1a-8081-4db5c0971507",
   "metadata": {},
   "outputs": [],
   "source": [
    "with open(snakemake.output[0], \"w\") as f:\n",
    "    for response, info in zip(responses, question_informations):\n",
    "        json.dump({\n",
    "            \"question_id\": info[\"question_id\"],\n",
    "            \"text\": response,\n",
    "            \"answer_id\": shortuuid.uuid(),\n",
    "            \"model_id\": \"gpt-4-turbo-preview\", \n",
    "            \"metadata\": {}\n",
    "        }, f)\n",
    "        f.write(\"\\n\")"
   ]
  },
  {
   "cell_type": "code",
   "execution_count": null,
   "id": "f54b9a52-eba7-4466-a650-11404940989a",
   "metadata": {},
   "outputs": [],
   "source": [
    "response"
   ]
  },
  {
   "cell_type": "code",
   "execution_count": null,
   "id": "f7dcf6e7-0459-46a8-923b-523c1c1e17de",
   "metadata": {},
   "outputs": [],
   "source": []
  }
 ],
 "metadata": {
  "kernelspec": {
   "display_name": "Python 3 (ipykernel)",
   "language": "python",
   "name": "python3"
  },
  "language_info": {
   "codemirror_mode": {
    "name": "ipython",
    "version": 3
   },
   "file_extension": ".py",
   "mimetype": "text/x-python",
   "name": "python",
   "nbconvert_exporter": "python",
   "pygments_lexer": "ipython3",
   "version": "3.10.13"
  }
 },
 "nbformat": 4,
 "nbformat_minor": 5
}
