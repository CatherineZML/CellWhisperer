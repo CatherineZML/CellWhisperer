{
 "cells": [
  {
   "cell_type": "code",
   "execution_count": null,
   "id": "a0b4506e",
   "metadata": {},
   "outputs": [],
   "source": [
    "# start coding here\n",
    "import pandas as pd\n",
    "import seaborn as sns\n",
    "import matplotlib.pyplot as plt\n",
    "import matplotlib\n",
    "matplotlib.style.use(snakemake.input.mpl_style)\n",
    "\n",
    "\n",
    "# Data provided by running `cellwhisperer test --config src/experiments/408_ablation_study3/base_config.yaml --model_ckpt results/models/jointemb/cellwhisperer_clip_v1.ckpt --seed_everything 0`\n",
    "data = {\n",
    "    'disease_deduplicated/text_as_classes_accuracy_macroAvg': 0.1899999976158142,\n",
    "    'disease_deduplicated/text_as_classes_f1_macroAvg': 0.1536666750907898,\n",
    "    'disease_deduplicated/text_as_classes_precision_macroAvg': 0.14154762029647827,\n",
    "    'disease_deduplicated/text_as_classes_recall_at_10_macroAvg': 0.7900000214576721,\n",
    "    'disease_deduplicated/text_as_classes_recall_at_1_macroAvg': 0.1899999976158142,\n",
    "    'disease_deduplicated/text_as_classes_recall_at_50_macroAvg': 0.9700000286102295,\n",
    "    'disease_deduplicated/text_as_classes_recall_at_5_macroAvg': 0.550000011920929,\n",
    "    'disease_deduplicated/text_as_classes_rocauc_macroAvg': 0.9286867380142212,\n",
    "    'disease_deduplicated/transcriptomes_as_classes_accuracy_macroAvg': 0.23999999463558197,\n",
    "    'disease_deduplicated/transcriptomes_as_classes_f1_macroAvg': 0.17900002002716064,\n",
    "    'disease_deduplicated/transcriptomes_as_classes_precision_macroAvg': 0.15416665375232697,\n",
    "    'disease_deduplicated/transcriptomes_as_classes_recall_at_10_macroAvg': 0.7900000214576721,\n",
    "    'disease_deduplicated/transcriptomes_as_classes_recall_at_1_macroAvg': 0.23999999463558197,\n",
    "    'disease_deduplicated/transcriptomes_as_classes_recall_at_50_macroAvg': 0.9800000190734863,\n",
    "    'disease_deduplicated/transcriptomes_as_classes_recall_at_5_macroAvg': 0.5899999737739563,\n",
    "    'disease_deduplicated/transcriptomes_as_classes_rocauc_macroAvg': 0.9259596467018127\n",
    "}\n",
    "\n",
    "# Create a pandas Series\n",
    "series = pd.Series(data)"
   ]
  },
  {
   "cell_type": "code",
   "execution_count": null,
   "id": "e9296391-4885-45ed-8309-704e5c7cb765",
   "metadata": {},
   "outputs": [],
   "source": [
    "\n",
    "\n",
    "# Assuming 'series' is the pandas Series you've created earlier\n",
    "\n",
    "# Filter the series to only include recall_at values\n",
    "recall_at_series = series.filter(like='recall_at_')\n",
    "recall_at_series"
   ]
  },
  {
   "cell_type": "code",
   "execution_count": null,
   "id": "4fb22458-a3be-4aed-bc1b-e501ed48869a",
   "metadata": {},
   "outputs": [],
   "source": [
    "# Split the index to create a DataFrame suitable for seaborn\n",
    "recall_at_df = recall_at_series.reset_index()\n",
    "recall_at_df[['class', 'retrieval_at']] = recall_at_df['index'].str.split('_', expand=True).iloc[:, [1, -2]]\n",
    "recall_at_df.drop('index', axis=1, inplace=True)\n",
    "recall_at_df.rename(columns={0: 'value'}, inplace=True)\n",
    "recall_at_df"
   ]
  },
  {
   "cell_type": "code",
   "execution_count": null,
   "id": "89508056-2443-4b2c-9928-e8693d9d17cc",
   "metadata": {},
   "outputs": [],
   "source": [
    "# Create the barplot\n",
    "fig = plt.figure(figsize=(2, 2))\n",
    "barplot = sns.barplot(\n",
    "    data=recall_at_df,\n",
    "    x='class',\n",
    "    y='value',\n",
    "    hue='retrieval_at',\n",
    "    hue_order=[\"1\", \"5\", \"10\", \"50\"],\n",
    "    palette='viridis'\n",
    ")\n",
    "barplot.set_xticklabels(barplot.get_xticklabels(), ha=\"right\", rotation=30)\n",
    "\n",
    "# Add value labels\n",
    "for p in barplot.patches:\n",
    "    if p.get_height() == 0.0:\n",
    "        continue\n",
    "    barplot.annotate(\n",
    "        format(p.get_height(), '.2f'),\n",
    "        (p.get_x() + p.get_width() / 2., p.get_height()),\n",
    "        ha='center',\n",
    "        va='center',\n",
    "        xytext=(0, 9),\n",
    "        textcoords='offset points'\n",
    "    )\n",
    "    \n",
    "# Adjust legend and plot\n",
    "# plt.legend(title='Retrieval at', bbox_to_anchor=(1.1, 1), loc='upper left')\n",
    "\n",
    "sns.despine()\n",
    "plt.tight_layout()\n",
    "\n",
    "fig.savefig(snakemake.output.barplot)"
   ]
  },
  {
   "cell_type": "code",
   "execution_count": null,
   "id": "65b239a4-f3a4-4c5a-b3d9-8bca612abe01",
   "metadata": {},
   "outputs": [],
   "source": [
    "# lineplot\n",
    "\n",
    "recall_at_5_df = pd.read_csv(snakemake.input.csv)"
   ]
  },
  {
   "cell_type": "code",
   "execution_count": null,
   "id": "1fca6cec-3264-42a6-8ca0-f7ff36ce9943",
   "metadata": {},
   "outputs": [],
   "source": [
    "fig, ax = plt.subplots(figsize=(1.5,1.1))\n",
    "sns.lineplot(data=recall_at_5_df, x=recall_at_5_df.index + 1, y=\"cellwhisperer_v1 - valfn_daniel_strictly_deduplicated_dmis-lab_biobert-v1.1_CLS_pooling/recall_at_5_macroAvg\", ax=ax, color=\"gray\")\n",
    "ax.set(xlabel=\"epoch\", ylabel=\"Recall at top 5\")\n",
    "\n",
    "fig.savefig(snakemake.output.lineplot)"
   ]
  },
  {
   "cell_type": "code",
   "execution_count": null,
   "id": "6342a483-e109-45d4-96b4-678978d25ecc",
   "metadata": {},
   "outputs": [],
   "source": []
  }
 ],
 "metadata": {
  "kernelspec": {
   "display_name": "Python 3 (ipykernel)",
   "language": "python",
   "name": "python3"
  },
  "language_info": {
   "codemirror_mode": {
    "name": "ipython",
    "version": 3
   },
   "file_extension": ".py",
   "mimetype": "text/x-python",
   "name": "python",
   "nbconvert_exporter": "python",
   "pygments_lexer": "ipython3",
   "version": "3.10.13"
  }
 },
 "nbformat": 4,
 "nbformat_minor": 5
}
