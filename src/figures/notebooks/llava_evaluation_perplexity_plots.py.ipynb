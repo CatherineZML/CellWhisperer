{
 "cells": [
  {
   "cell_type": "code",
   "execution_count": null,
   "id": "1ee9018e-b0d7-44ce-9e3c-4921337c453d",
   "metadata": {},
   "outputs": [],
   "source": [
    "import json\n",
    "import seaborn as sns\n",
    "import numpy as np\n",
    "import random\n",
    "import pandas as pd\n",
    "import matplotlib.pyplot as plt \n",
    "import matplotlib\n",
    "matplotlib.style.use(snakemake.input.mpl_style)"
   ]
  },
  {
   "cell_type": "code",
   "execution_count": null,
   "id": "cf4ea9ba-e7ec-465f-990c-aa598eeb440c",
   "metadata": {},
   "outputs": [],
   "source": [
    "df = pd.read_csv(snakemake.input.all_perplexities, index_col=0)\n",
    "if np.isnan(df[\"question_id\"]).any():\n",
    "    df[\"question_id\"] = df.index"
   ]
  },
  {
   "cell_type": "code",
   "execution_count": null,
   "id": "853a7386-e8be-4e6e-9a52-c15949ffe442",
   "metadata": {},
   "outputs": [],
   "source": [
    "def quantile(group):\n",
    "    correct = group.loc[group.type==\"correct\", \"eval_all_perplexities\"].iloc[0]\n",
    "    incorrect = group.loc[group.type==\"incorrect\", \"eval_all_perplexities\"]\n",
    "    \n",
    "    return (correct < incorrect).sum() / len(incorrect)\n",
    "\n",
    "quantiles = df.groupby(\"question_id\").apply(quantile, include_groups=False)\n",
    "matched = df.groupby(\"question_id\").apply(lambda group: group.loc[group.type==\"correct\", \"eval_all_perplexities\"].iloc[0], include_groups=False)\n",
    "mismatched_mean = df.groupby(\"question_id\").apply(lambda group: group.loc[group.type==\"incorrect\", \"eval_all_perplexities\"].mean(), include_groups=False)\n",
    "mismatched_std = df.groupby(\"question_id\").apply(lambda group: group.loc[group.type==\"incorrect\", \"eval_all_perplexities\"].std(), include_groups=False)\n",
    "true_responses = df.groupby(\"question_id\").apply(lambda group: group.loc[group.type==\"correct\", \"response\"].unique()[0])\n",
    "\n",
    "plotdf = pd.DataFrame({\"matched\": matched,\n",
    "                    \"quantiles\": quantiles,\n",
    "                    \"mismatched\": mismatched_mean,\n",
    "                    \"mismatch_std\": mismatched_std,\n",
    "                    \"id\": quantiles.index}).melt(\n",
    "                        id_vars=[\"id\"], value_vars=[\"matched\", \"mismatched\"], value_name=\"perplexity\")"
   ]
  },
  {
   "cell_type": "code",
   "execution_count": null,
   "id": "82cb7eea-ed56-4f1a-ab5f-3a7bd52fde39",
   "metadata": {},
   "outputs": [],
   "source": [
    "barplot_style = dict(\n",
    "    color=\"#b1c25a\", \n",
    "    edgecolor=\"#424242\", \n",
    "    # linewidth=1.5,\n",
    "    errwidth=2,\n",
    "    width=0.7,\n",
    ")\n",
    "    \n",
    "if snakemake.wildcards.dataset == \"tabula_sapiens\":\n",
    "    # plot by cell type\n",
    "    fig, ax = plt.subplots(figsize=(4.5, 2.5))\n",
    "    sns.barplot(data=pd.DataFrame({\"quantile\": quantiles, \"celltype\": true_responses}), \n",
    "            y=\"celltype\", x=\"quantile\", ax=ax, **barplot_style)\n",
    "    # ax.set_yticklabels(ax.get_yticklabels(), ha=\"right\", rotation=90)\n",
    "else:\n",
    "    fig, ax = plt.subplots(figsize=(4.5, 0.2))\n",
    "    sns.barplot(x=quantiles, ax=ax, **barplot_style)\n",
    "    ax.set_yticklabels([\"Training-excluded ARCHS4 and CELLxGENE question-answer pairs (n=200)\"])\n",
    "    ax.set_title(\"LLM preference for correct vs mismatched embedding for test conversations\", fontdict={\"fontsize\":8})\n",
    "\n",
    "ax.axvline(0.5, linestyle=\"--\", color=\"#424242\", linewidth=1)\n",
    "ax.set(xlim=[0, 1], xlabel=\"Perplexity quantile of matched vs 30 mismatched embeddings\")\n",
    "sns.despine()\n",
    "plt.tight_layout()\n",
    "fig.savefig(snakemake.output.comparison_plot)"
   ]
  },
  {
   "cell_type": "raw",
   "id": "3902cf78-5240-4189-b87a-912488dd49b3",
   "metadata": {},
   "source": [
    "fig = sns.catplot(x=\"variable\", y=\"perplexity\", data=plot_df,  kind=\"point\", hue=\"id\")  # , palette=[\"black\"])\n",
    "fig.legend.set_visible(False)\n",
    "fig.ax.set_title(f\"Matched vs mismatched ppl. Means: {df['matched'].mean()}|{df['mismatched'].mean()}\")\n",
    "fig.savefig(snakemake.output.comparison_plot)"
   ]
  },
  {
   "cell_type": "code",
   "execution_count": null,
   "id": "0251f5e6-caaa-4c35-8ef3-b82a6e94ed03",
   "metadata": {},
   "outputs": [],
   "source": [
    "with open(snakemake.output.log_perplexity_ratio, \"w\") as f:\n",
    "    f.write(str(np.log(plotdf.loc[plotdf[\"variable\"] == 'matched', \"perplexity\"].mean()/plotdf.loc[plotdf[\"variable\"] == 'mismatched', \"perplexity\"].mean())))"
   ]
  },
  {
   "cell_type": "code",
   "execution_count": null,
   "id": "dcab8a86-a37c-4614-b489-d7b2a531ba71",
   "metadata": {},
   "outputs": [],
   "source": [
    "num_questions = 5\n",
    "subdf = df[df.question_id<num_questions]\n",
    "\n",
    "fig, ax = plt.subplots(1, 1, figsize=(2, 0.5))\n",
    "# palette with green: {\"incorrect\": \"#333333\", \"correct\": \"#a8b567\"}\n",
    "sns.stripplot(data=subdf, x=\"eval_all_perplexities\", hue=\"type\", y=\"question_id\", ax=ax, palette={\"incorrect\": \"#cccccc\", \"correct\": \"#000000\"})\n",
    "xmax = subdf.eval_all_perplexities.max()\n",
    "xmin = subdf.eval_all_perplexities.min()\n",
    "\n",
    "# Set the xticks to only the first and last\n",
    "ax.set_ylim([-0.5, 4.5])\n",
    "ax.set_xlim([xmin-2, xmax+2])  # this should be wrong (because the x-axis does take indices or so. but it works...)\n",
    "ticks = ax.get_xticklabels()\n",
    "ax.set(xticks=[ticks[0]._x, ticks[-1]._x], xticklabels=[ticks[0]._text, ticks[-1]._text], yticks=range(5), yticklabels=range(1,6))\n",
    "\n",
    "for i in range(num_questions):\n",
    "    ax.text(xmax, i, f\"{quantiles.iloc[i]:.2f}\")\n",
    "# plt.tight_layout()\n",
    "\n",
    "fig.savefig(snakemake.output.detailed_plot)"
   ]
  },
  {
   "cell_type": "raw",
   "id": "64b57eee-b1b7-4121-a1ea-c55780f10aa4",
   "metadata": {},
   "source": [
    "# old\n",
    "\n",
    "fig, axes = plt.subplots(1, 2, figsize=(2.3,1.2), sharey=True)\n",
    "plotdf = df.iloc[:10]\n",
    "ax = axes[0]\n",
    "ax.errorbar(plotdf[\"mismatched\"], range(len(plotdf)), xerr=plotdf[\"mismatch_std\"],fmt=\"_k\", ecolor='black', capsize=2, linewidth=1)\n",
    "ax.plot(plotdf[\"matched\"], range(len(plotdf)), 'o', markersize=3, color=\"#a8b567\")  # Plot the means as points\n",
    "ax.set(ylabel=\"First 10 cases\", xlabel=\"perplexity\")\n",
    "ax.set_yticks([])\n",
    "\n",
    "ax = axes[1]\n",
    "ax.barh(range(len(plotdf)), plotdf[\"quantiles\"], color=\"#a8b567\")\n",
    "ax.set(xlabel=\"quantile (inv.)\") # , ticks=[])\n",
    "\n",
    "plt.tight_layout()\n",
    "fig.savefig(snakemake.output.plot)"
   ]
  },
  {
   "cell_type": "code",
   "execution_count": null,
   "id": "540cdfc9-7564-4ffd-884d-417afb7ce27d",
   "metadata": {},
   "outputs": [],
   "source": []
  }
 ],
 "metadata": {
  "kernelspec": {
   "display_name": "Python 3 (ipykernel)",
   "language": "python",
   "name": "python3"
  },
  "language_info": {
   "codemirror_mode": {
    "name": "ipython",
    "version": 3
   },
   "file_extension": ".py",
   "mimetype": "text/x-python",
   "name": "python",
   "nbconvert_exporter": "python",
   "pygments_lexer": "ipython3",
   "version": "3.10.13"
  }
 },
 "nbformat": 4,
 "nbformat_minor": 5
}
