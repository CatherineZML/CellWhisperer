{
 "cells": [
  {
   "cell_type": "code",
   "execution_count": null,
   "id": "e807f592",
   "metadata": {},
   "outputs": [],
   "source": [
    "# start coding here\n",
    "import numpy as np\n",
    "from cellwhisperer.jointemb.cellwhisperer_lightning import TranscriptomeTextDualEncoderLightning\n",
    "from cellwhisperer.utils.model_io import load_cellwhisperer_model\n",
    "from cellwhisperer.utils.inference import score_transcriptomes_vs_texts\n",
    "import pandas as pd\n",
    "from scipy.stats import pearsonr\n",
    "from tqdm.auto import tqdm\n",
    "import torch"
   ]
  },
  {
   "cell_type": "code",
   "execution_count": null,
   "id": "04e44b7b-4b66-4f05-9dca-c59f40a88c3c",
   "metadata": {},
   "outputs": [],
   "source": [
    "# copy from /home/moritz/Projects/cellwhisperer/src/post_clip_processing/notebooks/cellwhisperer_annotate_clusters.py.ipynb"
   ]
  },
  {
   "cell_type": "code",
   "execution_count": null,
   "id": "b338d85f-26de-4d02-8418-9ac2cfe434bc",
   "metadata": {},
   "outputs": [],
   "source": [
    "pl_model, tokenizer, transcriptome_processor = load_cellwhisperer_model(snakemake.input.model)"
   ]
  },
  {
   "cell_type": "code",
   "execution_count": null,
   "id": "15681656-e564-40cb-9434-106502852e77",
   "metadata": {
    "scrolled": true
   },
   "outputs": [],
   "source": [
    "processed = np.load(snakemake.input.processed_dataset, allow_pickle=True)    \n",
    "gsva_results=pd.read_parquet(snakemake.input.gsva_results).set_index(\"Unnamed: 0\")\n",
    "gsva_results.index = gsva_results.index.str.replace(r'\\s*\\(GO:\\d+\\)', '', regex=True)\n",
    "\n",
    "gsva_library = gsva_results.pop(\"library\")"
   ]
  },
  {
   "cell_type": "code",
   "execution_count": null,
   "id": "23971586-4ece-461b-b9d6-3b62c50faeec",
   "metadata": {},
   "outputs": [],
   "source": [
    "assert len(set(gsva_results.columns) - set(processed[\"orig_ids\"]))  == 0, \"It is expected that the GSVA subset is a subset of the full dataset\""
   ]
  },
  {
   "cell_type": "code",
   "execution_count": null,
   "id": "48c9d46a-a821-4cdf-b8ee-cc900572bc34",
   "metadata": {},
   "outputs": [],
   "source": [
    "# select the right embeddings\n",
    "\n",
    "mapping = pd.Series(index=processed[\"orig_ids\"], data=list(range(len(processed[\"orig_ids\"]))))\n",
    "indices = mapping[gsva_results.columns].values\n",
    "indices\n"
   ]
  },
  {
   "cell_type": "code",
   "execution_count": null,
   "id": "5be4abde-7e00-46a3-bf7d-4f7fb1257fd7",
   "metadata": {},
   "outputs": [],
   "source": [
    "transcriptome_embeds = torch.from_numpy(processed[\"transcriptome_embeds\"][indices])"
   ]
  },
  {
   "cell_type": "code",
   "execution_count": null,
   "id": "57ee17b7-c327-46d4-a92f-8b43695568ee",
   "metadata": {},
   "outputs": [],
   "source": [
    "scores, _ = score_transcriptomes_vs_texts(\n",
    "    transcriptome_input=transcriptome_embeds,\n",
    "    text_list_or_text_embeds=gsva_results.index.to_list(),\n",
    "    average_mode=None,  # compute all vs. all\n",
    "    logit_scale=pl_model.model.discriminator.temperature.exp(),\n",
    "    model=pl_model.model,\n",
    "    score_norm_method=None)"
   ]
  },
  {
   "cell_type": "code",
   "execution_count": null,
   "id": "b04534f6-8937-4714-8276-a95036c6ec01",
   "metadata": {},
   "outputs": [],
   "source": [
    "assert all(np.array(scores.shape) == gsva_results.shape)\n",
    "scores_df = pd.DataFrame(data=scores, index=gsva_results.index, columns=gsva_results.columns)\n",
    "scores_df.to_parquet(snakemake.output.cw_transcriptome_term_scores)"
   ]
  }
 ],
 "metadata": {
  "kernelspec": {
   "display_name": "Python 3 (ipykernel)",
   "language": "python",
   "name": "python3"
  },
  "language_info": {
   "codemirror_mode": {
    "name": "ipython",
    "version": 3
   },
   "file_extension": ".py",
   "mimetype": "text/x-python",
   "name": "python",
   "nbconvert_exporter": "python",
   "pygments_lexer": "ipython3",
   "version": "3.10.13"
  }
 },
 "nbformat": 4,
 "nbformat_minor": 5
}
