{
 "cells": [
  {
   "cell_type": "code",
   "execution_count": 1,
   "id": "65882484",
   "metadata": {
    "tags": [
     "snakemake-job-properties"
    ]
   },
   "outputs": [],
   "source": [
    "\n",
    "######## snakemake preamble start (automatically inserted, do not edit) ########\n",
    "import sys; sys.path.extend(['/msc/home/mschae83/miniconda3/lib/python3.9/site-packages', '/msc/home/mschae83/.cache/snakemake/snakemake/source-cache/runtime-cache/tmpnx23ypiq/file/msc/home/mschae83/cellwhisperer/src/llava/rules/../notebooks', '/msc/home/mschae83/cellwhisperer/src/llava/rules/../notebooks']); import pickle; snakemake = pickle.loads(b'\\x80\\x04\\x95\\x0b\\x16\\x00\\x00\\x00\\x00\\x00\\x00\\x8c\\x10snakemake.script\\x94\\x8c\\tSnakemake\\x94\\x93\\x94)\\x81\\x94}\\x94(\\x8c\\x05input\\x94\\x8c\\x0csnakemake.io\\x94\\x8c\\nInputFiles\\x94\\x93\\x94)\\x81\\x94(\\x8ch/msc/home/mschae83/cellwhisperer/results/llava/finetuned/Mistral-7B-Instruct-v0.2__cellwhisperer_clip_v1\\x94\\x8cQ/msc/home/mschae83/cellwhisperer/results/llava/evaluation/main_conversations.json\\x94\\x8c`/msc/home/mschae83/cellwhisperer/results/llava/combined_processed_data/cellwhisperer_clip_v1.npz\\x94e}\\x94(\\x8c\\x06_names\\x94}\\x94(\\x8c\\x0bllava_model\\x94K\\x00N\\x86\\x94\\x8c\\x12evaluation_dataset\\x94K\\x01N\\x86\\x94\\x8c\\nimage_data\\x94K\\x02N\\x86\\x94u\\x8c\\x12_allowed_overrides\\x94]\\x94(\\x8c\\x05index\\x94\\x8c\\x04sort\\x94eh\\x18\\x8c\\tfunctools\\x94\\x8c\\x07partial\\x94\\x93\\x94h\\x06\\x8c\\x19Namedlist._used_attribute\\x94\\x93\\x94\\x85\\x94R\\x94(h\\x1e)}\\x94\\x8c\\x05_name\\x94h\\x18sNt\\x94bh\\x19h\\x1ch\\x1e\\x85\\x94R\\x94(h\\x1e)}\\x94h\"h\\x19sNt\\x94bh\\x10h\\nh\\x12h\\x0bh\\x14h\\x0cub\\x8c\\x06output\\x94h\\x06\\x8c\\x0bOutputFiles\\x94\\x93\\x94)\\x81\\x94\\x8c~/msc/home/mschae83/cellwhisperer/results/plots/llava/main/Mistral-7B-Instruct-v0.2__cellwhisperer_clip_v1/all_perplexities.csv\\x94a}\\x94(h\\x0e}\\x94\\x8c\\x10all_perplexities\\x94K\\x00N\\x86\\x94sh\\x16]\\x94(h\\x18h\\x19eh\\x18h\\x1ch\\x1e\\x85\\x94R\\x94(h\\x1e)}\\x94h\"h\\x18sNt\\x94bh\\x19h\\x1ch\\x1e\\x85\\x94R\\x94(h\\x1e)}\\x94h\"h\\x19sNt\\x94bh/h,ub\\x8c\\x06params\\x94h\\x06\\x8c\\x06Params\\x94\\x93\\x94)\\x81\\x94(K\\x08\\x8c\\x0cllm-response\\x94K\\x1ee}\\x94(h\\x0e}\\x94(\\x8c\\x14num_projector_tokens\\x94K\\x00N\\x86\\x94\\x8c\\x12background_shuffle\\x94K\\x01N\\x86\\x94\\x8c\\rnum_negatives\\x94K\\x02N\\x86\\x94uh\\x16]\\x94(h\\x18h\\x19eh\\x18h\\x1ch\\x1e\\x85\\x94R\\x94(h\\x1e)}\\x94h\"h\\x18sNt\\x94bh\\x19h\\x1ch\\x1e\\x85\\x94R\\x94(h\\x1e)}\\x94h\"h\\x19sNt\\x94bhAK\\x08hCh>hEK\\x1eub\\x8c\\twildcards\\x94h\\x06\\x8c\\tWildcards\\x94\\x93\\x94)\\x81\\x94(\\x8c\\x04main\\x94\\x8c\\x18Mistral-7B-Instruct-v0.2\\x94\\x8c\\x15cellwhisperer_clip_v1\\x94e}\\x94(h\\x0e}\\x94(\\x8c\\x07dataset\\x94K\\x00N\\x86\\x94\\x8c\\nbase_model\\x94K\\x01N\\x86\\x94\\x8c\\x05model\\x94K\\x02N\\x86\\x94uh\\x16]\\x94(h\\x18h\\x19eh\\x18h\\x1ch\\x1e\\x85\\x94R\\x94(h\\x1e)}\\x94h\"h\\x18sNt\\x94bh\\x19h\\x1ch\\x1e\\x85\\x94R\\x94(h\\x1e)}\\x94h\"h\\x19sNt\\x94b\\x8c\\x07dataset\\x94hT\\x8c\\nbase_model\\x94hU\\x8c\\x05model\\x94hVub\\x8c\\x07threads\\x94K\\x01\\x8c\\tresources\\x94h\\x06\\x8c\\tResources\\x94\\x93\\x94)\\x81\\x94(K\\x01K\\x01\\x8c\\x04/tmp\\x94J\\xe0\\x93\\x04\\x00J\\x97]\\x04\\x00\\x8c7cpus-per-task=40 gres=gpu:a100:1 qos=a100 partition=gpu\\x94e}\\x94(h\\x0e}\\x94(\\x8c\\x06_cores\\x94K\\x00N\\x86\\x94\\x8c\\x06_nodes\\x94K\\x01N\\x86\\x94\\x8c\\x06tmpdir\\x94K\\x02N\\x86\\x94\\x8c\\x06mem_mb\\x94K\\x03N\\x86\\x94\\x8c\\x07mem_mib\\x94K\\x04N\\x86\\x94\\x8c\\x05slurm\\x94K\\x05N\\x86\\x94uh\\x16]\\x94(h\\x18h\\x19eh\\x18h\\x1ch\\x1e\\x85\\x94R\\x94(h\\x1e)}\\x94h\"h\\x18sNt\\x94bh\\x19h\\x1ch\\x1e\\x85\\x94R\\x94(h\\x1e)}\\x94h\"h\\x19sNt\\x94bhtK\\x01hvK\\x01hxhphzJ\\xe0\\x93\\x04\\x00h|J\\x97]\\x04\\x00h~hqub\\x8c\\x03log\\x94h\\x06\\x8c\\x03Log\\x94\\x93\\x94)\\x81\\x94\\x8cXlogs/llava_evaluation_perplexity/main_Mistral-7B-Instruct-v0.2_cellwhisperer_clip_v1.log\\x94a}\\x94(h\\x0e}\\x94h\\x16]\\x94(h\\x18h\\x19eh\\x18h\\x1ch\\x1e\\x85\\x94R\\x94(h\\x1e)}\\x94h\"h\\x18sNt\\x94bh\\x19h\\x1ch\\x1e\\x85\\x94R\\x94(h\\x1e)}\\x94h\"h\\x19sNt\\x94bub\\x8c\\x06config\\x94}\\x94(\\x8c\\x12anndata_label_name\\x94\\x8c\\x1bnatural_language_annotation\\x94\\x8c\\x0enum_replicates\\x94K\\x05\\x8c\\x05paths\\x94}\\x94(\\x8c\\rmixtral_model\\x94\\x8cE~/text-generation-webui/models/mixtral-8x7b-instruct-v0.1.Q5_K_M.gguf\\x94\\x8c\\x10read_count_table\\x94\\x8c)resources/{dataset}/read_count_table.h5ad\\x94\\x8c\\x0fraw_annotations\\x94\\x8c#resources/{dataset}/annotations.tsv\\x94\\x8c\\x16structured_annotations\\x94\\x8c\"results/{dataset}/annotations.json\\x94\\x8c\\x15processed_annotations\\x94\\x8c,results/{dataset}/processed_annotations.json\\x94\\x8c\\x1bprocessed_multi_annotations\\x94\\x8c2results/{dataset}/processed_multi_annotations.json\\x94\\x8c\\x0bgeneset_gmt\\x94\\x8c\\x1eresults/genesets/{library}.gmt\\x94\\x8c\\x17model_processed_dataset\\x94\\x8c)results/{dataset}/{model}/full_output.npz\\x94\\x8c\\x0cfull_dataset\\x94\\x8c results/{dataset}/full_data.h5ad\\x94\\x8c\\x0ellm_embeddings\\x94\\x8c$results/{dataset}/llm_embeddings.npz\\x94\\x8c\\x0erna_embeddings\\x94\\x8c$results/{dataset}/rna_embeddings.npz\\x94\\x8c\\x12enrichr_terms_json\\x94\\x8c\"resources/enrichr_terms/terms.json\\x94\\x8c\\x17ensembl_gene_symbol_map\\x94\\x8c%resources/ensembl_gene_symbol_map.csv\\x94\\x8c\\x0fjointemb_models\\x94\\x8c\\x17results/models/jointemb\\x94\\x8c\\nwandb_logs\\x94\\x8c\\x15results/wandb_logging\\x94\\x8c\\x18datamodule_prepared_path\\x94\\x8c/results/{dataset}/lightning-processed/{hash}.pt\\x94\\x8c\\x05cache\\x94\\x8c\\rresults/cache\\x94\\x8c\\x18cancer_gene_essentiality\\x94}\\x94(\\x8c\\x0fccle_expression\\x94\\x8c(CCLE_RNAseq_genes_counts_20180929.gct.gz\\x94\\x8c\\x0fessential_genes\\x94\\x8cEresources/cancer_gene_essentiality/CRISPRInferredCommonEssentials.csv\\x94\\x8c\\x12nonessential_genes\\x94\\x8cCresources/cancer_gene_essentiality/AchillesNonessentialControls.csv\\x94u\\x8c\\x04gsva\\x94}\\x94(\\x8c\\x06result\\x94\\x8c\\x1eresults/{dataset}/gsva.parquet\\x94\\x8c\\x0bcorrelation\\x94\\x8c/results/{dataset}/{model}/gsva_correlations.csv\\x94\\x8c\\x1ccw_transcriptome_term_scores\\x94\\x8c>results/{dataset}/{model}/cw_transcriptome_term_scores.parquet\\x94\\x8c\\x05plots\\x94\\x8c0results/plots/gsva_correlation/{dataset}/{model}\\x94u\\x8c\\x05llava\\x94}\\x94(\\x8c\\x04root\\x94\\x8c\\x0eresults/llava/\\x94\\x8c\\x15pretrain_text_dataset\\x94\\x8c!results/llava/pretrain_texts.json\\x94\\x8c\\x15finetune_text_dataset\\x94\\x8c)results/llava/finetune_conversations.json\\x94\\x8c\\x17evaluation_text_dataset\\x94\\x8c5results/llava/evaluation/{dataset}_conversations.json\\x94\\x8c\\x14pretrained_model_dir\\x94\\x8c/results/llava/pretrained/{base_model}__{model}/\\x94\\x8c\\x13finetuned_model_dir\\x94\\x8c.results/llava/finetuned/{base_model}__{model}/\\x94\\x8c\\x12evaluation_results\\x94\\x8c4results/plots/llava/{dataset}/{base_model}__{model}/\\x94u\\x8c\\x08geo_umap\\x94\\x8c\\x1fresults/plots/geo_umap/{model}/\\x94\\x8c\\tablations\\x94}\\x94(\\x8c\\x06models\\x94\\x8c\\x19results/models/ablations/\\x94\\x8c\\x05plots\\x94\\x8c\\x18results/plots/ablations/\\x94uu\\x8c\\nplot_style\\x94\\x8c\\x19src/plot_style/main.style\\x94\\x8c\\x08datasets\\x94]\\x94(\\x8c\\x06immgen\\x94\\x8c\\x06human_disease\\x94\\x8c\\x0etabula_sapiens\\x94\\x8c!tabula_sapiens_100_cells_per_type\\x94\\x8c\\x0earchs4_geo\\x94\\x8c\\x11development4s_raw\\x94\\x8c\\x16development_merged5000\\x94\\x8c\\x05car_t\\x94\\x8c\\rbowel_disease\\x94\\x8c\\x0egut_cell_atlas\\x94e\\x8c\\x19retrieval_validation_sets\\x94]\\x94(\\x8c\\x13immgen_deduplicated\\x94\\x8c>human_disease_strictly_deduplicated_dmis-lab_biobert-v1.1_CLS_pooling\\x94e\\x8c\\x13model_name_path_map\\x94}\\x94(\\x8c\\ngeneformer\\x94\\x8c\\x1cresources/geneformer-12L-30M\\x94\\x8c\\x06biogpt\\x94\\x8c\\x10microsoft/biogpt\\x94\\x8c\\x04bert\\x94\\x8c\\x15dmis-lab/biobert-v1.1\\x94\\x8c\\x05scgpt\\x94\\x8c\\x15resources/scGPT_human\\x94\\x8c\\rcellwhisperer\\x94\\x8c\\x15cellwhisperer_clip_v1\\x94u\\x8c\\x08genesets\\x94]\\x94(\\x8c\\x0cAzimuth_2023\\x94\\x8c\\x1aGO_Biological_Process_2023\\x94\\x8c\\x1aGO_Cellular_Component_2023\\x94\\x8c\\x1aGO_Molecular_Function_2023\\x94\\x8c\\rOMIM_Expanded\\x94\\x8c\\x18PanglaoDB_Augmented_2021\\x94\\x8c\\x0eTabula_Sapiens\\x94\\x8c\\x19Cytopus_immune_identities\\x94\\x8c\\x11Cytopus_processes\\x94e\\x8c top20_lung_liver_blood_celltypes\\x94]\\x94(\\x8c\\nmacrophage\\x94\\x8c\\x0berythrocyte\\x94\\x8c\\x08monocyte\\x94\\x8c\\x12type ii pneumocyte\\x94\\x8c\\x12classical monocyte\\x94\\x8c\\nneutrophil\\x94\\x8c\\x1fcd4-positive, alpha-beta t cell\\x94\\x8c\\x07nk cell\\x94\\x8c\\x0cnaive b cell\\x94\\x8c\\nbasal cell\\x94\\x8c\\x1fcd8-positive, alpha-beta t cell\\x94\\x8c\\nhepatocyte\\x94\\x8c;cd8-positive, alpha-beta cytokine secreting effector t cell\\x94\\x8c\\tclub cell\\x94\\x8c\\x16non-classical monocyte\\x94\\x8c\\x1acapillary endothelial cell\\x94\\x8c&cd4-positive, alpha-beta memory t cell\\x94\\x8c\\rmemory b cell\\x94\\x8c\\x17respiratory goblet cell\\x94\\x8c\\x08basophil\\x94e\\x8c\\x15SWEEP_HYPERPARAMETERS\\x94}\\x94(\\x8c\\x06method\\x94\\x8c\\x06random\\x94\\x8c\\x04name\\x94\\x8c\\ntest_sweep\\x94\\x8c\\x06metric\\x94}\\x94(\\x8c\\x04goal\\x94\\x8c\\x08minimize\\x94\\x8c\\x04name\\x94\\x8c\\x08val_loss\\x94u\\x8c\\nparameters\\x94}\\x94(\\x8c\\nbatch_size\\x94}\\x94\\x8c\\x06values\\x94]\\x94(K\\x02K\\x04es\\x8c\\x14trainer.fast_dev_run\\x94}\\x94\\x8c\\x06values\\x94]\\x94\\x88asuuu\\x8c\\x04rule\\x94\\x8c\\x1bllava_evaluation_perplexity\\x94\\x8c\\x0fbench_iteration\\x94N\\x8c\\tscriptdir\\x94\\x8c=/msc/home/mschae83/cellwhisperer/src/llava/rules/../notebooks\\x94ub.'); from snakemake.logging import logger; logger.printshellcmds = False; import os; os.chdir(r'/msc/home/mschae83/cellwhisperer/src/llava');\n",
    "######## snakemake preamble end #########\n"
   ]
  },
  {
   "cell_type": "code",
   "execution_count": 2,
   "id": "1ee9018e-b0d7-44ce-9e3c-4921337c453d",
   "metadata": {},
   "outputs": [
    {
     "name": "stdout",
     "output_type": "stream",
     "text": [
      "[2024-05-13 07:06:35,310] [INFO] [real_accelerator.py:161:get_accelerator] Setting ds_accelerator to cuda (auto detect)\n"
     ]
    }
   ],
   "source": [
    "import json\n",
    "import seaborn as sns\n",
    "import numpy as np\n",
    "import random\n",
    "import pandas as pd\n",
    "import matplotlib.pyplot as plt \n",
    "import matplotlib\n",
    "\n",
    "\n",
    "from llava.mm_utils import get_model_name_from_path\n",
    "from llava.model.builder import load_pretrained_model\n",
    "from llava.mm_utils import process_images, load_image_from_base64, tokenizer_image_token\n",
    "from llava.constants import IMAGE_TOKEN_INDEX, DEFAULT_IMAGE_TOKEN, DEFAULT_IM_START_TOKEN, DEFAULT_IM_END_TOKEN\n",
    "from llava.conversation import conv_templates, SeparatorStyle\n",
    "from llava import conversation as conversation_lib\n",
    "\n",
    "\n",
    "\n",
    "from llava.train.train import LazySupervisedDataset, DataArguments, DataCollatorForSupervisedDataset\n",
    "import torch\n",
    "from transformers import Trainer, EvalPrediction\n",
    "import transformers\n",
    "from torch.nn import CrossEntropyLoss\n",
    "\n",
    "model_dir = snakemake.input.llava_model # \"/msc/home/mschae83/cellwhisperer/results/llava/finetuned/Mistral-7B-Instruct-v0.2__03jujd8s/\"\n",
    "evaluation_dataset_fn = snakemake.input.evaluation_dataset  # \"/msc/home/mschae83/cellwhisperer/results/llava_evaluation_conversations.json\"\n"
   ]
  },
  {
   "cell_type": "code",
   "execution_count": 3,
   "id": "fac74bd9",
   "metadata": {},
   "outputs": [
    {
     "data": {
      "text/plain": [
       "{'id': 'SRX2912916',\n",
       " 'image': 'SRX2912916',\n",
       " 'conversations': [{'from': 'human',\n",
       "   'value': 'What type of cell does this sample represent?\\n<image>'},\n",
       "  {'from': 'gpt',\n",
       "   'value': 'This sample appears to be a glial cell derived from a human cortical spheroid.'},\n",
       "  {'from': 'human',\n",
       "   'value': 'What pathways or functions are associated with this glial cell?'},\n",
       "  {'from': 'gpt',\n",
       "   'value': 'The glial cell is associated with various immune system functions, blood-related cells, tissue-specific b cells, dendritic cells, thymocytes, and mast cells from different organs.'}]}"
      ]
     },
     "execution_count": 3,
     "metadata": {},
     "output_type": "execute_result"
    }
   ],
   "source": [
    "with open(evaluation_dataset_fn) as f:\n",
    "    eval_set = json.load(f)\n",
    "eval_set[0]"
   ]
  },
  {
   "cell_type": "code",
   "execution_count": 4,
   "id": "152f8ed9-8164-42f7-839a-30f6141ae4bc",
   "metadata": {},
   "outputs": [
    {
     "name": "stderr",
     "output_type": "stream",
     "text": [
      "You are using a model of type llava_llama to instantiate a model of type llava_mistral. This is not supported for all configurations of models and can yield errors.\n"
     ]
    },
    {
     "data": {
      "application/vnd.jupyter.widget-view+json": {
       "model_id": "6ff2fd3f5b1344258391212d0674c650",
       "version_major": 2,
       "version_minor": 0
      },
      "text/plain": [
       "Loading checkpoint shards:   0%|          | 0/4 [00:00<?, ?it/s]"
      ]
     },
     "metadata": {},
     "output_type": "display_data"
    }
   ],
   "source": [
    "# Load the model\n",
    "\n",
    "# TODO make sure load_pretrained_model is flexible enough. \n",
    "\n",
    "model_name=get_model_name_from_path(model_dir)\n",
    "assert \"mistral\" in model_name.lower() and \"__\" in model_name, \"sure that you are not using a mistral model? LLaVA depends on having it in the name (if it is mistral)\"\n",
    "\n",
    "tokenizer, model, image_processor, context_len = load_pretrained_model(\n",
    "    model_dir, model_base=None, model_name=model_name, load_8bit=False, load_4bit=False, device=\"cuda\", use_flash_attn=False)"
   ]
  },
  {
   "cell_type": "code",
   "execution_count": 5,
   "id": "16055e8e-e648-4e43-8c83-823420b5fff8",
   "metadata": {
    "scrolled": true
   },
   "outputs": [],
   "source": [
    "conversation_lib.default_conversation = conversation_lib.conv_templates[\"mistral_instruct\"]\n",
    "\n",
    "eval_dataset = LazySupervisedDataset(evaluation_dataset_fn, tokenizer, DataArguments(image_data=snakemake.input.image_data))\n",
    "assert len(eval_dataset) > 0, \"Something is wrong with the input data: LazySupervisedDataset sees 0 data points.\"\n",
    "\n",
    "data_collator = DataCollatorForSupervisedDataset(tokenizer=tokenizer)"
   ]
  },
  {
   "cell_type": "code",
   "execution_count": 6,
   "id": "4518a474-cffd-4e14-b0f8-34519cfff4b7",
   "metadata": {},
   "outputs": [],
   "source": [
    "def compute_perplexity(eval_pred: EvalPrediction):\n",
    "    \"\"\"\n",
    "    To align each logit with the label of the next token (LLMs predict for each input the NEXT token, we need to shift 1 to the right.\n",
    "    Because the labels are not adjusted correctly, we additionally adjust them manually be additional 8-1 tokens\n",
    "    \"\"\"\n",
    "    logits, labels = eval_pred.predictions, eval_pred.label_ids\n",
    "\n",
    "    shift_logits = torch.from_numpy(logits)[..., snakemake.params.num_projector_tokens-1:-1, :].contiguous()  \n",
    "    shift_labels = torch.from_numpy(labels)[..., 1:].contiguous()\n",
    "\n",
    "    attention_mask = (shift_labels > -100)  # also cover -200\n",
    "\n",
    "    # Calculate loss with CrossEntropyLoss, which expects raw logits, not probabilities\n",
    "    loss_fct = CrossEntropyLoss(reduction='none')  # ignores -100 token implicitly\n",
    "    # Only compute loss where attention_mask is true\n",
    "    loss = loss_fct(shift_logits.view(-1, shift_logits.size(-1)), shift_labels.view(-1))\n",
    "    loss = loss.view(shift_labels.size())\n",
    "\n",
    "    # Apply the attention mask to exclude ignored indices from the loss calculation\n",
    "    masked_loss = torch.where(attention_mask, loss, torch.tensor(0.0).to(loss.device))\n",
    "\n",
    "    # Sum the loss per example and divide by the number of non-ignored tokens to get the loss per example\n",
    "    example_losses = torch.sum(masked_loss, dim=1)\n",
    "    example_lengths = torch.sum(attention_mask, dim=1)\n",
    "    example_perplexities = torch.exp(example_losses / example_lengths)\n",
    "\n",
    "    # Calculate the mean perplexity across all examples\n",
    "    mean_perplexity = torch.mean(example_perplexities)\n",
    "\n",
    "    return {\"perplexity\": mean_perplexity.item(), \"all_perplexities\": example_perplexities}"
   ]
  },
  {
   "cell_type": "code",
   "execution_count": 7,
   "id": "fac112f1-b52c-40f1-869e-11eaf7b528bd",
   "metadata": {
    "scrolled": true
   },
   "outputs": [
    {
     "data": {
      "text/html": [
       "\n",
       "    <div>\n",
       "      \n",
       "      <progress value='25' max='25' style='width:300px; height:20px; vertical-align: middle;'></progress>\n",
       "      [25/25 00:17]\n",
       "    </div>\n",
       "    "
      ],
      "text/plain": [
       "<IPython.core.display.HTML object>"
      ]
     },
     "metadata": {},
     "output_type": "display_data"
    }
   ],
   "source": [
    "# Assuming you have already defined `model`, `tokenizer`, `eval_dataset`, and `data_collator`\n",
    "trainer = Trainer(\n",
    "    model=model,\n",
    "    tokenizer=tokenizer,\n",
    "    eval_dataset=eval_dataset,\n",
    "    data_collator=data_collator,\n",
    "    compute_metrics=compute_perplexity,\n",
    "    args=transformers.TrainingArguments(report_to=\"none\", output_dir=\"/tmp\", eval_accumulation_steps=8)\n",
    ")\n",
    "\n",
    "# Evaluate the model\n",
    "correct_results = trainer.evaluate()\n",
    "correct_results[\"eval_all_perplexities\"] = correct_results[\"eval_all_perplexities\"].detach()\n",
    "correct_results[\"response\"] = [conv[\"conversations\"][-1][\"value\"] for conv in eval_dataset.list_data_dict]\n",
    "correct_results[\"type\"] = \"correct\"\n",
    "correct_results[\"question\"] = list(range(len(correct_results[\"eval_all_perplexities\"])))\n",
    "correct_results[\"replicate\"] = \"-1\""
   ]
  },
  {
   "cell_type": "code",
   "execution_count": 12,
   "id": "7f6672bd-44ab-4da2-87c0-c65daf5aea8b",
   "metadata": {},
   "outputs": [
    {
     "data": {
      "text/html": [
       "\n",
       "    <div>\n",
       "      \n",
       "      <progress value='25' max='25' style='width:300px; height:20px; vertical-align: middle;'></progress>\n",
       "      [25/25 00:23]\n",
       "    </div>\n",
       "    "
      ],
      "text/plain": [
       "<IPython.core.display.HTML object>"
      ]
     },
     "metadata": {},
     "output_type": "display_data"
    },
    {
     "data": {
      "text/html": [
       "\n",
       "    <div>\n",
       "      \n",
       "      <progress value='25' max='25' style='width:300px; height:20px; vertical-align: middle;'></progress>\n",
       "      [25/25 00:28]\n",
       "    </div>\n",
       "    "
      ],
      "text/plain": [
       "<IPython.core.display.HTML object>"
      ]
     },
     "metadata": {},
     "output_type": "display_data"
    },
    {
     "data": {
      "text/html": [
       "\n",
       "    <div>\n",
       "      \n",
       "      <progress value='25' max='25' style='width:300px; height:20px; vertical-align: middle;'></progress>\n",
       "      [25/25 00:23]\n",
       "    </div>\n",
       "    "
      ],
      "text/plain": [
       "<IPython.core.display.HTML object>"
      ]
     },
     "metadata": {},
     "output_type": "display_data"
    },
    {
     "data": {
      "text/html": [
       "\n",
       "    <div>\n",
       "      \n",
       "      <progress value='25' max='25' style='width:300px; height:20px; vertical-align: middle;'></progress>\n",
       "      [25/25 00:23]\n",
       "    </div>\n",
       "    "
      ],
      "text/plain": [
       "<IPython.core.display.HTML object>"
      ]
     },
     "metadata": {},
     "output_type": "display_data"
    },
    {
     "data": {
      "text/html": [
       "\n",
       "    <div>\n",
       "      \n",
       "      <progress value='25' max='25' style='width:300px; height:20px; vertical-align: middle;'></progress>\n",
       "      [25/25 00:27]\n",
       "    </div>\n",
       "    "
      ],
      "text/plain": [
       "<IPython.core.display.HTML object>"
      ]
     },
     "metadata": {},
     "output_type": "display_data"
    },
    {
     "data": {
      "text/html": [
       "\n",
       "    <div>\n",
       "      \n",
       "      <progress value='25' max='25' style='width:300px; height:20px; vertical-align: middle;'></progress>\n",
       "      [25/25 00:25]\n",
       "    </div>\n",
       "    "
      ],
      "text/plain": [
       "<IPython.core.display.HTML object>"
      ]
     },
     "metadata": {},
     "output_type": "display_data"
    },
    {
     "data": {
      "text/html": [
       "\n",
       "    <div>\n",
       "      \n",
       "      <progress value='25' max='25' style='width:300px; height:20px; vertical-align: middle;'></progress>\n",
       "      [25/25 00:25]\n",
       "    </div>\n",
       "    "
      ],
      "text/plain": [
       "<IPython.core.display.HTML object>"
      ]
     },
     "metadata": {},
     "output_type": "display_data"
    },
    {
     "data": {
      "text/html": [
       "\n",
       "    <div>\n",
       "      \n",
       "      <progress value='25' max='25' style='width:300px; height:20px; vertical-align: middle;'></progress>\n",
       "      [25/25 00:24]\n",
       "    </div>\n",
       "    "
      ],
      "text/plain": [
       "<IPython.core.display.HTML object>"
      ]
     },
     "metadata": {},
     "output_type": "display_data"
    },
    {
     "data": {
      "text/html": [
       "\n",
       "    <div>\n",
       "      \n",
       "      <progress value='25' max='25' style='width:300px; height:20px; vertical-align: middle;'></progress>\n",
       "      [25/25 00:24]\n",
       "    </div>\n",
       "    "
      ],
      "text/plain": [
       "<IPython.core.display.HTML object>"
      ]
     },
     "metadata": {},
     "output_type": "display_data"
    },
    {
     "data": {
      "text/html": [
       "\n",
       "    <div>\n",
       "      \n",
       "      <progress value='25' max='25' style='width:300px; height:20px; vertical-align: middle;'></progress>\n",
       "      [25/25 00:22]\n",
       "    </div>\n",
       "    "
      ],
      "text/plain": [
       "<IPython.core.display.HTML object>"
      ]
     },
     "metadata": {},
     "output_type": "display_data"
    },
    {
     "data": {
      "text/html": [
       "\n",
       "    <div>\n",
       "      \n",
       "      <progress value='25' max='25' style='width:300px; height:20px; vertical-align: middle;'></progress>\n",
       "      [25/25 00:23]\n",
       "    </div>\n",
       "    "
      ],
      "text/plain": [
       "<IPython.core.display.HTML object>"
      ]
     },
     "metadata": {},
     "output_type": "display_data"
    },
    {
     "data": {
      "text/html": [
       "\n",
       "    <div>\n",
       "      \n",
       "      <progress value='25' max='25' style='width:300px; height:20px; vertical-align: middle;'></progress>\n",
       "      [25/25 00:26]\n",
       "    </div>\n",
       "    "
      ],
      "text/plain": [
       "<IPython.core.display.HTML object>"
      ]
     },
     "metadata": {},
     "output_type": "display_data"
    },
    {
     "data": {
      "text/html": [
       "\n",
       "    <div>\n",
       "      \n",
       "      <progress value='25' max='25' style='width:300px; height:20px; vertical-align: middle;'></progress>\n",
       "      [25/25 00:25]\n",
       "    </div>\n",
       "    "
      ],
      "text/plain": [
       "<IPython.core.display.HTML object>"
      ]
     },
     "metadata": {},
     "output_type": "display_data"
    },
    {
     "data": {
      "text/html": [
       "\n",
       "    <div>\n",
       "      \n",
       "      <progress value='25' max='25' style='width:300px; height:20px; vertical-align: middle;'></progress>\n",
       "      [25/25 00:23]\n",
       "    </div>\n",
       "    "
      ],
      "text/plain": [
       "<IPython.core.display.HTML object>"
      ]
     },
     "metadata": {},
     "output_type": "display_data"
    },
    {
     "data": {
      "text/html": [
       "\n",
       "    <div>\n",
       "      \n",
       "      <progress value='25' max='25' style='width:300px; height:20px; vertical-align: middle;'></progress>\n",
       "      [25/25 00:24]\n",
       "    </div>\n",
       "    "
      ],
      "text/plain": [
       "<IPython.core.display.HTML object>"
      ]
     },
     "metadata": {},
     "output_type": "display_data"
    },
    {
     "data": {
      "text/html": [
       "\n",
       "    <div>\n",
       "      \n",
       "      <progress value='25' max='25' style='width:300px; height:20px; vertical-align: middle;'></progress>\n",
       "      [25/25 00:24]\n",
       "    </div>\n",
       "    "
      ],
      "text/plain": [
       "<IPython.core.display.HTML object>"
      ]
     },
     "metadata": {},
     "output_type": "display_data"
    },
    {
     "data": {
      "text/html": [
       "\n",
       "    <div>\n",
       "      \n",
       "      <progress value='25' max='25' style='width:300px; height:20px; vertical-align: middle;'></progress>\n",
       "      [25/25 00:23]\n",
       "    </div>\n",
       "    "
      ],
      "text/plain": [
       "<IPython.core.display.HTML object>"
      ]
     },
     "metadata": {},
     "output_type": "display_data"
    },
    {
     "data": {
      "text/html": [
       "\n",
       "    <div>\n",
       "      \n",
       "      <progress value='25' max='25' style='width:300px; height:20px; vertical-align: middle;'></progress>\n",
       "      [25/25 00:24]\n",
       "    </div>\n",
       "    "
      ],
      "text/plain": [
       "<IPython.core.display.HTML object>"
      ]
     },
     "metadata": {},
     "output_type": "display_data"
    },
    {
     "data": {
      "text/html": [
       "\n",
       "    <div>\n",
       "      \n",
       "      <progress value='25' max='25' style='width:300px; height:20px; vertical-align: middle;'></progress>\n",
       "      [25/25 00:24]\n",
       "    </div>\n",
       "    "
      ],
      "text/plain": [
       "<IPython.core.display.HTML object>"
      ]
     },
     "metadata": {},
     "output_type": "display_data"
    },
    {
     "data": {
      "text/html": [
       "\n",
       "    <div>\n",
       "      \n",
       "      <progress value='25' max='25' style='width:300px; height:20px; vertical-align: middle;'></progress>\n",
       "      [25/25 00:23]\n",
       "    </div>\n",
       "    "
      ],
      "text/plain": [
       "<IPython.core.display.HTML object>"
      ]
     },
     "metadata": {},
     "output_type": "display_data"
    },
    {
     "data": {
      "text/html": [
       "\n",
       "    <div>\n",
       "      \n",
       "      <progress value='25' max='25' style='width:300px; height:20px; vertical-align: middle;'></progress>\n",
       "      [25/25 00:24]\n",
       "    </div>\n",
       "    "
      ],
      "text/plain": [
       "<IPython.core.display.HTML object>"
      ]
     },
     "metadata": {},
     "output_type": "display_data"
    },
    {
     "data": {
      "text/html": [
       "\n",
       "    <div>\n",
       "      \n",
       "      <progress value='25' max='25' style='width:300px; height:20px; vertical-align: middle;'></progress>\n",
       "      [25/25 00:25]\n",
       "    </div>\n",
       "    "
      ],
      "text/plain": [
       "<IPython.core.display.HTML object>"
      ]
     },
     "metadata": {},
     "output_type": "display_data"
    },
    {
     "data": {
      "text/html": [
       "\n",
       "    <div>\n",
       "      \n",
       "      <progress value='25' max='25' style='width:300px; height:20px; vertical-align: middle;'></progress>\n",
       "      [25/25 00:26]\n",
       "    </div>\n",
       "    "
      ],
      "text/plain": [
       "<IPython.core.display.HTML object>"
      ]
     },
     "metadata": {},
     "output_type": "display_data"
    },
    {
     "data": {
      "text/html": [
       "\n",
       "    <div>\n",
       "      \n",
       "      <progress value='25' max='25' style='width:300px; height:20px; vertical-align: middle;'></progress>\n",
       "      [25/25 00:24]\n",
       "    </div>\n",
       "    "
      ],
      "text/plain": [
       "<IPython.core.display.HTML object>"
      ]
     },
     "metadata": {},
     "output_type": "display_data"
    },
    {
     "data": {
      "text/html": [
       "\n",
       "    <div>\n",
       "      \n",
       "      <progress value='25' max='25' style='width:300px; height:20px; vertical-align: middle;'></progress>\n",
       "      [25/25 00:25]\n",
       "    </div>\n",
       "    "
      ],
      "text/plain": [
       "<IPython.core.display.HTML object>"
      ]
     },
     "metadata": {},
     "output_type": "display_data"
    },
    {
     "data": {
      "text/html": [
       "\n",
       "    <div>\n",
       "      \n",
       "      <progress value='25' max='25' style='width:300px; height:20px; vertical-align: middle;'></progress>\n",
       "      [25/25 00:23]\n",
       "    </div>\n",
       "    "
      ],
      "text/plain": [
       "<IPython.core.display.HTML object>"
      ]
     },
     "metadata": {},
     "output_type": "display_data"
    },
    {
     "data": {
      "text/html": [
       "\n",
       "    <div>\n",
       "      \n",
       "      <progress value='25' max='25' style='width:300px; height:20px; vertical-align: middle;'></progress>\n",
       "      [25/25 00:24]\n",
       "    </div>\n",
       "    "
      ],
      "text/plain": [
       "<IPython.core.display.HTML object>"
      ]
     },
     "metadata": {},
     "output_type": "display_data"
    },
    {
     "data": {
      "text/html": [
       "\n",
       "    <div>\n",
       "      \n",
       "      <progress value='25' max='25' style='width:300px; height:20px; vertical-align: middle;'></progress>\n",
       "      [25/25 00:26]\n",
       "    </div>\n",
       "    "
      ],
      "text/plain": [
       "<IPython.core.display.HTML object>"
      ]
     },
     "metadata": {},
     "output_type": "display_data"
    },
    {
     "data": {
      "text/html": [
       "\n",
       "    <div>\n",
       "      \n",
       "      <progress value='25' max='25' style='width:300px; height:20px; vertical-align: middle;'></progress>\n",
       "      [25/25 00:28]\n",
       "    </div>\n",
       "    "
      ],
      "text/plain": [
       "<IPython.core.display.HTML object>"
      ]
     },
     "metadata": {},
     "output_type": "display_data"
    },
    {
     "data": {
      "text/html": [
       "\n",
       "    <div>\n",
       "      \n",
       "      <progress value='25' max='25' style='width:300px; height:20px; vertical-align: middle;'></progress>\n",
       "      [25/25 00:24]\n",
       "    </div>\n",
       "    "
      ],
      "text/plain": [
       "<IPython.core.display.HTML object>"
      ]
     },
     "metadata": {},
     "output_type": "display_data"
    }
   ],
   "source": [
    "incorrect_results = []\n",
    "\n",
    "true_responses = [conv[\"conversations\"][-1][\"value\"] for conv in eval_dataset.list_data_dict]\n",
    "possible_responses = set(true_responses)\n",
    "\n",
    "for i in range(snakemake.params.num_negatives):\n",
    "    # Calculate background perplexity (i.e. with the wrongly matched transcriptome)\n",
    "    random.seed(i) # something seems to reset the seed on every iteration, so we need to force it differently for random.choice\n",
    "\n",
    "    # shift by two to induce mismatches that account for the duplicate data points (once conversation, once description)\n",
    "    if snakemake.params.background_shuffle == \"transcriptome\":\n",
    "        eval_dataset.orig_id_to_int = {k: (v+2)%len(eval_dataset.orig_id_to_int) for k, v in eval_dataset.orig_id_to_int.items()}\n",
    "    else:\n",
    "        assert snakemake.params.background_shuffle == \"llm-response\"\n",
    "        for true_response, conv in zip(true_responses, eval_dataset.list_data_dict):\n",
    "            # sample an incorrect response\n",
    "            conv[\"conversations\"][-1][\"value\"] = random.choice(list(possible_responses - {true_response}))\n",
    "\n",
    "    data_collator = DataCollatorForSupervisedDataset(tokenizer=tokenizer)\n",
    "    trainer = Trainer(\n",
    "        model=model,\n",
    "        tokenizer=tokenizer,\n",
    "        eval_dataset=eval_dataset,\n",
    "        data_collator=data_collator,\n",
    "        compute_metrics=compute_perplexity,\n",
    "        args=transformers.TrainingArguments(report_to=\"none\", output_dir=\"/tmp\", eval_accumulation_steps=4)\n",
    "    )\n",
    "    incorrect_result = trainer.evaluate()\n",
    "    incorrect_result[\"eval_all_perplexities\"] = incorrect_result[\"eval_all_perplexities\"].detach()  # just to make sure. I had OOMs before\n",
    "    incorrect_result[\"type\"] = \"incorrect\"\n",
    "    incorrect_result[\"replicate\"] = i\n",
    "    incorrect_result[\"question_id\"] = list(range(len(incorrect_result[\"eval_all_perplexities\"])))\n",
    "    incorrect_results.append(incorrect_result)\n",
    "    torch.cuda.empty_cache() "
   ]
  },
  {
   "cell_type": "code",
   "execution_count": 13,
   "id": "99e6dafc-12c7-4b1d-be34-7f2c10e51196",
   "metadata": {},
   "outputs": [
    {
     "data": {
      "text/plain": [
       "{'eval_loss': 1.1411175727844238,\n",
       " 'eval_perplexity': 3.638566493988037,\n",
       " 'eval_all_perplexities': tensor([ 2.8425,  2.7566,  2.4915,  4.0602,  5.1986,  2.9641,  3.0686,  2.1402,\n",
       "          8.8492,  5.0627,  4.1715, 10.5024,  2.7716,  4.1951,  2.9042,  2.4205,\n",
       "          4.0696,  3.2101,  3.5068,  8.1613,  2.7427,  2.6394,  1.8520,  3.0170,\n",
       "          2.5514,  2.5346,  3.3245,  3.4187,  8.6089,  3.0718,  5.3712,  4.7172,\n",
       "          4.1687,  2.5569,  2.5677,  5.0554,  4.2537,  3.2832,  5.2388,  5.5407,\n",
       "          3.4510,  3.2732,  2.5812,  2.9252,  2.5223,  4.3612,  4.0471,  2.7445,\n",
       "          1.9490,  2.8355,  3.6302,  3.4120,  5.0679,  3.8373,  1.9031,  5.1733,\n",
       "          5.3040,  3.0025,  2.1889,  2.7650,  2.3784,  2.6338,  4.6373,  5.3511,\n",
       "          3.0204,  6.4305, 13.4512,  5.6732,  7.2332,  2.9500,  6.3509,  3.2838,\n",
       "          3.1890,  1.8110,  3.3913,  1.9299,  4.8301,  3.1963,  7.6059,  3.0283,\n",
       "          7.2889,  2.7234,  2.9913,  3.4210,  9.5255,  2.9001,  2.6967,  4.1525,\n",
       "          2.9126,  2.1378,  4.6993,  8.7796,  3.8504,  3.0519,  2.7085,  3.3755,\n",
       "          4.1526,  2.3039,  2.2490,  3.5446,  2.4097,  4.3478,  5.1183,  2.6214,\n",
       "          3.8908,  2.9601,  3.0213,  2.2948,  5.4312,  5.7123,  2.5924,  2.6934,\n",
       "          3.9315,  3.6533,  2.3139,  2.8340,  2.7078,  2.1962,  3.4431,  3.9789,\n",
       "          3.7267,  3.3774,  2.7881,  2.5890,  4.4369,  2.6495,  2.5394,  2.5555,\n",
       "          3.9083,  6.3640,  4.2195,  2.7472,  3.2350,  2.8084,  3.2702,  3.2125,\n",
       "          3.5235,  2.0825,  3.7133,  3.3649,  3.1683,  4.2420,  2.7277,  2.7220,\n",
       "          2.8969,  2.1407,  3.1361,  5.6062,  2.6060,  2.6842,  4.8239,  6.3949,\n",
       "          2.5859,  2.0790,  2.2251,  2.7084,  3.0174,  3.6305,  2.2833,  4.8178,\n",
       "          3.7449,  2.9258,  2.1069,  3.8429,  3.1905,  4.2677,  2.5562,  3.3962,\n",
       "          3.4493,  5.4933,  3.9178,  2.6342,  2.9356,  3.3065,  2.1286,  3.2748,\n",
       "          2.5194,  2.3877,  2.5368,  2.8791,  2.1539,  4.0977,  2.6104,  2.3466,\n",
       "          2.2812,  4.1188,  2.9038,  2.6838,  2.1824,  3.3881,  3.0419,  3.1173,\n",
       "          4.7415,  1.9283,  5.2621,  3.1510,  4.1968,  2.7996,  2.7503,  2.0270]),\n",
       " 'eval_runtime': 45.4501,\n",
       " 'eval_samples_per_second': 4.4,\n",
       " 'eval_steps_per_second': 0.55,\n",
       " 'type': 'incorrect',\n",
       " 'replicate': 0,\n",
       " 'question_id': [0,\n",
       "  1,\n",
       "  2,\n",
       "  3,\n",
       "  4,\n",
       "  5,\n",
       "  6,\n",
       "  7,\n",
       "  8,\n",
       "  9,\n",
       "  10,\n",
       "  11,\n",
       "  12,\n",
       "  13,\n",
       "  14,\n",
       "  15,\n",
       "  16,\n",
       "  17,\n",
       "  18,\n",
       "  19,\n",
       "  20,\n",
       "  21,\n",
       "  22,\n",
       "  23,\n",
       "  24,\n",
       "  25,\n",
       "  26,\n",
       "  27,\n",
       "  28,\n",
       "  29,\n",
       "  30,\n",
       "  31,\n",
       "  32,\n",
       "  33,\n",
       "  34,\n",
       "  35,\n",
       "  36,\n",
       "  37,\n",
       "  38,\n",
       "  39,\n",
       "  40,\n",
       "  41,\n",
       "  42,\n",
       "  43,\n",
       "  44,\n",
       "  45,\n",
       "  46,\n",
       "  47,\n",
       "  48,\n",
       "  49,\n",
       "  50,\n",
       "  51,\n",
       "  52,\n",
       "  53,\n",
       "  54,\n",
       "  55,\n",
       "  56,\n",
       "  57,\n",
       "  58,\n",
       "  59,\n",
       "  60,\n",
       "  61,\n",
       "  62,\n",
       "  63,\n",
       "  64,\n",
       "  65,\n",
       "  66,\n",
       "  67,\n",
       "  68,\n",
       "  69,\n",
       "  70,\n",
       "  71,\n",
       "  72,\n",
       "  73,\n",
       "  74,\n",
       "  75,\n",
       "  76,\n",
       "  77,\n",
       "  78,\n",
       "  79,\n",
       "  80,\n",
       "  81,\n",
       "  82,\n",
       "  83,\n",
       "  84,\n",
       "  85,\n",
       "  86,\n",
       "  87,\n",
       "  88,\n",
       "  89,\n",
       "  90,\n",
       "  91,\n",
       "  92,\n",
       "  93,\n",
       "  94,\n",
       "  95,\n",
       "  96,\n",
       "  97,\n",
       "  98,\n",
       "  99,\n",
       "  100,\n",
       "  101,\n",
       "  102,\n",
       "  103,\n",
       "  104,\n",
       "  105,\n",
       "  106,\n",
       "  107,\n",
       "  108,\n",
       "  109,\n",
       "  110,\n",
       "  111,\n",
       "  112,\n",
       "  113,\n",
       "  114,\n",
       "  115,\n",
       "  116,\n",
       "  117,\n",
       "  118,\n",
       "  119,\n",
       "  120,\n",
       "  121,\n",
       "  122,\n",
       "  123,\n",
       "  124,\n",
       "  125,\n",
       "  126,\n",
       "  127,\n",
       "  128,\n",
       "  129,\n",
       "  130,\n",
       "  131,\n",
       "  132,\n",
       "  133,\n",
       "  134,\n",
       "  135,\n",
       "  136,\n",
       "  137,\n",
       "  138,\n",
       "  139,\n",
       "  140,\n",
       "  141,\n",
       "  142,\n",
       "  143,\n",
       "  144,\n",
       "  145,\n",
       "  146,\n",
       "  147,\n",
       "  148,\n",
       "  149,\n",
       "  150,\n",
       "  151,\n",
       "  152,\n",
       "  153,\n",
       "  154,\n",
       "  155,\n",
       "  156,\n",
       "  157,\n",
       "  158,\n",
       "  159,\n",
       "  160,\n",
       "  161,\n",
       "  162,\n",
       "  163,\n",
       "  164,\n",
       "  165,\n",
       "  166,\n",
       "  167,\n",
       "  168,\n",
       "  169,\n",
       "  170,\n",
       "  171,\n",
       "  172,\n",
       "  173,\n",
       "  174,\n",
       "  175,\n",
       "  176,\n",
       "  177,\n",
       "  178,\n",
       "  179,\n",
       "  180,\n",
       "  181,\n",
       "  182,\n",
       "  183,\n",
       "  184,\n",
       "  185,\n",
       "  186,\n",
       "  187,\n",
       "  188,\n",
       "  189,\n",
       "  190,\n",
       "  191,\n",
       "  192,\n",
       "  193,\n",
       "  194,\n",
       "  195,\n",
       "  196,\n",
       "  197,\n",
       "  198,\n",
       "  199]}"
      ]
     },
     "execution_count": 13,
     "metadata": {},
     "output_type": "execute_result"
    }
   ],
   "source": [
    "incorrect_results[0]"
   ]
  },
  {
   "cell_type": "code",
   "execution_count": 14,
   "id": "9560613d-8b8d-46f5-8b6b-7ed63f1c4f80",
   "metadata": {},
   "outputs": [],
   "source": [
    "df = pd.concat([pd.DataFrame(correct_results)] + [pd.DataFrame(incorrect_result) for incorrect_result in incorrect_results])"
   ]
  },
  {
   "cell_type": "code",
   "execution_count": 15,
   "id": "6a1f0eca-c9ca-462c-849e-ff4111022b7b",
   "metadata": {},
   "outputs": [],
   "source": [
    "df.to_csv(snakemake.output.all_perplexities)"
   ]
  }
 ],
 "metadata": {
  "kernelspec": {
   "display_name": "Python 3 (ipykernel)",
   "language": "python",
   "name": "python3"
  },
  "language_info": {
   "codemirror_mode": {
    "name": "ipython",
    "version": 3
   },
   "file_extension": ".py",
   "mimetype": "text/x-python",
   "name": "python",
   "nbconvert_exporter": "python",
   "pygments_lexer": "ipython3",
   "version": "3.10.13"
  }
 },
 "nbformat": 4,
 "nbformat_minor": 5
}
