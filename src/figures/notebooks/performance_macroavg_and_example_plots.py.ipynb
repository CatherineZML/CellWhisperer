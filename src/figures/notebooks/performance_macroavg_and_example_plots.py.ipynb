{
 "cells": [
  {
   "cell_type": "code",
   "execution_count": null,
   "metadata": {},
   "outputs": [],
   "source": [
    "import os\n",
    "from zero_shot_validation_scripts.plotting import (\n",
    "    plot_performance_metrics_macro_avg,\n",
    "    plot_performance_metrics_example_classes\n",
    ")\n",
    "from zero_shot_validation_scripts.utils import (\n",
    "    SUFFIX_PREFIX_DICT\n",
    ")\n"
   ]
  },
  {
   "cell_type": "code",
   "execution_count": null,
   "metadata": {},
   "outputs": [],
   "source": [
    "# Performance on some examples for various tasks:\n",
    "result_dir = os.path.dirname(snakemake.output.macrovag_summary_plot)\n",
    "\n",
    "plot_performance_metrics_example_classes(\n",
    "    result_dir=result_dir,          \n",
    "    label_cols=[\n",
    "        \"celltype\",\n",
    "        \"organ_tissue\",\n",
    "        \"Disease_subtype\",\n",
    "                ],\n",
    "    datasets=[\n",
    "        \"tabula_sapiens\",\n",
    "        \"tabula_sapiens\",\n",
    "        \"human_disease\",],\n",
    "    selected_sample_lists=[\n",
    "                    [\"kidney epithelial cell\", \"erythrocyte\",\"plasma cell\"],\n",
    "                    [\"Kidney\", \"Lung\", \"Tongue\"],\n",
    "                    [\"Dilated cardiomyopathy\",\"Melanoma\",\"Hepatocellular carcinoma\"],\n",
    "    ],\n",
    "    suffix_prefix_dict=SUFFIX_PREFIX_DICT\n",
    ")\n",
    "\n",
    "plot_performance_metrics_macro_avg(\n",
    "    result_dir=result_dir,\n",
    "    label_cols=[\n",
    "        \"celltype\",#\"Tissue\",\n",
    "        \"celltype\",\n",
    "        \"celltype\",\n",
    "        \"celltype\",\n",
    "        \"Disease_subtype\",\n",
    "        \"organ_tissue\",\n",
    "        \"Tissue\",],\n",
    "    datasets=[\n",
    "        \"tabula_sapiens\",\n",
    "        \"tabula_sapiens_well_studied_celltypes\",\n",
    "        \"pancreas\",\n",
    "        \"immgen\",\n",
    "        \"human_disease\",\n",
    "        \"tabula_sapiens\",\n",
    "        \"human_disease\"]\n",
    ")"
   ]
  }
 ],
 "metadata": {
  "language_info": {
   "name": "python"
  }
 },
 "nbformat": 4,
 "nbformat_minor": 2
}
