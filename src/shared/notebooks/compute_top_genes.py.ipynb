{
 "cells": [
  {
   "cell_type": "code",
   "execution_count": null,
   "id": "43546483",
   "metadata": {},
   "outputs": [],
   "source": [
    "# start coding here\n",
    "import scanpy as sc\n",
    "import anndata as ad\n",
    "import os\n",
    "import numpy as np\n",
    "import scipy.sparse as sp\n",
    "import time\n",
    "import pickle\n",
    "import pandas as pd \n",
    "from tqdm.auto import tqdm"
   ]
  },
  {
   "cell_type": "code",
   "execution_count": null,
   "id": "af3b6748-9501-49d8-960c-3e865c975368",
   "metadata": {},
   "outputs": [],
   "source": [
    "### loading the geneformer normalization factors\n",
    "with open(snakemake.input.gene_normalizers, \"rb\") as fp:\n",
    "    gene_normalizers = pickle.load(fp)\n",
    "\n",
    "adata = sc.read_h5ad(snakemake.input.read_count_table)"
   ]
  },
  {
   "cell_type": "code",
   "execution_count": null,
   "id": "fdccda78-5efc-4308-a0f7-c37b093215c4",
   "metadata": {},
   "outputs": [],
   "source": [
    "common_genes = adata.var.reindex(gene_normalizers.keys()).dropna().index\n",
    "common_gene_symbols = adata.var.gene_name.reindex(common_genes).values"
   ]
  },
  {
   "cell_type": "code",
   "execution_count": null,
   "id": "58e1514c-2daa-4e00-9f75-4e157ef17876",
   "metadata": {},
   "outputs": [],
   "source": [
    "gene_normalizers = np.exp(np.array([gene_normalizers[key] for key in common_genes]))\n",
    "gene_normalizers.max()"
   ]
  },
  {
   "cell_type": "code",
   "execution_count": null,
   "id": "42acb3de-77ea-4eba-8e18-6578fc10bd08",
   "metadata": {},
   "outputs": [],
   "source": [
    "adata = adata[:, common_genes].copy()"
   ]
  },
  {
   "cell_type": "code",
   "execution_count": null,
   "id": "35997edf-be2c-44a6-bc6b-a8702f5b40c5",
   "metadata": {},
   "outputs": [],
   "source": [
    "top_genes_df = pd.DataFrame(\n",
    "    index=adata.obs.index,\n",
    "    data={\n",
    "        key: pd.Categorical([np.nan] * len(adata), categories=np.unique(common_gene_symbols))\n",
    "        for key in [f\"Top_{i+1}\" for i in range(snakemake.params.top_n_genes)]\n",
    "    }\n",
    ")\n",
    "top_genes_df.columns"
   ]
  },
  {
   "cell_type": "code",
   "execution_count": null,
   "id": "ea2784a4-72bf-48d9-a312-5f5f043275f8",
   "metadata": {},
   "outputs": [],
   "source": [
    "for i, obs in enumerate(tqdm(adata.obs.index)):\n",
    "    cell_data = adata.X[i]\n",
    "    try:\n",
    "        cell_data = adata.X[i].toarray().squeeze()\n",
    "    except AttributeError:\n",
    "        pass\n",
    "    normed = cell_data / gene_normalizers\n",
    "    top_gene_indices = np.argsort(normed)[::-1][:snakemake.params.top_n_genes]\n",
    "\n",
    "    # Map indices to gene names\n",
    "    top_gene_names = common_gene_symbols[top_gene_indices] \n",
    "\n",
    "    top_genes_df.loc[obs] = top_gene_names"
   ]
  },
  {
   "cell_type": "code",
   "execution_count": null,
   "id": "7a889620-a145-485a-9fb4-d3f0d8656402",
   "metadata": {},
   "outputs": [],
   "source": [
    "top_genes_df.to_parquet(snakemake.output.top_genes)"
   ]
  },
  {
   "cell_type": "code",
   "execution_count": null,
   "id": "f483bc75-bbb5-4b8c-90f5-920a1550af81",
   "metadata": {},
   "outputs": [],
   "source": [
    "top_genes_df.iloc[:5]"
   ]
  },
  {
   "cell_type": "code",
   "execution_count": null,
   "id": "f7070647-ca5d-4f59-a4bf-ed60342f6106",
   "metadata": {},
   "outputs": [],
   "source": [
    "top_gene_names[:10]"
   ]
  },
  {
   "cell_type": "markdown",
   "id": "6abfda2b-d728-4811-b673-a1ac3be3e467",
   "metadata": {},
   "source": [
    "## Thoughts about `gene_medians`\n",
    "\n",
    "I intially thought it was weird that all of it operating on \"raw\" read counts, but couldn't find any evidence for log transforms (in Geneformer paper and code).\n",
    "\n",
    "Now I think it is fine and 634 might indeed be the maximum median across all genes when looking through 30M cells. But I still have a major concern: The median should take integer values when derived from an raw read count valued dataset.\n",
    "\n",
    "This honestly suggests to me that most analyzed single cell datasets were log-transformed, which makes this score also log-transformed. Under this interpretation, we should actually take its exponent (probably 2**), before using it to normalize our genes. But then again, there are high values such as 634. Would trimming then be a solution?\n",
    "\n",
    "On another note: I checked CD19 in a B cell lymphoma (which expresses CD19 according to annotation). Indeed expression levels are strong, yet not strong enough to make it in the top100 genes.\n",
    "\n",
    "I suspect that the reason for this is that the median value for normalization is non-zero-based (CD19 is expressed in few cells, but strongly, thus the normalizer is also high). I think it would be much better to have a normalizer based on the mean of the log1p across ALL samples (i.e. no zero filtering).\n",
    "\n",
    "This is what I ended up doing after all"
   ]
  },
  {
   "cell_type": "raw",
   "id": "ef2bbd5c-30fd-4e92-8582-cb1db471f284",
   "metadata": {},
   "source": [
    "gene_medians.max()"
   ]
  },
  {
   "cell_type": "raw",
   "id": "830736ef-8fcf-43a0-b886-a98f95210e21",
   "metadata": {},
   "source": [
    "import seaborn as sns\n",
    "import matplotlib.pyplot as plt\n",
    "sns.displot(gene_medians)\n",
    "plt.xlim(0, 10)\n",
    "gene_medians.max() "
   ]
  },
  {
   "cell_type": "raw",
   "id": "d64b2f6c-b911-4c2e-8785-f0e72a8baeb3",
   "metadata": {},
   "source": [
    "import seaborn as sns\n",
    "import matplotlib.pyplot as plt\n",
    "sns.displot(2**gene_medians)\n",
    "plt.xlim(0, 10)\n",
    "gene_medians.max() "
   ]
  },
  {
   "cell_type": "code",
   "execution_count": null,
   "id": "7ec311b3-6719-4457-87a3-2659596af25e",
   "metadata": {},
   "outputs": [],
   "source": []
  }
 ],
 "metadata": {
  "kernelspec": {
   "display_name": "Python 3 (ipykernel)",
   "language": "python",
   "name": "python3"
  },
  "language_info": {
   "codemirror_mode": {
    "name": "ipython",
    "version": 3
   },
   "file_extension": ".py",
   "mimetype": "text/x-python",
   "name": "python",
   "nbconvert_exporter": "python",
   "pygments_lexer": "ipython3",
   "version": "3.10.13"
  }
 },
 "nbformat": 4,
 "nbformat_minor": 5
}
