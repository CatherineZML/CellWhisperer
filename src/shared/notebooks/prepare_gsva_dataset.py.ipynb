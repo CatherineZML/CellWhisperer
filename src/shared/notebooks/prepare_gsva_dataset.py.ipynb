{
 "cells": [
  {
   "cell_type": "code",
   "execution_count": null,
   "id": "4a76da01",
   "metadata": {},
   "outputs": [],
   "source": [
    "import scanpy as sc\n",
    "import anndata as ad\n",
    "import pandas as pd\n",
    "import numpy as np\n",
    "import scipy as sp"
   ]
  },
  {
   "cell_type": "code",
   "execution_count": null,
   "id": "eab5b73a-d924-4aa6-afc3-d32adcddc61b",
   "metadata": {},
   "outputs": [],
   "source": [
    "adata = sc.read_h5ad(snakemake.input.read_count_table)\n",
    "adata.var.rename(columns={\"symbol\": \"gene_name\"}, inplace=True)\n",
    "adata = adata[:, adata.var[\"gene_name\"].notnull()]\n",
    "adata.var.set_index(\"gene_name\", inplace=True)"
   ]
  },
  {
   "cell_type": "code",
   "execution_count": null,
   "id": "616913c1-8472-4c66-a04f-0d87567c3367",
   "metadata": {},
   "outputs": [],
   "source": [
    "# CPM-normalize each sample using scanpy and get log1p\n",
    "sc.pp.normalize_total(adata, target_sum=1e6)"
   ]
  },
  {
   "cell_type": "code",
   "execution_count": null,
   "id": "4a4fe27f-83bb-4a8b-9408-4e2754eb5644",
   "metadata": {},
   "outputs": [],
   "source": [
    "sc.pp.log1p(adata)"
   ]
  },
  {
   "cell_type": "code",
   "execution_count": null,
   "id": "4871c871-0afb-4d6f-994d-4a217f3e8e15",
   "metadata": {},
   "outputs": [],
   "source": [
    "if snakemake.params.filter_protein_coding:\n",
    "    adata = adata[:, adata.var[\"biotype\"] == \"protein_coding\"]"
   ]
  },
  {
   "cell_type": "code",
   "execution_count": null,
   "id": "b3f54eba-c109-4d0e-b7a1-f0ce2b96aa08",
   "metadata": {},
   "outputs": [],
   "source": [
    "# Filter for highly variable genes\n",
    "# sc.pp.highly_variable_genes(adata, n_top_genes=snakemake.params.num_hvg)\n",
    "# adata_filtered = adata[:, adata.var.highly_variable]"
   ]
  },
  {
   "cell_type": "code",
   "execution_count": null,
   "id": "e9e36cf4-dbc0-4740-865e-a464e2cb80f2",
   "metadata": {},
   "outputs": [],
   "source": [
    "weights_dict = np.load(snakemake.input.weights, allow_pickle=True)\n",
    "assert all(weights_dict[\"orig_ids\"] == adata.obs.index)\n",
    "weights = weights_dict[\"weight\"]"
   ]
  },
  {
   "cell_type": "code",
   "execution_count": null,
   "id": "aae84b61-df16-4bd9-888a-4888a320c1ec",
   "metadata": {},
   "outputs": [],
   "source": [
    "# sample \n",
    "np.random.seed(snakemake.params.seed)\n",
       "sampled_obs = np.random.choice(adata.obs.index, size=min(snakemake.params.num_samples, len(adata)), p=weights/weights.sum(), replace=False)\n",
    "adata = adata[sampled_obs]"
   ]
  },
  {
   "cell_type": "code",
   "execution_count": null,
   "id": "0c9d4542-976b-4ab6-a8f1-e1ab169fe1b5",
   "metadata": {},
   "outputs": [],
   "source": [
    "# adata.to_df().to_csv(snakemake.output[\"sparse_matrix\"])  # CSV is a stupid format for this"
   ]
  },
  {
   "cell_type": "code",
   "execution_count": null,
   "id": "a4f5dcb7-51d1-4558-bab2-d6a181c05418",
   "metadata": {},
   "outputs": [],
   "source": [
    "sp.io.mmwrite(snakemake.output[\"sparse_matrix\"], adata.X.transpose())\n",
    "pd.Series(adata.obs.index).to_csv(snakemake.output[\"colnames\"], index=False)\n",
    "pd.Series(adata.var.index).to_csv(snakemake.output[\"rownames\"], index=False)"
   ]
  }
 ],
 "metadata": {
  "kernelspec": {
   "display_name": "Python 3 (ipykernel)",
   "language": "python",
   "name": "python3"
  },
  "language_info": {
   "codemirror_mode": {
    "name": "ipython",
    "version": 3
   },
   "file_extension": ".py",
   "mimetype": "text/x-python",
   "name": "python",
   "nbconvert_exporter": "python",
   "pygments_lexer": "ipython3",
   "version": "3.10.13"
  }
 },
 "nbformat": 4,
 "nbformat_minor": 5
}
