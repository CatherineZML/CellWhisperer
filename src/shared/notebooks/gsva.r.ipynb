{
 "cells": [
  {
   "cell_type": "code",
   "execution_count": null,
   "id": "f863ce9b-8c59-4ef2-83e5-98ab1909d46d",
   "metadata": {},
   "outputs": [],
   "source": [
    "# install.packages(\"remotes\")\n",
    "# library(remotes)\n",
    "if (!require(\"BiocManager\", quietly = TRUE))\n",
    "    install.packages(\"BiocManager\")\n",
    "# BiocManager::install(version = \"3.18\")\n",
    "BiocManager::install(\"GSVA\")"
   ]
  },
  {
   "cell_type": "code",
   "execution_count": null,
   "id": "7c7593e2-469b-4722-b12c-f32caf3db0c0",
   "metadata": {},
   "outputs": [],
   "source": [
    "library(Matrix)\n",
    "library(GSVA)\n",
    "library(BiocParallel)"
   ]
  },
  {
   "cell_type": "code",
   "execution_count": null,
   "id": "91b9d239-f9dd-44a9-9e9d-2bcbbf14996e",
   "metadata": {
    "scrolled": true
   },
   "outputs": [],
   "source": [
    "sparse_matrix <- readMM(snakemake@input[[\"sparse_matrix\"]])\n",
    "sparse_matrix_c <- as(sparse_matrix, \"CsparseMatrix\")\n",
    "sparse_matrix_c"
   ]
  },
  {
   "cell_type": "code",
   "execution_count": null,
   "id": "4392e518-2fc5-49c8-b3a4-dd97e64e6cf0",
   "metadata": {
    "scrolled": true
   },
   "outputs": [],
   "source": [
    "colnames <- read.csv(snakemake@input[[\"colnames\"]], header = TRUE)[, 1]\n",
    "colnames"
   ]
  },
  {
   "cell_type": "code",
   "execution_count": null,
   "id": "d62818b9-c1e0-491e-b5b3-17d950f27700",
   "metadata": {},
   "outputs": [],
   "source": [
    "rownames <- read.csv(snakemake@input[[\"rownames\"]], header = TRUE)[, 1]\n",
    "rownames"
   ]
  },
  {
   "cell_type": "code",
   "execution_count": null,
   "id": "4899fab0-4811-4b3a-921d-4605659318e3",
   "metadata": {},
   "outputs": [],
   "source": [
    "colnames(sparse_matrix_c) <- colnames\n",
    "rownames(sparse_matrix_c) <- rownames"
   ]
  },
  {
   "cell_type": "code",
   "execution_count": null,
   "id": "d6d94e7b-169c-4699-a1de-c60701ab2d67",
   "metadata": {},
   "outputs": [],
   "source": []
  },
  {
   "cell_type": "code",
   "execution_count": null,
   "id": "9b51ef9c-9b2c-4530-ab5b-a3f8ee29d5a2",
   "metadata": {},
   "outputs": [],
   "source": [
    "# Load the GMT file for gene sets\n",
    "# The documentation does not provide a direct function to read GMT files,\n",
    "# but it suggests using a list where each element is a gene set.\n",
    "# Here, we use the GSEABase package to read the GMT file.\n",
    "library(GSEABase)\n",
    "gene_sets <- getGmt(snakemake@input[[\"geneset\"]])"
   ]
  },
  {
   "cell_type": "code",
   "execution_count": null,
   "id": "0e9e4e9a-b312-464b-86a4-a37d469baca5",
   "metadata": {},
   "outputs": [],
   "source": [
    "gene_sets"
   ]
  },
  {
   "cell_type": "code",
   "execution_count": null,
   "id": "883c77b4-7ff7-4f73-aa75-f5fe4c218628",
   "metadata": {},
   "outputs": [],
   "source": [
    "# Set up parallel processing\n",
    "bpparam <- MulticoreParam(workers = 124, progressbar = TRUE)\n",
    "\n",
    "gsva_results <- gsva(ssgseaParam(sparse_matrix_c, gene_sets), BPPARAM=bpparam)  # relies on https://github.com/rcastelo/GSVA/issues/113"
   ]
  },
  {
   "cell_type": "code",
   "execution_count": null,
   "id": "6b4813bb-ffa1-4819-872a-468434c6faad",
   "metadata": {},
   "outputs": [],
   "source": [
    "gsva_results"
   ]
  },
  {
   "cell_type": "code",
   "execution_count": null,
   "id": "5bcafc79-4887-4c14-906e-cba2a1e04625",
   "metadata": {},
   "outputs": [],
   "source": [
    "write.csv(gsva_results, file = snakemake@output[[\"gsva_csv\"]], row.names = TRUE)\n"
   ]
  },
  {
   "cell_type": "code",
   "execution_count": null,
   "id": "e9f76e2a-c510-478c-ab81-ce8b51d64934",
   "metadata": {},
   "outputs": [],
   "source": []
  }
 ],
 "metadata": {
  "kernelspec": {
   "display_name": "R",
   "language": "R",
   "name": "ir"
  },
  "language_info": {
   "codemirror_mode": "r",
   "file_extension": ".r",
   "mimetype": "text/x-r-source",
   "name": "R",
   "pygments_lexer": "r",
   "version": "4.3.3"
  }
 },
 "nbformat": 4,
 "nbformat_minor": 5
}
