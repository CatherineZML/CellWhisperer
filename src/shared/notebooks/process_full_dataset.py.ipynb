{
 "cells": [
  {
   "cell_type": "code",
   "execution_count": null,
   "id": "7ac8d90c-50fa-4fea-8247-772e6f81d1eb",
   "metadata": {},
   "outputs": [],
   "source": [
    "import torch\n",
    "torch.set_num_threads(snakemake.threads)\n",
    "import logging\n",
    "import numpy as np\n",
    "from cellwhisperer.jointemb.cellwhisperer_lightning import TranscriptomeTextDualEncoderLightning\n",
    "from cellwhisperer.jointemb.processing import TranscriptomeTextDualEncoderProcessor\n",
    "from cellwhisperer.config import get_path, model_path_from_name\n",
    "\n",
    "from cellwhisperer.jointemb.dataset.inference import CellxGenePreparationLoader\n"
   ]
  },
  {
   "cell_type": "code",
   "execution_count": null,
   "id": "6991e7db-100e-4123-b3b4-b3e9ae60f7d0",
   "metadata": {},
   "outputs": [],
   "source": [
    "# configure logging\n",
    "log_file = snakemake.log.log_file  # Get the log file path from Snakemake\n",
    "logging.basicConfig(\n",
    "    filename=log_file,\n",
    "    filemode='a',  # Append to the existing log file\n",
    "    level=logging.INFO,  # Set the logging level (e.g., DEBUG, INFO, WARNING, ERROR, CRITICAL)\n",
    "    format='%(asctime)s - %(name)s - %(levelname)s - %(message)s'  # Define the log message format\n",
    ")"
   ]
  },
  {
   "cell_type": "code",
   "execution_count": null,
   "id": "11e65d13-4f3b-453a-bea0-b9246af89d82",
   "metadata": {},
   "outputs": [],
   "source": [
    "device = torch.device(\"cuda\" if torch.cuda.is_available() else \"cpu\")\n",
    "pl_model = TranscriptomeTextDualEncoderLightning.load_from_checkpoint(snakemake.input.model)\n",
    "pl_model.eval().to(device)\n",
    "pl_model.model.prepare_models(\n",
    "    pl_model.model.transcriptome_model, pl_model.model.text_model, force_freeze=True\n",
    ")\n",
    "pl_model.freeze()"
   ]
  },
  {
   "cell_type": "code",
   "execution_count": null,
   "id": "75712560-e2f4-4ca0-9373-6003026ba691",
   "metadata": {},
   "outputs": [],
   "source": [
    "%load_ext autoreload\n",
    "%autoreload 2"
   ]
  },
  {
   "cell_type": "code",
   "execution_count": null,
   "id": "fca748a4-ab0d-4f84-bbcf-6e30e7411a01",
   "metadata": {},
   "outputs": [],
   "source": [
    "from tqdm.auto import tqdm\n",
    "\n",
    "# traverse all transcriptomes, log features and embeddings and save them\n",
    "\n",
    "\n",
    "dl = CellxGenePreparationLoader(read_count_table=snakemake.input.read_count_table,\n",
    "                     transcriptome_processor=pl_model.model.transcriptome_model.config.model_type,\n",
    "                     batch_size=32)"
   ]
  },
  {
   "cell_type": "code",
   "execution_count": null,
   "id": "b24013c2-db8c-41cd-8ed0-79817eef3aff",
   "metadata": {},
   "outputs": [],
   "source": [
    "next(iter(dl))"
   ]
  },
  {
   "cell_type": "code",
   "execution_count": null,
   "id": "6067104e-3e5d-4163-b45f-0c47da4312c9",
   "metadata": {},
   "outputs": [],
   "source": [
    "results = []\n",
    "for batch in tqdm(dl):\n",
    "    transcriptome_features, transcriptome_embeds = pl_model.model.get_transcriptome_features(**{k: t.to(device) for k, t in batch.items()}, normalize_embeds=True, )\n",
    "    results.append(\n",
    "        {k: t.detach().cpu() for k, t in zip([\"transcriptome_features\", \"transcriptome_embeds\"], [transcriptome_features, transcriptome_embeds])})"
   ]
  },
  {
   "cell_type": "code",
   "execution_count": null,
   "id": "ee25ce43-3b7a-4f7d-8431-2a362fefb1b9",
   "metadata": {},
   "outputs": [],
   "source": [
    "aggregated_dict = {key: torch.cat([d[key] for d in results]) for key in results[0]}\n",
    "aggregated_dict[\"orig_ids\"] = dl.dataset.orig_ids"
   ]
  },
  {
   "cell_type": "code",
   "execution_count": null,
   "id": "bac1b3f9-6fc7-4f0a-bde6-d3de52ff40f8",
   "metadata": {},
   "outputs": [],
   "source": [
    "np.savez(snakemake.output[\"model_outputs\"], **aggregated_dict) "
   ]
  },
  {
   "cell_type": "code",
   "execution_count": null,
   "id": "06cc8b7a-db8c-4367-9c08-07451642e0ab",
   "metadata": {},
   "outputs": [],
   "source": []
  }
 ],
 "metadata": {
  "kernelspec": {
   "display_name": "Python 3 (ipykernel)",
   "language": "python",
   "name": "python3"
  },
  "language_info": {
   "codemirror_mode": {
    "name": "ipython",
    "version": 3
   },
   "file_extension": ".py",
   "mimetype": "text/x-python",
   "name": "python",
   "nbconvert_exporter": "python",
   "pygments_lexer": "ipython3",
   "version": "3.10.13"
  }
 },
 "nbformat": 4,
 "nbformat_minor": 5
}
