{
 "cells": [
  {
   "cell_type": "code",
   "execution_count": null,
   "id": "1ee9018e-b0d7-44ce-9e3c-4921337c453d",
   "metadata": {},
   "outputs": [],
   "source": [
    "import json\n",
    "import seaborn as sns\n",
    "import numpy as np\n",
    "\n",
    "from llava.mm_utils import get_model_name_from_path\n",
    "from llava.model.builder import load_pretrained_model\n",
    "from llava.mm_utils import process_images, load_image_from_base64, tokenizer_image_token\n",
    "from llava.constants import IMAGE_TOKEN_INDEX, DEFAULT_IMAGE_TOKEN, DEFAULT_IM_START_TOKEN, DEFAULT_IM_END_TOKEN\n",
    "from llava.conversation import conv_templates, SeparatorStyle\n",
    "from llava import conversation as conversation_lib\n",
    "\n",
    "\n",
    "\n",
    "from llava.train.train import LazySupervisedDataset, DataArguments, DataCollatorForSupervisedDataset\n",
    "import torch\n",
    "from transformers import Trainer, EvalPrediction\n",
    "import transformers\n",
    "from torch.nn import CrossEntropyLoss\n",
    "\n",
    "model_dir = snakemake.input.llava_model # \"/msc/home/mschae83/cellwhisperer/results/llava/finetuned/Mistral-7B-Instruct-v0.2__03jujd8s/\"\n",
    "evaluation_dataset_fn = snakemake.input.evaluation_dataset  # \"/msc/home/mschae83/cellwhisperer/results/llava_evaluation_conversations.json\""
   ]
  },
  {
   "cell_type": "code",
   "execution_count": null,
   "id": "fac74bd9",
   "metadata": {},
   "outputs": [],
   "source": [
    "with open(evaluation_dataset_fn) as f:\n",
    "    eval_set = json.load(f)\n",
    "eval_set[0]"
   ]
  },
  {
   "cell_type": "code",
   "execution_count": null,
   "id": "152f8ed9-8164-42f7-839a-30f6141ae4bc",
   "metadata": {},
   "outputs": [],
   "source": [
    "# Load the model\n",
    "\n",
    "# TODO make sure load_pretrained_model is flexible enough. \n",
    "\n",
    "model_name=get_model_name_from_path(model_dir)\n",
    "assert \"mistral\" in model_name.lower() and \"__\" in model_name, \"sure that you are not using a mistral model? LLaVA depends on having it in the name (if it is mistral)\"\n",
    "\n",
    "tokenizer, model, image_processor, context_len = load_pretrained_model(\n",
    "    model_dir, model_base=None, model_name=model_name, load_8bit=False, load_4bit=False, device=\"cuda\", use_flash_attn=False)"
   ]
  },
  {
   "cell_type": "code",
   "execution_count": null,
   "id": "16055e8e-e648-4e43-8c83-823420b5fff8",
   "metadata": {
    "scrolled": true
   },
   "outputs": [],
   "source": [
    "conversation_lib.default_conversation = conversation_lib.conv_templates[\"mistral_instruct\"]\n",
    "\n",
    "eval_dataset = LazySupervisedDataset(evaluation_dataset_fn, tokenizer, DataArguments(image_data=snakemake.input.image_data))\n",
    "\n",
    "data_collator = DataCollatorForSupervisedDataset(tokenizer=tokenizer)"
   ]
  },
  {
   "cell_type": "code",
   "execution_count": null,
   "id": "4518a474-cffd-4e14-b0f8-34519cfff4b7",
   "metadata": {},
   "outputs": [],
   "source": [
    "def compute_perplexity(eval_pred: EvalPrediction):\n",
    "    \"\"\"\n",
    "    To align each logit with the label of the next token (LLMs predict for each input the NEXT token, we need to shift 1 to the right.\n",
    "    Because the labels are not adjusted correctly, we additionally adjust them manually be additional 8-1 tokens\n",
    "    \"\"\"\n",
    "    logits, labels = eval_pred.predictions, eval_pred.label_ids\n",
    "\n",
    "    shift_logits = torch.from_numpy(logits)[..., snakemake.params.num_projector_tokens-1:-1, :].contiguous()  \n",
    "    shift_labels = torch.from_numpy(labels)[..., 1:].contiguous()\n",
    "\n",
    "    attention_mask = (shift_labels > -100)  # also cover -200\n",
    "\n",
    "    # Calculate loss with CrossEntropyLoss, which expects raw logits, not probabilities\n",
    "    loss_fct = CrossEntropyLoss(reduction='none')  # ignores -100 token implicitly\n",
    "    # Only compute loss where attention_mask is true\n",
    "    loss = loss_fct(shift_logits.view(-1, shift_logits.size(-1)), shift_labels.view(-1))\n",
    "    loss = loss.view(shift_labels.size())\n",
    "\n",
    "    # Apply the attention mask to exclude ignored indices from the loss calculation\n",
    "    masked_loss = torch.where(attention_mask, loss, torch.tensor(0.0).to(loss.device))\n",
    "\n",
    "    # Sum the loss per example and divide by the number of non-ignored tokens to get the loss per example\n",
    "    example_losses = torch.sum(masked_loss, dim=1)\n",
    "    example_lengths = torch.sum(attention_mask, dim=1)\n",
    "    example_perplexities = torch.exp(example_losses / example_lengths)\n",
    "\n",
    "    # Calculate the mean perplexity across all examples\n",
    "    mean_perplexity = torch.mean(example_perplexities)\n",
    "\n",
    "    return {\"perplexity\": mean_perplexity.item(), \"all_perplexities\": example_perplexities}"
   ]
  },
  {
   "cell_type": "code",
   "execution_count": null,
   "id": "fac112f1-b52c-40f1-869e-11eaf7b528bd",
   "metadata": {
    "scrolled": true
   },
   "outputs": [],
   "source": [
    "# Assuming you have already defined `model`, `tokenizer`, `eval_dataset`, and `data_collator`\n",
    "trainer = Trainer(\n",
    "    model=model,\n",
    "    tokenizer=tokenizer,\n",
    "    eval_dataset=eval_dataset,\n",
    "    data_collator=data_collator,\n",
    "    compute_metrics=compute_perplexity,\n",
    "    args=transformers.TrainingArguments(report_to=\"none\", output_dir=\"/tmp\")\n",
    ")\n",
    "\n",
    "# Evaluate the model\n",
    "correct_results = trainer.evaluate()\n",
    "correct_results"
   ]
  },
  {
   "cell_type": "code",
   "execution_count": null,
   "id": "7f6672bd-44ab-4da2-87c0-c65daf5aea8b",
   "metadata": {},
   "outputs": [],
   "source": [
    "incorrect_results = []\n",
    "for i in range(10):\n",
    "    # Calculate background perplexity (i.e. with the wrongly matched transcriptome)\n",
    "\n",
    "    # shift by two to induce mismatches that account for the duplicate data points (once conversation, once description)\n",
    "    eval_dataset.orig_id_to_int = {k: (v+2)%len(eval_dataset.orig_id_to_int) for k, v in eval_dataset.orig_id_to_int.items()}\n",
    "    \n",
    "    trainer = Trainer(\n",
    "        model=model,\n",
    "        tokenizer=tokenizer,\n",
    "        eval_dataset=eval_dataset,\n",
    "        data_collator=data_collator,\n",
    "        compute_metrics=compute_perplexity,\n",
    "        args=transformers.TrainingArguments(report_to=\"none\", output_dir=\"/tmp\")\n",
    "    )\n",
    "    incorrect_result = trainer.evaluate()\n",
    "    incorrect_results.append(incorrect_result[\"eval_all_perplexities\"])"
   ]
  },
  {
   "cell_type": "code",
   "execution_count": null,
   "id": "afb3ba8a-6f84-45ea-9be1-650529b2d9a4",
   "metadata": {},
   "outputs": [],
   "source": [
    "incorrect_result"
   ]
  },
  {
   "cell_type": "code",
   "execution_count": null,
   "id": "853a7386-e8be-4e6e-9a52-c15949ffe442",
   "metadata": {},
   "outputs": [],
   "source": [
    "import pandas as pd\n",
    "df = pd.DataFrame({\"matched\": correct_results[\"eval_all_perplexities\"], \n",
    "                   \"mismatched\": torch.stack(incorrect_results).mean(dim=0),\n",
    "                   \"mismatch_std\": torch.stack(incorrect_results).std(dim=0),\n",
    "                        \"id\": range(len(correct_results[\"eval_all_perplexities\"]))\n",
    "                       })\n",
    "\n",
    "plot_df = df.melt(id_vars=[\"id\"], value_vars=[\"matched\", \"mismatched\"], value_name=\"perplexity\")"
   ]
  },
  {
   "cell_type": "code",
   "execution_count": null,
   "id": "177f562b-b377-4fc7-9e3b-38007d0a786c",
   "metadata": {},
   "outputs": [],
   "source": [
    "fig = sns.catplot(x=\"variable\", y=\"perplexity\", data=plot_df,  kind=\"point\", hue=\"id\")  # , palette=[\"black\"])\n",
    "fig.legend.set_visible(False)\n",
    "fig.ax.set_title(f\"Matched vs mismatched ppl. Means: {df['matched'].mean()}|{df['mismatched'].mean()}\")\n",
    "fig.savefig(snakemake.output.comparison_plot)"
   ]
  },
  {
   "cell_type": "markdown",
   "id": "2b85d32b-00ea-47d2-adee-8105e4e21598",
   "metadata": {},
   "source": [
    "\n",
    "_ = \"\"\"\n",
    "Categorical scatterplots:\n",
    "\n",
    "stripplot() (with kind=\"strip\"; the default)\n",
    "\n",
    "swarmplot() (with kind=\"swarm\")\n",
    "\n",
    "Categorical distribution plots:\n",
    "\n",
    "boxplot() (with kind=\"box\")\n",
    "\n",
    "violinplot() (with kind=\"violin\")\n",
    "\n",
    "boxenplot() (with kind=\"boxen\")\n",
    "\n",
    "Categorical estimate plots:\n",
    "\n",
    "pointplot() (with kind=\"point\")\n",
    "\n",
    "barplot() (with kind=\"bar\")\n",
    "\n",
    "countplot() (with kind=\"count\")\n",
    "\"\"\""
   ]
  },
  {
   "cell_type": "code",
   "execution_count": null,
   "id": "0251f5e6-caaa-4c35-8ef3-b82a6e94ed03",
   "metadata": {},
   "outputs": [],
   "source": [
    "with open(snakemake.output.log_perplexity_ratio, \"w\") as f:\n",
    "    f.write(str(np.log(df['matched'].mean()/df['mismatched'].mean())))"
   ]
  },
  {
   "cell_type": "code",
   "execution_count": null,
   "id": "aacbc385-028e-43e0-9669-8b1d2b1a5fca",
   "metadata": {},
   "outputs": [],
   "source": [
    "df.to_csv(snakemake.output.all_perplexities)"
   ]
  },
  {
   "cell_type": "code",
   "execution_count": null,
   "id": "f914db08-2699-4011-b1ec-a43f70393268",
   "metadata": {},
   "outputs": [],
   "source": []
  }
 ],
 "metadata": {
  "kernelspec": {
   "display_name": "Python 3 (ipykernel)",
   "language": "python",
   "name": "python3"
  },
  "language_info": {
   "codemirror_mode": {
    "name": "ipython",
    "version": 3
   },
   "file_extension": ".py",
   "mimetype": "text/x-python",
   "name": "python",
   "nbconvert_exporter": "python",
   "pygments_lexer": "ipython3",
   "version": "3.10.13"
  }
 },
 "nbformat": 4,
 "nbformat_minor": 5
}
