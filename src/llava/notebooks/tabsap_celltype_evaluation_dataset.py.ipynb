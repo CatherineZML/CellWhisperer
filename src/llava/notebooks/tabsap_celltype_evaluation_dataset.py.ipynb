{
 "cells": [
  {
   "cell_type": "code",
   "execution_count": null,
   "id": "651b6c80",
   "metadata": {},
   "outputs": [],
   "source": [
    "# start coding here\n",
    "\n",
    "from cellwhisperer.validation import SingleCellDataSetForValidationScoring\n",
    "from cellwhisperer.config import config\n",
    "import json\n",
    "\n",
    "from pathlib import Path\n",
    "dataset_processor = SingleCellDataSetForValidationScoring(celltypes=snakemake.params.celltypes,\n",
    "                                                          dataset=Path(snakemake.input.dataset))\n",
    "adata = dataset_processor.adata"
   ]
  },
  {
   "cell_type": "code",
   "execution_count": null,
   "id": "f1737b71-a2a9-491f-bee2-1dc5304da479",
   "metadata": {},
   "outputs": [],
   "source": [
    "snakemake.params.celltypes"
   ]
  },
  {
   "cell_type": "code",
   "execution_count": null,
   "id": "a739a7c6-142f-452a-9bba-3e3b4be7f272",
   "metadata": {},
   "outputs": [],
   "source": [
    "# generating the 'true' conversations\n",
    "def row_to_conversation(row):\n",
    "    return {'id': row.name,\n",
    "         'image': row.name,\n",
    "         'conversations': [\n",
    "             {'from': 'human',\n",
    "           'value': f'{snakemake.params.question}\\n<image>'},\n",
    "          {'from': 'gpt',\n",
    "           'value': snakemake.params.response_prefix + row[dataset_processor.celltype_obs_colname].replace(\" b \", \" B \").replace(\"nk \", \"NK \").replace(\" ii \", \" II \").replace(\" t \", \" T \").replace(\"cd\", \"CD\")}\n",
    "                          ]}\n",
    "\n",
    "conversations = adata.obs.sample(frac=1, random_state=42).groupby(dataset_processor.celltype_obs_colname).head(snakemake.params.num_cells_per_celltype).apply(row_to_conversation, axis=1).values.tolist()\n",
    "conversations[0]"
   ]
  },
  {
   "cell_type": "code",
   "execution_count": null,
   "id": "d31adc63-60c9-4106-bcb6-8d4b548b14df",
   "metadata": {},
   "outputs": [],
   "source": [
    "with open(snakemake.output.evaluation_dataset, \"w\") as f:\n",
    "    json.dump(conversations, f)"
   ]
  }
 ],
 "metadata": {
  "kernelspec": {
   "display_name": "Python 3 (ipykernel)",
   "language": "python",
   "name": "python3"
  },
  "language_info": {
   "codemirror_mode": {
    "name": "ipython",
    "version": 3
   },
   "file_extension": ".py",
   "mimetype": "text/x-python",
   "name": "python",
   "nbconvert_exporter": "python",
   "pygments_lexer": "ipython3",
   "version": "3.10.13"
  }
 },
 "nbformat": 4,
 "nbformat_minor": 5
}
