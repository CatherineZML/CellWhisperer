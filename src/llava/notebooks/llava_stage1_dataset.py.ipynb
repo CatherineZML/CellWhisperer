{
 "cells": [
  {
   "cell_type": "code",
   "execution_count": null,
   "id": "521b14fc-5208-4c39-b61c-3d2f8ba4b97f",
   "metadata": {},
   "outputs": [],
   "source": [
    "# start coding here\n",
    "\n",
    "import anndata\n",
    "import random\n",
    "import json\n",
    "random.seed(snakemake.params.seed)"
   ]
  },
  {
   "cell_type": "code",
   "execution_count": null,
   "id": "1ac53fa5-6fa4-42e1-a6c8-57946df2d3f5",
   "metadata": {},
   "outputs": [],
   "source": [
    "def convert_datapoint(key, annotation):\n",
    "    question = random.choice(snakemake.params.questions)\n",
    "    # for each of them choose whether it's on the start or end\n",
    "    if bool(random.getrandbits(1)):\n",
    "        question = f\"{snakemake.params.transcriptome_tag}\\n{question}\"\n",
    "    else:\n",
    "        question = f\"{question}\\n{snakemake.params.transcriptome_tag}\"\n",
    "\n",
    "    return {\n",
    "        \"id\": key,\n",
    "        \"image\": key,\n",
    "        \"conversations\": [\n",
    "            {\n",
    "                \"from\": \"human\",\n",
    "                \"value\": question,\n",
    "            },\n",
    "            {\n",
    "                \"from\": \"gpt\",\n",
    "                \"value\": annotation,\n",
    "            }\n",
    "        ]\n",
    "    }\n",
    "    "
   ]
  },
  {
   "cell_type": "code",
   "execution_count": null,
   "id": "b0a3b611-18f1-4645-8e14-a64f8182fa0b",
   "metadata": {},
   "outputs": [],
   "source": [
    "with open(snakemake.input.annotations_archs4_geo) as f:\n",
    "    annotations = json.load(f)\n",
    "\n",
    "annotations = {key: value_list[snakemake.params.annotation_replicate] for key, value_list in annotations.items()}"
   ]
  },
  {
   "cell_type": "code",
   "execution_count": null,
   "id": "0f57d2ce-1c4f-4ece-bac2-5a505cad8595",
   "metadata": {},
   "outputs": [],
   "source": [
    "with open(snakemake.input.annotations_cellxgene_census) as f:\n",
    "    annotations.update(json.load(f))"
   ]
  },
  {
   "cell_type": "code",
   "execution_count": null,
   "id": "96b67c5b-a7f0-4592-83ff-8c7bda0ad35b",
   "metadata": {},
   "outputs": [],
   "source": [
    "dataset = [convert_datapoint(key, annotation) for key, annotation in annotations.items()]\n",
    "\n",
    "with open(snakemake.output.train_set, \"w\") as f:\n",
    "    json.dump([d for d in dataset if d[\"id\"] not in snakemake.params.test_ids], f, indent=4)\n",
    "\n",
    "with open(snakemake.output.test_set, \"w\") as f:\n",
    "    json.dump([d for d in dataset if d[\"id\"] in snakemake.params.test_ids], f, indent=4)"
   ]
  }
 ],
 "metadata": {
  "kernelspec": {
   "display_name": "Python 3 (ipykernel)",
   "language": "python",
   "name": "python3"
  },
  "language_info": {
   "codemirror_mode": {
    "name": "ipython",
    "version": 3
   },
   "file_extension": ".py",
   "mimetype": "text/x-python",
   "name": "python",
   "nbconvert_exporter": "python",
   "pygments_lexer": "ipython3",
   "version": "3.10.13"
  }
 },
 "nbformat": 4,
 "nbformat_minor": 5
}
