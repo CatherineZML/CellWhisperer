{
 "cells": [
  {
   "cell_type": "code",
   "execution_count": null,
   "id": "33d200c4-8cc5-4cb2-8d4c-8fdad175d61e",
   "metadata": {},
   "outputs": [],
   "source": [
    "import json\n",
    "import pandas as pd\n",
    "import anndata\n",
    "from pathlib import Path\n",
    "import logging"
   ]
  },
  {
   "cell_type": "code",
   "execution_count": null,
   "id": "0199b9c3-ab75-4612-9cc8-ec6f3a1225f6",
   "metadata": {},
   "outputs": [],
   "source": [
    "# Load GSVA\n",
    "gsva_gene_sets = pd.read_parquet(snakemake.input.gsva).set_index(\"Unnamed: 0\").drop(columns=[\"library\"])"
   ]
  },
  {
   "cell_type": "code",
   "execution_count": null,
   "id": "e206bd8a-c706-4f7b-8dba-0ae2c4ca48e0",
   "metadata": {},
   "outputs": [],
   "source": [
    "# Load annotations\n",
    "with open(snakemake.input.processed_annotations) as f:\n",
    "    annotations = json.load(f)"
   ]
  },
  {
   "cell_type": "code",
   "execution_count": null,
   "id": "d6009896-1931-41ab-8267-adb7cd2fb42e",
   "metadata": {},
   "outputs": [],
   "source": [
    "# Take n-th replicate\n",
    "annotations = {k: v[snakemake.params.annotation_replicate] for k,v in annotations.items()}"
   ]
  },
  {
   "cell_type": "code",
   "execution_count": null,
   "id": "61f472d5-5714-4114-8079-a86dbf2b43ac",
   "metadata": {},
   "outputs": [],
   "source": [
    "# Load gene ranks\n",
    "top_genes = pd.read_parquet(snakemake.input.top_genes)\n",
    "top_genes.columns[top_genes.iloc[0] == \"CD19\"]  # the first sample is B cell cancer cell line and should exhibit CD19 overexpression"
   ]
  },
  {
   "cell_type": "code",
   "execution_count": null,
   "id": "e037c84e-3da8-46f2-bc53-0610dc00221e",
   "metadata": {},
   "outputs": [],
   "source": [
    "# Ensure sample overlap (GSVA is a subset)\n",
    "assert len(set(top_genes.index) ^ set(annotations.keys())) == 0, \"annotations and gene_ranks should be the same\"\n",
    "assert len(set(gsva_gene_sets.columns) - set(annotations.keys())) == 0, \"All samples in GSVA should be present in annotations\""
   ]
  },
  {
   "cell_type": "code",
   "execution_count": null,
   "id": "316d1a12",
   "metadata": {},
   "outputs": [],
   "source": [
    "request_template = Path(snakemake.input.request_template).read_text()\n",
    "def prep_request(annotation, top_gene_sets, top_genes, **kwargs):\n",
    "    return {\"role\": \"user\", \n",
    "            \"content\": request_template.format(\n",
    "                annotation=annotation, \n",
    "                top_gene_sets=\", \".join(top_gene_sets[:snakemake.params.top_n_gene_sets]),\n",
    "                top_genes=\", \".join(top_genes[:snakemake.params.top_n_genes])\n",
    "            )\n",
    "           }"
   ]
  },
  {
   "cell_type": "code",
   "execution_count": null,
   "id": "c853906a-236e-4d18-b6a4-e9a1bfeecb86",
   "metadata": {},
   "outputs": [],
   "source": [
    "# Prepare the few shot prompts\n",
    "few_shot_messages = []\n",
    "few_shot_sample_ids = []\n",
    "for prompt_file, response_file in zip(\n",
    "        snakemake.input.few_shot_prompts, snakemake.input.few_shot_responses\n",
    "):\n",
    "    data = json.loads(Path(prompt_file).read_text())\n",
    "    \n",
    "    few_shot_messages.append(prep_request(**data))\n",
    "    \n",
    "    few_shot_messages.append({\"role\": \"assistant\", \n",
    "                              \"content\": json.dumps(json.loads(Path(response_file).read_text()))})  # passing the JSON content as string here, but without the newlines and indentation\n",
    "    few_shot_sample_ids.append(data[\"sample_id\"])\n",
    "\n",
    "with open(snakemake.output.few_shot_block, \"w\") as f:\n",
    "    json.dump(few_shot_messages, f)"
   ]
  },
  {
   "cell_type": "code",
   "execution_count": null,
   "id": "ddcc934a-6db0-4cc9-923d-4b20ff3d49f9",
   "metadata": {},
   "outputs": [],
   "source": [
    "def extract_sample_data(sample_id):\n",
    "    return {\n",
    "        \"annotation\": annotations[sample_id],\n",
    "        \"top_genes\": top_genes.loc[sample_id].dropna().to_list(),\n",
    "        \"top_gene_sets\": gsva_gene_sets[sample_id].sort_values(ascending=False).index.to_list()\n",
    "    }"
   ]
  },
  {
   "cell_type": "code",
   "execution_count": null,
   "id": "97d598d0-f7c9-4e89-879e-655668b2a09f",
   "metadata": {},
   "outputs": [],
   "source": [
    "target_sample_ids = [s for s in gsva_gene_sets.columns if s not in few_shot_sample_ids][snakemake.params.start_from_num:]  # preserve order\n",
    "target_sample_ids = list(set(gsva_gene_sets.columns) - set(few_shot_sample_ids))\n",
    "\n",
    "for split_fn in snakemake.output.request_splits:\n",
    "    split_i, split_n = map(int, Path(split_fn).stem.split('-of-'))\n",
    "    split_i -= 1  # 0-indexing\n",
    "    # take the i-th split from annotations:\n",
    "    split_requests = {sample_id: prep_request(**extract_sample_data(sample_id)) for i, sample_id in enumerate(target_sample_ids) if i % split_n == split_i}\n",
    "\n",
    "    # write the split to a file\n",
    "    with open(split_fn, \"w\") as f:\n",
    "        json.dump(split_requests, f)"
   ]
  }
 ],
 "metadata": {
  "kernelspec": {
   "display_name": "Python 3 (ipykernel)",
   "language": "python",
   "name": "python3"
  },
  "language_info": {
   "codemirror_mode": {
    "name": "ipython",
    "version": 3
   },
   "file_extension": ".py",
   "mimetype": "text/x-python",
   "name": "python",
   "nbconvert_exporter": "python",
   "pygments_lexer": "ipython3",
   "version": "3.10.13"
  }
 },
 "nbformat": 4,
 "nbformat_minor": 5
}
