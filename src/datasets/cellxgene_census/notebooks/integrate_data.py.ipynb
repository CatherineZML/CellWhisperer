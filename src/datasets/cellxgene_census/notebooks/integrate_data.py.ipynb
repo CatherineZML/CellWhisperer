{
 "cells": [
  {
   "cell_type": "code",
   "execution_count": null,
   "id": "bd63772b",
   "metadata": {},
   "outputs": [],
   "source": [
    "import anndata\n",
    "import numpy as np\n",
    "import logging\n",
    "import pandas as pd"
   ]
  },
  {
   "cell_type": "code",
   "execution_count": null,
   "id": "e974a6a4-338a-4251-bde6-68e344c073f2",
   "metadata": {},
   "outputs": [],
   "source": [
    "# data = anndata.read_h5ad(\"/msc/home/q56ppene/cellwhisperer/cellwhisperer/resources/cellxgene_census/00476f9f-ebc1-4b72-b541-32f912ce36ea.h5ad\")\n",
    "# data"
   ]
  },
  {
   "cell_type": "code",
   "execution_count": null,
   "id": "e99b089a-2695-401f-b7fc-c695406d781b",
   "metadata": {},
   "outputs": [],
   "source": [
    "proc = anndata.read_h5ad(\"/msc/home/q56ppene/cellwhisperer/cellwhisperer/resources/cellxgene_census/cellxgene_census_00476f9f-ebc1-4b72-b541-32f912ce36ea_processed.h5ad\")\n",
    "# proc"
   ]
  },
  {
   "cell_type": "code",
   "execution_count": null,
   "id": "1eb3ae36-0f0c-4b95-8e6a-143e9cb4084d",
   "metadata": {},
   "outputs": [],
   "source": [
    "ensembl_symbol_conversion = pd.read_csv(snakemake.input.ensembl_symbol_conversion).set_index(\"ensembl_gene_id\")[\"external_gene_name\"]"
   ]
  },
  {
   "cell_type": "code",
   "execution_count": null,
   "id": "2eb74f45-00e4-48cc-8e1c-52b0f69f4e06",
   "metadata": {},
   "outputs": [],
   "source": [
    "def layerize_dataset(proc):\n",
    "    \"\"\"\n",
    "    Generate `num_replicates` adata layers, each one containing one of the sampled cells. \n",
    "    If a given group has less than `num_replicates` cells, repeatedly draw the existing cells (via modulo)\n",
    "    \"\"\"\n",
    "\n",
    "    # drop \n",
    "    symboled_ensids = proc.var.index.intersection(ensembl_symbol_conversion.index)\n",
    "    \n",
    "    # workaround for missing cell_id in pseudocells. works because it is ordered\n",
    "    adata = proc[proc.obs[\"is_pseudobulk\"] == \"True\", symboled_ensids].copy()\n",
    "    adata.obs = adata.obs.drop(columns=[\"is_pseudobulk\", \"replicate\"])\n",
    "    adata.obs.index = [x.replace(\"_pseudobulk\",f\"_{i}\") for i,x in enumerate(adata.obs.index)]\n",
    "    adata.obs[\"cell_id\"] = adata.obs.index\n",
    "    \n",
    "    nonpseudo = proc[proc.obs[\"is_pseudobulk\"] == \"False\"]\n",
    "    nonpseudo.obs[\"cell_id\"] = nonpseudo.obs.index.map(lambda v: v.rsplit(\"_\", maxsplit=1)[0])  # TODO test whether it works and yields the cell_id (i.e. {dataset_id}_{i})\n",
    "    for i in range(snakemake.params.num_replicates):\n",
    "        def get_replicate_modulo(cell_id):\n",
    "            candidates = nonpseudo.obs.index[nonpseudo.obs.cell_id == cell_id]\n",
    "            if len(candidates) == 0:\n",
    "                raise RuntimeError(f\"{cell_id} has 0 replicates\")\n",
    "            return candidates[i % len(candidates)]\n",
    "        indices = adata.obs.cell_id.apply(get_replicate_modulo).values\n",
    "        \n",
    "        adata.layers[f\"replicate_{i+1}\"] = nonpseudo[indices, symboled_ensids].X.astype(np.int32)\n",
    "    \n",
    "    # set cell_id\n",
    "    # adata.obs.index = adata.obs.apply(lambda row: row.name.replace(\"_pseudobulk\", f\"_{row.cell_id}\"))\n",
    "    adata.obs.set_index(\"cell_id\", inplace=True)\n",
    "    # adata.obs.drop(columns=[\"is_pseudobulk\", \"replicate\"], inplace=True)\n",
    "    adata.obs[\"abstract\"] = pd.Categorical([adata.uns[\"abstract\"]] * len(adata.obs), categories=[adata.uns[\"abstract\"]])\n",
    "    adata.obs[\"dataset_title\"] = pd.Categorical([adata.uns[\"dataset_title\"]] * len(adata.obs), categories=[adata.uns[\"dataset_title\"]])\n",
    "    adata.uns = {}\n",
    "    \n",
    "    # convert int64 to int32\n",
    "    int_conv = dict.fromkeys(adata.obs.select_dtypes(np.int64).columns, np.int32)\n",
    "    adata.obs = adata.obs.astype(int_conv)\n",
    "    \n",
    "    return adata\n",
    "\n",
    "layerize_dataset(proc).obs.dtypes"
   ]
  },
  {
   "cell_type": "code",
   "execution_count": null,
   "id": "abee84ba-42e3-4dfc-b336-8e2cb4d623d7",
   "metadata": {
    "scrolled": true
   },
   "outputs": [],
   "source": [
    "# takes ~30 minutes\n",
    "\n",
    "datasets = []\n",
    "for fn in snakemake.input.datasets:\n",
    "    proc = anndata.read_h5ad(fn)\n",
    "    dataset = layerize_dataset(proc)\n",
    "    datasets.append(dataset)\n",
    "del proc"
   ]
  },
  {
   "cell_type": "code",
   "execution_count": null,
   "id": "cefead98-c760-4419-9f51-1933d1c77a16",
   "metadata": {},
   "outputs": [],
   "source": [
    "full = anndata.concat(datasets, join=\"outer\")\n",
    "del datasets  # save memory"
   ]
  },
  {
   "cell_type": "code",
   "execution_count": null,
   "id": "9e9c1649-e9c2-41ce-99e9-4fc018ad7135",
   "metadata": {},
   "outputs": [],
   "source": [
    "# outer fills '0' in sparse matrices, so we will need to compress them\n",
    "for matrix in full.layers.values():\n",
    "    matrix.eliminate_zeros()\n",
    "    matrix = matrix.astype(np.int32)  # the join resulted in np.float64\n",
    "full.X.eliminate_zeros()\n",
    "full.X = full.X.astype(np.int32)"
   ]
  },
  {
   "cell_type": "code",
   "execution_count": null,
   "id": "b9072de5-e174-444f-929d-7d28a910d00c",
   "metadata": {},
   "outputs": [],
   "source": [
    "full.var[\"ensembl_id\"] = full.var.index\n",
    "full.obs.drop(columns=[\"cluster_id\", \"GSE\"], inplace=True)  # fails otherwise\n",
    "full.var[\"gene_name\"] = full.var.index.map(ensembl_symbol_conversion.get)"
   ]
  },
  {
   "cell_type": "code",
   "execution_count": null,
   "id": "9dedf535-c2f8-432b-894b-575918e6e0ae",
   "metadata": {},
   "outputs": [],
   "source": [
    "for col in full.obs.columns:\n",
    "    types = full.obs[col].apply(type).unique()\n",
    "    if len(full.obs[col].apply(type).unique()) > 1:\n",
    "        full.obs[col] = full.obs[col].astype(str).replace(\"nan\", np.nan).astype(\"category\")"
   ]
  },
  {
   "cell_type": "code",
   "execution_count": null,
   "id": "60ec3c90-fd38-4cc7-b7c3-6501eb865c88",
   "metadata": {},
   "outputs": [],
   "source": [
    "full.write_h5ad(snakemake.output[0])"
   ]
  },
  {
   "cell_type": "code",
   "execution_count": null,
   "id": "f9d4bb1c-2989-48bb-b092-eb451a564679",
   "metadata": {},
   "outputs": [],
   "source": [
    "# orig_obs = full.obs.copy()\n"
   ]
  }
 ],
 "metadata": {
  "kernelspec": {
   "display_name": "Python 3 (ipykernel)",
   "language": "python",
   "name": "python3"
  },
  "language_info": {
   "codemirror_mode": {
    "name": "ipython",
    "version": 3
   },
   "file_extension": ".py",
   "mimetype": "text/x-python",
   "name": "python",
   "nbconvert_exporter": "python",
   "pygments_lexer": "ipython3",
   "version": "3.10.13"
  }
 },
 "nbformat": 4,
 "nbformat_minor": 5
}
