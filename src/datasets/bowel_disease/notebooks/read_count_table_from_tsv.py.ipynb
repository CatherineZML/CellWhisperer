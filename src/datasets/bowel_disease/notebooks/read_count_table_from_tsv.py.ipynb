{
 "cells": [
  {
   "cell_type": "code",
   "execution_count": null,
   "id": "6a891650",
   "metadata": {},
   "outputs": [],
   "source": [
    "# start coding here"
   ]
  },
  {
   "cell_type": "code",
   "execution_count": null,
   "id": "6d19a630-323d-404f-9eaa-91d11ff8a411",
   "metadata": {},
   "outputs": [],
   "source": [
    "import pandas as pd\n",
    "import anndata\n",
    "import numpy as np"
   ]
  },
  {
   "cell_type": "code",
   "execution_count": null,
   "id": "aefa54b6-3b08-4745-879c-c0cb320c43a3",
   "metadata": {},
   "outputs": [],
   "source": [
    "df = pd.read_csv(snakemake.input.matrix_tsv, sep=\"\\t\", compression=\"gzip\").T"
   ]
  },
  {
   "cell_type": "code",
   "execution_count": null,
   "id": "831443e4-d77d-4bbc-9757-d577dadd9729",
   "metadata": {},
   "outputs": [],
   "source": [
    "np.exp(df)-1"
   ]
  },
  {
   "cell_type": "code",
   "execution_count": null,
   "id": "029b37c0-cac9-41c2-a78c-e31945be0f71",
   "metadata": {},
   "outputs": [],
   "source": [
    "sample_ids = df.index.map(lambda v: v.split(\"-\")[1])\n",
    "\n",
    "obs = pd.DataFrame(index=df.index,\n",
    "                   data={\n",
    "                       \"sample_id\": sample_ids,\n",
    "                       \"replicate\": pd.Categorical(sample_ids.map(lambda v: v[0])),\n",
    "                       \"condition\": pd.Categorical(sample_ids.map(lambda v: {\"1\": \"healthy\", \"2\": \"non-inflamed\", \"3\": \"inflamed\"}[v[1]]))\n",
    "                       \n",
    "                   }\n",
    "                  )"
   ]
  },
  {
   "cell_type": "code",
   "execution_count": null,
   "id": "e749d451-29ed-40e5-b54e-1d7194506b83",
   "metadata": {},
   "outputs": [],
   "source": [
    "var = pd.DataFrame(index=df.columns, data={\n",
    "    \"gene_name\": df.columns\n",
    "})"
   ]
  },
  {
   "cell_type": "code",
   "execution_count": null,
   "id": "a7712d89-7e0e-40d7-b848-1a0ea1b14a14",
   "metadata": {},
   "outputs": [],
   "source": [
    "raw_read_count_mimicks = np.ceil(np.exp(df)-1).astype(np.int32)\n",
    "\n",
    "adata = anndata.AnnData(X=raw_read_count_mimicks.values, obs=obs, var=var)"
   ]
  },
  {
   "cell_type": "code",
   "execution_count": null,
   "id": "8a3a6c9a-65d7-4876-b5c1-4430612a8a50",
   "metadata": {},
   "outputs": [],
   "source": [
    "import scanpy as sc\n",
    "\n",
    "cell_qc, gene_qc = sc.pp.calculate_qc_metrics(adata)"
   ]
  },
  {
   "cell_type": "code",
   "execution_count": null,
   "id": "0d6fed65-484c-45bf-bd9a-bf7aa39420ee",
   "metadata": {},
   "outputs": [],
   "source": [
    "import seaborn as sns\n",
    "sns.displot(cell_qc[\"n_genes_by_counts\"])\n",
    "cell_qc[cell_qc[\"n_genes_by_counts\"] < 100]"
   ]
  },
  {
   "cell_type": "markdown",
   "id": "61ecc9b0-532d-41a9-a1d0-b7ed06c1576c",
   "metadata": {},
   "source": [
    "No need to filter for n_genes_by_counts"
   ]
  },
  {
   "cell_type": "code",
   "execution_count": null,
   "id": "92ebf597-c776-4b14-9743-9c99f880f843",
   "metadata": {},
   "outputs": [],
   "source": [
    "adata.write_h5ad(snakemake.output[0])"
   ]
  },
  {
   "cell_type": "code",
   "execution_count": null,
   "id": "27eaeb13-ee9d-4f43-8bab-2b23d253537a",
   "metadata": {},
   "outputs": [],
   "source": []
  }
 ],
 "metadata": {
  "kernelspec": {
   "display_name": "Python 3 (ipykernel)",
   "language": "python",
   "name": "python3"
  },
  "language_info": {
   "codemirror_mode": {
    "name": "ipython",
    "version": 3
   },
   "file_extension": ".py",
   "mimetype": "text/x-python",
   "name": "python",
   "nbconvert_exporter": "python",
   "pygments_lexer": "ipython3",
   "version": "3.10.13"
  }
 },
 "nbformat": 4,
 "nbformat_minor": 5
}
