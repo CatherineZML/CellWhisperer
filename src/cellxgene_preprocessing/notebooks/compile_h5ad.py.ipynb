{
 "cells": [
  {
   "cell_type": "code",
   "execution_count": null,
   "id": "a3b4ffdd-096f-48e4-a2b7-ae578cc1ebff",
   "metadata": {},
   "outputs": [],
   "source": [
    "import logging\n",
    "import numpy as np\n",
    "import scanpy as sc\n",
    "import pandas as pd\n",
    "import scipy\n",
    "import json\n",
    "import pickle\n",
    "\n",
    "clustered_embeddings = sc.read_h5ad(snakemake.input.umap_embedding)\n",
    "clustered_embeddings.obs.set_index(\"orig_ids\", inplace=True)  # needed to allow transfer"
   ]
  },
  {
   "cell_type": "code",
   "execution_count": null,
   "id": "fbd614d5-a545-401b-9644-133887e16086",
   "metadata": {},
   "outputs": [],
   "source": [
    "adata = sc.read_h5ad(snakemake.input.read_count_table)\n",
    "sc.pp.normalize_total(adata, target_sum=1e4)"
   ]
  },
  {
   "cell_type": "code",
   "execution_count": null,
   "id": "0041b3e2-1771-4917-a195-36816084ece7",
   "metadata": {},
   "outputs": [],
   "source": [
    "# EnrichR terms\n",
    "with open(snakemake.input.enrichr_terms, \"r\") as f:\n",
    "    terms = json.load(f)\n"
   ]
  },
  {
   "cell_type": "code",
   "execution_count": null,
   "id": "253830a6-f0ea-4fe4-83da-65cc6562b803",
   "metadata": {},
   "outputs": [],
   "source": [
    "processed_data = np.load(snakemake.input.processed_data, allow_pickle=True)"
   ]
  },
  {
   "cell_type": "code",
   "execution_count": null,
   "id": "7862a06a-7edd-47ee-9928-d3bde99f48c9",
   "metadata": {},
   "outputs": [],
   "source": [
    "# assert that the order of orig_ids matches the one in adata.var.index\n",
    "assert (processed_data[\"orig_ids\"] == adata.obs.index).all()"
   ]
  },
  {
   "cell_type": "code",
   "execution_count": null,
   "id": "07406b17-cf63-4f00-ae09-e58f01afa232",
   "metadata": {},
   "outputs": [],
   "source": [
    "with open(snakemake.input.gene_log1p_normalizers, \"rb\") as fp:\n",
    "    gene_log1p_normalizers = pickle.load(fp)\n",
    "adata.var[\"log1p_normalizer\"] = gene_log1p_normalizers"
   ]
  },
  {
   "cell_type": "code",
   "execution_count": null,
   "id": "f9dc79aa-cd9c-41fe-bbd3-af79e2db7651",
   "metadata": {},
   "outputs": [],
   "source": [
    "# Add the cluster labels\n",
    "\n",
    "llava_cluster_labels = pd.read_csv(snakemake.input.cellwhisperer_llava_labels)\n",
    "llava_cluster_labels[\"cluster_values\"] = llava_cluster_labels[\"cluster_values\"].astype(str)\n",
    "llava_cluster_labels.set_index([\"cluster_field\", \"cluster_values\"], inplace=True)\n",
    "llava_cluster_labels.head()"
   ]
  },
  {
   "cell_type": "code",
   "execution_count": null,
   "id": "da18f2f2-43ff-46d2-921c-9383a1adbdbc",
   "metadata": {},
   "outputs": [],
   "source": [
    "adata.obsm[\"X_cellwhisperer_umap\"] = clustered_embeddings.obsm[\"X_umap\"]\n",
    "adata.obsm[\"transcriptome_embeds\"] = processed_data[\"transcriptome_embeds\"]\n",
    "\n",
    "# Define \"Corpora\" metadata fields (some of them get shown in the UI. They are also a prerequisite for setting `default_embedding``)\n",
    "adata.uns[\"dataset_name\"] = snakemake.wildcards.dataset\n",
    "adata.uns[\"model_name\"] = snakemake.wildcards.model\n",
    "adata.uns[\"terms\"] = terms\n",
    "adata.uns[\"version\"] = {\"corpora_schema_version\": \"1.1.0\", \"corpora_encoding_version\": \"0.1.0\"}\n",
    "adata.uns[\"title\"] = f\"{snakemake.wildcards.dataset} ({snakemake.wildcards.model})\"\n",
    "adata.uns[\"layer_descriptions\"] = \"X: log1p after 10K total-normalization\"\n",
    "adata.uns[\"organism\"] = \"human\"\n",
    "adata.uns[\"organism_ontology_term_id\"] = \"NCBITaxon:9606\"\n",
    "adata.uns[\"default_embedding\"] = \"X_cellwhisperer_umap\"\n"
   ]
  },
  {
   "cell_type": "code",
   "execution_count": null,
   "id": "d17c5c91-1d25-419b-aaf3-f585b4a2baed",
   "metadata": {},
   "outputs": [],
   "source": [
    "# Transfer the cluster labels\n",
    "adata.obs[\"leiden\"] = clustered_embeddings.obs[\"leiden\"]\n",
    "\n",
    "cluster_map = {\n",
    "    cluster_column: (\"cluster_label\" if cluster_column == \"leiden\" else f\"{cluster_column}_label\")\n",
    "    for cluster_column in llava_cluster_labels.index.get_level_values(\"cluster_field\").unique()\n",
    "}\n",
    "\n",
    "for cluster_column, label_column in cluster_map.items():\n",
    "    adata.obs[label_column] = llava_cluster_labels.loc[cluster_column, \"curated_labels\"].reindex(adata.obs[cluster_column].values).values\n"
   ]
  },
  {
   "cell_type": "code",
   "execution_count": null,
   "id": "c99fb550-f535-4ed7-b2f4-9d60857d5fb4",
   "metadata": {},
   "outputs": [],
   "source": [
    "adata.obs.iloc[0]\n"
   ]
  },
  {
   "cell_type": "code",
   "execution_count": null,
   "id": "401bd160-f885-477b-9c5a-a5e6d765d68c",
   "metadata": {},
   "outputs": [],
   "source": [
    "if \"series_submission_date\" in adata.obs:\n",
    "    adata.obs[\"series_submission_date_cont\"] = pd.to_datetime(adata.obs[\"series_submission_date\"])\n",
    "    adata.obs.loc[adata.obs[\"series_submission_date_cont\"].isna(), \"series_submission_date_cont\"] = adata.obs[\"series_submission_date_cont\"].mean()  # 57 are broken\n",
    "    adata.obs[\"series_submission_date_cont\"] = adata.obs[\"series_submission_date_cont\"].apply(lambda x: x.timestamp()) / (365.25 * 24*60*60) + 1970"
   ]
  },
  {
   "cell_type": "code",
   "execution_count": null,
   "id": "be9d7578-9cb1-41d3-955a-268393d2361e",
   "metadata": {},
   "outputs": [],
   "source": [
    "# Remove columns with an extensive number of categories\n",
    "drop_cols = [c for c in adata.obs.columns if str(adata.obs[c].dtype) == 'category' and len(adata.obs[c].dtype.categories) > snakemake.params.max_categories_filter and c != \"series_submission_date\"]\n",
    "adata.obs.drop(columns=drop_cols, inplace=True)"
   ]
  },
  {
   "cell_type": "code",
   "execution_count": null,
   "id": "52839efb-9639-4620-b531-7c45c5b2d449",
   "metadata": {},
   "outputs": [],
   "source": [
    "# Convert int64 to int32 and float64 to float32 for `cellxgene`\n",
    "adata.obs = adata.obs.astype({col: np.int32 if adata.obs[col].dtype == np.int64 else np.float32 for col in adata.obs.columns if adata.obs[col].dtype in [np.int64, np.float64]})\n",
    "adata.var = adata.var.astype({col: np.int32 if adata.var[col].dtype == np.int64 else np.float32 for col in adata.var.columns if adata.var[col].dtype in [np.int64, np.float64]})"
   ]
  },
  {
   "cell_type": "code",
   "execution_count": null,
   "id": "new-cell-id",
   "metadata": {},
   "outputs": [],
   "source": [
    "if 'normalized' in adata.layers:\n",
    "    adata.X = adata.layers['normalized']\n",
    "    logging.warning(\"Taking the provided `normalized` layer instead of computing log1p\")\n",
    "else:\n",
    "    sc.pp.log1p(adata)"
   ]
  },
  {
   "cell_type": "code",
   "execution_count": null,
   "id": "d4c5880c-8e52-402d-be35-fdccecec0c6d",
   "metadata": {},
   "outputs": [],
   "source": [
    "for key in list(adata.layers.keys()):\n",
    "    del adata.layers[key]\n",
    "\n",
    "for key in list(adata.obsp.keys()):\n",
    "    del adata.obsp[key]"
   ]
  },
  {
   "cell_type": "code",
   "execution_count": null,
   "id": "b8409f12-4b4e-4cce-893e-8a4400da0837",
   "metadata": {},
   "outputs": [],
   "source": [
    "# shrink huge datasets\n",
    "adata.X = adata.X.astype(np.float32)  # Convert float64 to float32\n",
    "if len(adata.X.data) > 1e9:\n",
    "    logging.warning(f\"Reducing number of elements sparse matrix\")\n",
    "    threshold = 0.1\n",
    "    if len(adata.X.data) > 1e10:\n",
    "        threshold = 0.5\n",
    "    adata.X.data[adata.X.data < threshold] = 0\n",
    "    adata.X.eliminate_zeros()"
   ]
  },
  {
   "cell_type": "code",
   "execution_count": null,
   "id": "4fc358ec-d511-4d82-b57f-73326f5288ff",
   "metadata": {},
   "outputs": [],
   "source": [
    "# TODO optionally reduce `var` dimension (e.g. filter by gene names)\n",
    "\n",
    "duplicated_gene_names = adata.var.index[adata.var[\"gene_name\"].duplicated()]\n",
    "if len(duplicated_gene_names) > 0:\n",
    "    adata.var[\"gene_name\"] = adata.var[\"gene_name\"].astype(str)\n",
    "    adata.var.loc[duplicated_gene_names, \"gene_name\"] = adata.var.loc[duplicated_gene_names].apply(lambda row: f\"{row['gene_name']}_{row.name}\", axis=1)"
   ]
  },
  {
   "cell_type": "code",
   "execution_count": null,
   "id": "112dafc3-af00-4e44-9beb-0e59bfc13602",
   "metadata": {},
   "outputs": [],
   "source": [
    "assert not adata.var[\"gene_name\"].duplicated().any()"
   ]
  },
  {
   "cell_type": "code",
   "execution_count": null,
   "id": "033c2471-cfb7-406f-8c53-e9b6fd88ccf6",
   "metadata": {},
   "outputs": [],
   "source": [
    "# Convert CSR to CSC matrix (cellxgene is optimized for CSC)\n",
    "if isinstance(adata.X, scipy.sparse.csr_matrix):\n",
    "    adata.X = scipy.sparse.csc_matrix(adata.X)"
   ]
  },
  {
   "cell_type": "code",
   "execution_count": null,
   "id": "be70bde6-177e-4472-a00a-9956b52bad1b",
   "metadata": {},
   "outputs": [],
   "source": [
    "top_genes = pd.read_parquet(snakemake.input.top_genes)\n",
    "\n",
    "# ensure they are categorical\n",
    "\n",
    "# ensure the index matches\n",
    "assert (top_genes.index == adata.obs.index).all()\n",
    "\n",
    "# add via obsm\n",
    "adata.obsm[\"top_genes\"] = top_genes"
   ]
  },
  {
   "cell_type": "code",
   "execution_count": null,
   "id": "52d42e04-6af9-40ea-8284-b67c3eeaaf58",
   "metadata": {},
   "outputs": [],
   "source": [
    "adata.write_h5ad(snakemake.output.adata)"
   ]
  }
 ],
 "metadata": {
  "kernelspec": {
   "display_name": "Python 3 (ipykernel)",
   "language": "python",
   "name": "python3"
  },
  "language_info": {
   "codemirror_mode": {
    "name": "ipython",
    "version": 3
   },
   "file_extension": ".py",
   "mimetype": "text/x-python",
   "name": "python",
   "nbconvert_exporter": "python",
   "pygments_lexer": "ipython3",
   "version": "3.10.13"
  }
 },
 "nbformat": 4,
 "nbformat_minor": 5
}
