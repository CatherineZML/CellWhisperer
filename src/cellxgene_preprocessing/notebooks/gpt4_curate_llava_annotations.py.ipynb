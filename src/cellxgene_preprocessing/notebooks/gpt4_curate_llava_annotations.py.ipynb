{
 "cells": [
  {
   "cell_type": "code",
   "execution_count": null,
   "id": "226f3a17-fe28-48f2-a057-0ae390d652bf",
   "metadata": {},
   "outputs": [],
   "source": [
    "import anndata\n",
    "import pandas as pd\n",
    "from pathlib import Path\n",
    "\n",
    "llava_annotations=pd.read_csv(snakemake.input.cellwhisperer_labels)\n"
   ]
  },
  {
   "cell_type": "code",
   "execution_count": null,
   "id": "406f6c68-502d-4a72-b03f-c3f9b2b9fb96",
   "metadata": {},
   "outputs": [],
   "source": [
    "from openai import OpenAI\n",
    "\n",
    "system_message = snakemake.params.request\n",
    "\n",
    "client = OpenAI(api_key=snakemake.params.openai_api_key)"
   ]
  },
  {
   "cell_type": "code",
   "execution_count": null,
   "id": "00c68ff7-2711-492a-8ea6-806252af4d3c",
   "metadata": {},
   "outputs": [],
   "source": [
    "assert len(llava_annotations) <= snakemake.params.max_num_clusters, f\"too many clusters in dataset ({num_clusters}). Stopping to prevent high GPT-4 cost\""
   ]
  },
  {
   "cell_type": "code",
   "execution_count": null,
   "id": "39c5d6b1-6246-4f77-a87e-dd85efd26b1b",
   "metadata": {},
   "outputs": [],
   "source": [
    "results = {}\n",
    "for idx, row in llava_annotations.iterrows():\n",
    "    request = [\n",
    "        {\"role\": \"system\", \"content\": system_message},\n",
    "        {\"role\": \"user\", \"content\": row[\"cluster_annotations\"]},\n",
    "    ]\n",
    "    if not isinstance(row[\"cluster_annotations\"], str):\n",
    "        response = \"No label\"\n",
    "    else:\n",
    "        chat_completion = client.chat.completions.create(\n",
    "            messages=request,\n",
    "            model=\"gpt-4-turbo-preview\",\n",
    "            max_tokens=20,\n",
    "            temperature=0,  # type: ignore [reportUndefinedVariable]\n",
    "        )\n",
    "        response = chat_completion.choices[0].message.content\n",
    "\n",
    "    print(response)\n",
    "    results[idx] = response"
   ]
  },
  {
   "cell_type": "code",
   "execution_count": null,
   "id": "e1b9c3f7-e784-4341-bc5f-e107d8961d49",
   "metadata": {},
   "outputs": [],
   "source": [
    "llava_annotations[\"curated_labels\"] = results"
   ]
  },
  {
   "cell_type": "code",
   "execution_count": null,
   "id": "486c46bb-b524-4015-9773-cf0acc70fb73",
   "metadata": {},
   "outputs": [],
   "source": [
    "llava_annotations.to_csv(snakemake.output.curated_labels, index=False)"
   ]
  },
  {
   "cell_type": "code",
   "execution_count": null,
   "id": "c9038aac-2e72-47ed-b7d2-d6c43f6c9941",
   "metadata": {},
   "outputs": [],
   "source": []
  }
 ],
 "metadata": {
  "kernelspec": {
   "display_name": "Python 3 (ipykernel)",
   "language": "python",
   "name": "python3"
  },
  "language_info": {
   "codemirror_mode": {
    "name": "ipython",
    "version": 3
   },
   "file_extension": ".py",
   "mimetype": "text/x-python",
   "name": "python",
   "nbconvert_exporter": "python",
   "pygments_lexer": "ipython3",
   "version": "3.10.13"
  }
 },
 "nbformat": 4,
 "nbformat_minor": 5
}
