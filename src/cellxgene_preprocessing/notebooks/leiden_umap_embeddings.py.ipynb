{
 "cells": [
  {
   "cell_type": "code",
   "execution_count": null,
   "id": "53e9f374-5594-4010-9b79-d743026ded2a",
   "metadata": {},
   "outputs": [],
   "source": [
    "# start coding here\n",
    "\n",
    "import numpy as np\n",
    "import scanpy as sc\n",
    "from anndata import AnnData"
   ]
  },
  {
   "cell_type": "code",
   "execution_count": null,
   "id": "bae31afc-330d-4de2-922b-10ec1ab88744",
   "metadata": {},
   "outputs": [],
   "source": [
    "# Load the data from the .npz file\n",
    "npz_file = snakemake.input.processed_data  # Replace with the actual path if needed\n",
    "data = np.load(npz_file, allow_pickle=True)\n",
    "embeddings = data['transcriptome_embeds']\n",
    "orig_ids = data['orig_ids']\n",
    "\n",
    "# Create an AnnData object with the embeddings\n",
    "adata = AnnData(X=embeddings, obs={'orig_ids': orig_ids})\n",
    "adata.var[\"name\"]=adata.var.index"
   ]
  },
  {
   "cell_type": "code",
   "execution_count": null,
   "id": "26913e94-eb95-486b-acb2-4fade18f2fd9",
   "metadata": {},
   "outputs": [],
   "source": [
    "# Compute the neighborhood graph\n",
    "sc.pp.neighbors(adata, use_rep='X')\n",
    "\n",
    "# Run UMAP\n",
    "sc.tl.umap(adata)\n",
    "\n",
    "# Detect clusters using the Leiden algorithm\n",
    "sc.tl.leiden(adata)"
   ]
  },
  {
   "cell_type": "code",
   "execution_count": null,
   "id": "d0f615ee-0362-4e3a-8e85-2216f3f79874",
   "metadata": {},
   "outputs": [],
   "source": [
    "adata.write_h5ad(snakemake.output.adata)"
   ]
  },
  {
   "cell_type": "code",
   "execution_count": null,
   "id": "168a0599-869c-409c-b256-03a9d0adc356",
   "metadata": {},
   "outputs": [],
   "source": []
  },
  {
   "cell_type": "code",
   "execution_count": null,
   "id": "6c947f12-309b-424d-8eeb-4a72af63a108",
   "metadata": {},
   "outputs": [],
   "source": []
  }
 ],
 "metadata": {
  "kernelspec": {
   "display_name": "Python 3 (ipykernel)",
   "language": "python",
   "name": "python3"
   },
  "language_info": {
   "codemirror_mode": {
    "name": "ipython",
    "version": 3
   },
   "file_extension": ".py",
   "mimetype": "text/x-python",
   "name": "python",
   "nbconvert_exporter": "python",
   "pygments_lexer": "ipython3",
   "version": "3.11.6"
  }
 },
 "nbformat": 4,
 "nbformat_minor": 5
}
