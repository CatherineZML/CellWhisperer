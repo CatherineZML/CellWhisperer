{
 "cells": [
  {
   "cell_type": "code",
   "execution_count": null,
   "id": "7e637bea",
   "metadata": {},
   "outputs": [],
   "source": [
    "# start coding here\n",
    "import anndata\n",
    "import pandas as pd\n",
    "import torch\n",
    "from cellwhisperer.jointemb.cellwhisperer_lightning import TranscriptomeTextDualEncoderLightning\n",
    "from cellwhisperer.config import get_path, model_path_from_name\n",
    "from cellwhisperer.utils.inference import score_transcriptomes_vs_texts, rank_terms_by_score, prepare_terms\n"
   ]
  },
  {
   "cell_type": "code",
   "execution_count": null,
   "id": "1dd11840-1f2c-4706-9467-77da11029c28",
   "metadata": {},
   "outputs": [],
   "source": [
    "import cellwhisperer"
   ]
  },
  {
   "cell_type": "code",
   "execution_count": null,
   "id": "83bb3a46-510d-49da-848e-516b4623947c",
   "metadata": {},
   "outputs": [],
   "source": [
    "from typing import Tuple\n",
    "from cellwhisperer.jointemb.processing import TranscriptomeTextDualEncoderProcessor\n",
    "from cellwhisperer.jointemb.cellwhisperer_lightning import (\n",
    "    TranscriptomeTextDualEncoderLightning,\n",
    ")\n",
    "from pathlib import Path\n",
    "from cellwhisperer.utils.model_io import load_cellwhisperer_model\n"
   ]
  },
  {
   "cell_type": "code",
   "execution_count": null,
   "id": "a74e3a8e-5c3f-41c7-88ac-863727a59b9b",
   "metadata": {},
   "outputs": [],
   "source": [
    "adata = anndata.read_h5ad(snakemake.input.adata)"
   ]
  },
  {
   "cell_type": "code",
   "execution_count": null,
   "id": "03405bdf-2373-4b57-9e5b-e7de889fdf1a",
   "metadata": {},
   "outputs": [],
   "source": [
    "# load model\n",
    "modelpath = snakemake.input.model\n",
    "\n",
    "# TODO replace model path\n",
    "\n",
    "pl_model, tokenizer, transcriptome_processor = load_cellwhisperer_model(modelpath)"
   ]
  },
  {
   "cell_type": "code",
   "execution_count": null,
   "id": "a3ef99a8-bdc0-4b4c-9d8c-4afa8af16596",
   "metadata": {},
   "outputs": [],
   "source": [
    "adata.obs[\"index_int\"] = list(range(len(adata.obs)))"
   ]
  },
  {
   "cell_type": "code",
   "execution_count": null,
   "id": "fbeb698a-086a-4316-8903-c3db1e30e723",
   "metadata": {},
   "outputs": [],
   "source": [
    "# TODO group by cluster\n",
    "\n",
    "grouped_embeddings = adata.obs.groupby(\"leiden\").apply(lambda group: adata.X[group.index_int].mean(axis=0))\n"
   ]
  },
  {
   "cell_type": "code",
   "execution_count": null,
   "id": "70c2d57d-a701-4a5d-aee2-7b8e06227c45",
   "metadata": {},
   "outputs": [],
   "source": [
    "import numpy as np\n",
    "mean_embeddings = torch.from_numpy(np.stack(grouped_embeddings.values)).to(pl_model.device)"
   ]
  },
  {
   "cell_type": "code",
   "execution_count": null,
   "id": "aaee08ee-e81c-465a-a382-588fc278230c",
   "metadata": {},
   "outputs": [],
   "source": [
    "dfs = []\n",
    "for leiden, group in adata.obs.groupby(\"leiden\"):\n",
    "    group_embeds = torch.from_numpy(adata.X[group.index_int]).to(pl_model.device)\n",
    "\n",
    "    terms_df = prepare_terms(get_path([\"paths\", \"enrichr_terms_json\"])) \n",
    "    \n",
    "    scores, _ = score_transcriptomes_vs_texts(\n",
    "        transcriptome_input=group_embeds,\n",
    "        text_list_or_text_embeds=terms_df[\"term\"].to_list(),\n",
    "        logit_scale=pl_model.model.discriminator.temperature.exp(),\n",
    "        model=pl_model.model,\n",
    "        transcriptome_processor=transcriptome_processor,\n",
    "        average_mode=\"embeddings\",\n",
    "        score_norm_method=\"zscore\")\n",
    "    similarity_scores_df = rank_terms_by_score(scores, terms_df)\n",
    "    similarity_scores_df[\"leiden\"] = leiden\n",
    "    dfs.append(similarity_scores_df)\n",
    "similarity_scores_df = pd.concat(dfs)"
   ]
  },
  {
   "cell_type": "code",
   "execution_count": null,
   "id": "6795419b-f350-4237-b210-d3ea675c925d",
   "metadata": {},
   "outputs": [],
   "source": [
    "similarity_scores_df.to_csv(snakemake.output.csv)"
   ]
  },
  {
   "cell_type": "code",
   "execution_count": null,
   "id": "d8d348c7-f2b5-4a89-b0de-a27d1bdc76fe",
   "metadata": {},
   "outputs": [],
   "source": []
  }
 ],
 "metadata": {
  "kernelspec": {
   "display_name": "Python 3 (ipykernel)",
   "language": "python",
   "name": "python3"
  },
  "language_info": {
   "codemirror_mode": {
    "name": "ipython",
    "version": 3
   },
   "file_extension": ".py",
   "mimetype": "text/x-python",
   "name": "python",
   "nbconvert_exporter": "python",
   "pygments_lexer": "ipython3",
   "version": "3.10.13"
  }
 },
 "nbformat": 4,
 "nbformat_minor": 5
}
