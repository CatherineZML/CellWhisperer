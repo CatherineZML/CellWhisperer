{
 "cells": [
  {
   "cell_type": "code",
   "execution_count": null,
   "id": "a52c4a2e-cddd-4e41-a943-e5f4cf1bfe3d",
   "metadata": {},
   "outputs": [],
   "source": [
    "# start coding here\n",
    "import scanpy as sc\n",
    "import matplotlib.pyplot as plt\n",
    "import anndata\n",
    "\n",
    "adata = anndata.read_h5ad(snakemake.input.adata)"
   ]
  },
  {
   "cell_type": "code",
   "execution_count": null,
   "id": "194a20aa-15e7-4556-ac43-f426d4a8db23",
   "metadata": {},
   "outputs": [],
   "source": [
    "# Get the unique leiden clusters\n",
    "leiden_clusters = adata.obs['leiden'].unique()\n",
    "leiden_clusters"
   ]
  },
  {
   "cell_type": "code",
   "execution_count": null,
   "id": "a215959e-c144-4623-8bd8-275f81ebde8e",
   "metadata": {},
   "outputs": [],
   "source": [
    "import scanpy as sc\n",
    "import matplotlib.pyplot as plt\n",
    "import anndata\n",
    "\n",
    "adata = anndata.read_h5ad(snakemake.input.adata)\n",
    "# Save the plot in different formats as specified in the Snakemake rule\n",
    "for ext, filename in snakemake.output.items():\n",
    "    sc.pl.umap(adata, color='cluster_label', save=False, show=(ext==next(iter(snakemake.output.keys()))))\n",
    "    plt.savefig(filename)\n",
    "    plt.close()\n"
   ]
  },
  {
   "cell_type": "code",
   "execution_count": null,
   "id": "7449815c-7d86-4e00-a043-015c4c942d80",
   "metadata": {},
   "outputs": [],
   "source": []
  }
 ],
 "metadata": {
  "kernelspec": {
   "display_name": "Python 3 (ipykernel)",
   "language": "python",
   "name": "python3"
  },
  "language_info": {
   "codemirror_mode": {
    "name": "ipython",
    "version": 3
   },
   "file_extension": ".py",
   "mimetype": "text/x-python",
   "name": "python",
   "nbconvert_exporter": "python",
   "pygments_lexer": "ipython3",
   "version": "3.10.13"
  }
 },
 "nbformat": 4,
 "nbformat_minor": 5
}
